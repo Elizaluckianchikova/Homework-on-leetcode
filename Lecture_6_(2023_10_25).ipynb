{
  "cells": [
    {
      "cell_type": "markdown",
      "metadata": {
        "id": "view-in-github",
        "colab_type": "text"
      },
      "source": [
        "<a href=\"https://colab.research.google.com/github/Elizaluckianchikova/Homework-on-leetcode/blob/main/Lecture_6_(2023_10_25).ipynb\" target=\"_parent\"><img src=\"https://colab.research.google.com/assets/colab-badge.svg\" alt=\"Open In Colab\"/></a>"
      ]
    },
    {
      "cell_type": "markdown",
      "id": "e2f1a179",
      "metadata": {
        "id": "e2f1a179"
      },
      "source": [
        "# Lecture 6: Data Structure (Practice)"
      ]
    },
    {
      "cell_type": "code",
      "execution_count": null,
      "id": "01e31124",
      "metadata": {
        "colab": {
          "base_uri": "https://localhost:8080/"
        },
        "id": "01e31124",
        "outputId": "fb79840f-28cd-4414-b6ed-c40bf99b61ee"
      },
      "outputs": [
        {
          "output_type": "stream",
          "name": "stdout",
          "text": [
            "[1, 1]\n"
          ]
        }
      ],
      "source": [
        "# 118. Pascal's Triangle\n",
        "# https://leetcode.com/problems/pascals-triangle/\n",
        "\n",
        "# input\n",
        "numRows = 5  # [[1], [1, 1], [1, 2, 1], [1, 3, 3, 1], [1, 4, 6, 4, 1]]\n",
        "\n",
        "# solution\n",
        "\n",
        "elements = [1, 2, 1]     # [1, 3, 3, 1]\n",
        "elements = [1, 3, 3, 1]  # [1, 4, 6, 4, 1]\n",
        "elements = [1]           # [1, 1]\n",
        "\n",
        "# [1] + [elements[0] + elements[1]] + [elements[1] + elements[2]] + [1]\n",
        "\n",
        "new_elements = [1]\n",
        "for i in range(len(elements) - 1):  # 0, 1\n",
        "    new_elements.append(elements[i] + elements[i + 1])\n",
        "new_elements += [1]\n",
        "print(new_elements)"
      ]
    },
    {
      "cell_type": "code",
      "execution_count": null,
      "id": "1e136267",
      "metadata": {
        "colab": {
          "base_uri": "https://localhost:8080/"
        },
        "id": "1e136267",
        "outputId": "54f4cd38-38fc-4472-e446-d51e7ce1780c"
      },
      "outputs": [
        {
          "output_type": "stream",
          "name": "stdout",
          "text": [
            "iteration: 1\n",
            "elements: [1]\n",
            "new_elements: [1, 1]\n",
            "answer: [[1], [1, 1]]\n",
            "\n",
            "iteration: 2\n",
            "elements: [1, 1]\n",
            "new_elements: [1, 2, 1]\n",
            "answer: [[1], [1, 1], [1, 2, 1]]\n",
            "\n",
            "iteration: 3\n",
            "elements: [1, 2, 1]\n",
            "new_elements: [1, 3, 3, 1]\n",
            "answer: [[1], [1, 1], [1, 2, 1], [1, 3, 3, 1]]\n",
            "\n",
            "[[1], [1, 1], [1, 2, 1], [1, 3, 3, 1]]\n"
          ]
        }
      ],
      "source": [
        "# 118. Pascal's Triangle\n",
        "# https://leetcode.com/problems/pascals-triangle/\n",
        "\n",
        "# input\n",
        "numRows = 4  # [[1], [1, 1], [1, 2, 1], [1, 3, 3, 1], [1, 4, 6, 4, 1]]\n",
        "\n",
        "# solution\n",
        "answer = [[1]]\n",
        "for i in range(1, numRows):\n",
        "    print(f\"iteration: {i}\")\n",
        "\n",
        "    elements = answer[-1]\n",
        "    print(f\"elements: {elements}\")\n",
        "\n",
        "    new_elements = [1]\n",
        "    for i in range(len(elements) - 1):\n",
        "        new_elements.append(elements[i] + elements[i + 1])\n",
        "    new_elements += [1]\n",
        "    print(f\"new_elements: {new_elements}\")\n",
        "\n",
        "    answer.append(new_elements)\n",
        "    print(f\"answer: {answer}\")\n",
        "    print()\n",
        "\n",
        "print(answer)"
      ]
    },
    {
      "cell_type": "code",
      "execution_count": null,
      "id": "a8ade53f",
      "metadata": {
        "colab": {
          "base_uri": "https://localhost:8080/"
        },
        "id": "a8ade53f",
        "outputId": "ed35970f-643b-46f5-8f63-421f2ff3fd51"
      },
      "outputs": [
        {
          "output_type": "stream",
          "name": "stdout",
          "text": [
            "iteration: 1\n",
            "elements: [1]\n",
            "new_elements: [1, 1]\n",
            "answer: [[1], [1, 1]]\n",
            "\n",
            "iteration: 2\n",
            "elements: [1, 1]\n",
            "new_elements: [1, 2, 1]\n",
            "answer: [[1], [1, 1], [1, 2, 1]]\n",
            "\n",
            "iteration: 3\n",
            "elements: [1, 2, 1]\n",
            "new_elements: [1, 3, 3, 1]\n",
            "answer: [[1], [1, 1], [1, 2, 1], [1, 3, 3, 1]]\n",
            "\n",
            "[1, 3, 3, 1]\n"
          ]
        }
      ],
      "source": [
        "# 119. Pascal's Triangle II\n",
        "# https://leetcode.com/problems/pascals-triangle-ii/\n",
        "\n",
        "# input\n",
        "rowIndex = 3  # [1, 3, 3, 1]\n",
        "\n",
        "# solution\n",
        "numRows = rowIndex + 1\n",
        "\n",
        "answer = [[1]]\n",
        "for i in range(1, numRows):\n",
        "    print(f\"iteration: {i}\")\n",
        "\n",
        "    elements = answer[-1]\n",
        "    print(f\"elements: {elements}\")\n",
        "\n",
        "    new_elements = [1]\n",
        "    for i in range(len(elements) - 1):\n",
        "        new_elements.append(elements[i] + elements[i + 1])\n",
        "    new_elements += [1]\n",
        "    print(f\"new_elements: {new_elements}\")\n",
        "\n",
        "    answer.append(new_elements)\n",
        "    print(f\"answer: {answer}\")\n",
        "    print()\n",
        "\n",
        "print(answer[-1])"
      ]
    },
    {
      "cell_type": "code",
      "execution_count": null,
      "id": "18e89937",
      "metadata": {
        "colab": {
          "base_uri": "https://localhost:8080/"
        },
        "id": "18e89937",
        "outputId": "07ea0439-2925-4227-bed8-ce7feaaafac8"
      },
      "outputs": [
        {
          "output_type": "stream",
          "name": "stdout",
          "text": [
            "{4: 1, 3: 2, 2: 2, 7: 1, 8: 1, 1: 1}\n",
            "[3, 2]\n"
          ]
        }
      ],
      "source": [
        "# 442. Find All Duplicates in an Array\n",
        "# https://leetcode.com/problems/find-all-duplicates-in-an-array/description/\n",
        "\n",
        "# input\n",
        "nums = [4, 3, 2, 7, 8, 2, 3, 1]\n",
        "# nums = [1, 1, 2]\n",
        "\n",
        "d = {}  # key=element : value=count\n",
        "for num in nums:\n",
        "    if num in d.keys():\n",
        "        d[num] += 1\n",
        "    else:\n",
        "        d[num] = 1\n",
        "print(d)\n",
        "\n",
        "answer = []\n",
        "for num in d.keys():\n",
        "    if d[num] > 1:\n",
        "        answer.append(num)\n",
        "print(answer)"
      ]
    },
    {
      "cell_type": "code",
      "execution_count": null,
      "id": "0a339f69",
      "metadata": {
        "colab": {
          "base_uri": "https://localhost:8080/"
        },
        "id": "0a339f69",
        "outputId": "a2a806f7-dbf9-442a-f5c3-ad69ddd5b7d4"
      },
      "outputs": [
        {
          "output_type": "stream",
          "name": "stdout",
          "text": [
            "{1: 0, 2: 0, 3: 0, 4: 0, 5: 0, 6: 0, 7: 0, 8: 0, 9: 0, 10: 0}\n"
          ]
        }
      ],
      "source": [
        "n = 10\n",
        "d = {i : 0 for i in range(1, n + 1)}\n",
        "print(d)"
      ]
    },
    {
      "cell_type": "code",
      "execution_count": null,
      "id": "40257a35",
      "metadata": {
        "colab": {
          "base_uri": "https://localhost:8080/"
        },
        "id": "40257a35",
        "outputId": "a9e3563e-c2d3-472e-aa95-b9c2a0742786"
      },
      "outputs": [
        {
          "output_type": "stream",
          "name": "stdout",
          "text": [
            "[2, 3]\n"
          ]
        }
      ],
      "source": [
        "# input\n",
        "nums = [4, 3, 2, 7, 8, 2, 3, 1]\n",
        "\n",
        "# solution\n",
        "answer = []\n",
        "for i in range(len(nums)):\n",
        "    if nums[abs(nums[i]) - 1] < 0:\n",
        "        answer.append(abs(nums[i]))\n",
        "    else:\n",
        "        nums[abs(nums[i]) - 1] = -nums[abs(nums[i]) - 1]\n",
        "print(answer)"
      ]
    },
    {
      "cell_type": "code",
      "execution_count": null,
      "id": "974c820c",
      "metadata": {
        "colab": {
          "base_uri": "https://localhost:8080/"
        },
        "id": "974c820c",
        "outputId": "4a5fdfc4-a00a-4812-b86e-821b8043604e"
      },
      "outputs": [
        {
          "output_type": "stream",
          "name": "stdout",
          "text": [
            "[4, 3, 2, 7, 8, 2, 3, 1]\n"
          ]
        }
      ],
      "source": [
        "rs = []\n",
        "for num in nums:\n",
        "    num = abs(num)\n",
        "    if nums[num - 1] < 0:\n",
        "        rs.append(num)\n",
        "    else:\n",
        "        nums[num - 1] = -nums[num - 1]\n",
        "print(rs)"
      ]
    },
    {
      "cell_type": "code",
      "execution_count": null,
      "id": "fa2d7d2d",
      "metadata": {
        "id": "fa2d7d2d"
      },
      "outputs": [],
      "source": []
    },
    {
      "cell_type": "code",
      "execution_count": null,
      "id": "62c0de62",
      "metadata": {
        "colab": {
          "base_uri": "https://localhost:8080/"
        },
        "id": "62c0de62",
        "outputId": "7cb93506-a4db-4971-938a-a4bddac4bffd"
      },
      "outputs": [
        {
          "output_type": "stream",
          "name": "stdout",
          "text": [
            "[3, 2]\n"
          ]
        }
      ],
      "source": [
        "from collections import Counter\n",
        "\n",
        "# input\n",
        "nums = [4, 3, 2, 7, 8, 2, 3, 1]\n",
        "\n",
        "# solution\n",
        "cnt = Counter(nums)\n",
        "answer = [num for num in cnt if cnt[num] > 1]\n",
        "print(answer)"
      ]
    },
    {
      "cell_type": "markdown",
      "id": "90e0166f",
      "metadata": {
        "id": "90e0166f"
      },
      "source": [
        "# Homework"
      ]
    },
    {
      "cell_type": "code",
      "execution_count": null,
      "id": "4020610d",
      "metadata": {
        "id": "4020610d"
      },
      "outputs": [],
      "source": [
        "# 1. Majority Element (LeetCode: 169)\n",
        "# https://leetcode.com/problems/majority-element/\n",
        "\n",
        "# 2. Keyboard Row (LeetCode: 500)\n",
        "# https://leetcode.com/problems/keyboard-row/description/\n",
        "\n",
        "# 3. Sum of Unique Elements (LeetCode: 1748)\n",
        "# https://leetcode.com/problems/sum-of-unique-elements/\n",
        "\n",
        "# 4. Rings and Rods (LeetCode: 2103)\n",
        "# https://leetcode.com/problems/rings-and-rods/description/\n",
        "\n",
        "# 5. Two Out of Three (LeetCode: 2032)\n",
        "# https://leetcode.com/problems/two-out-of-three/\n",
        "\n",
        "# 6. Percentage of Letter in String (LeetCode: 2278)\n",
        "# https://leetcode.com/problems/percentage-of-letter-in-string/description/\n",
        "\n",
        "# 7. Uncommon Words from Two Sentences (LeetCode: 884)\n",
        "# https://leetcode.com/problems/uncommon-words-from-two-sentences/description/\n",
        "\n",
        "# 8. Find the Difference (LeetCode: 389)\n",
        "# https://leetcode.com/problems/find-the-difference/description/\n",
        "\n",
        "# 9. Maximum Number of Words You Can Type (LeetCode: 1935)\n",
        "# https://leetcode.com/problems/maximum-number-of-words-you-can-type/\n",
        "\n",
        "# 10. Repeated DNA Sequences (LeetCode: 187)\n",
        "# https://leetcode.com/problems/repeated-dna-sequences/description/"
      ]
    },
    {
      "cell_type": "markdown",
      "source": [
        "**169. Majority Element**\n",
        "\n",
        "Given an array nums of size n, return the majority element.\n",
        "\n",
        "The majority element is the element that appears more than ⌊n / 2⌋ times. You may assume that the majority element always exists in the array.\n",
        "\n",
        "\n",
        "\n",
        "Example 1:\n",
        "\n",
        "Input: nums = [3,2,3]\n",
        "Output: 3\n",
        "Example 2:\n",
        "\n",
        "Input: nums = [2,2,1,1,1,2,2]\n",
        "Output: 2\n",
        "\n",
        "\n",
        "Constraints:\n",
        "\n",
        "n == nums.length\n",
        "1 <= n <= 5 * 104\n",
        "-109 <= nums[i] <= 109"
      ],
      "metadata": {
        "id": "WHeMo14T0Mpu"
      },
      "id": "WHeMo14T0Mpu"
    },
    {
      "cell_type": "code",
      "source": [
        "class Solution(object):\n",
        "    def majorityElement(self, nums):\n",
        "        \"\"\"\n",
        "        :type nums: List[int]\n",
        "        :rtype: int\n",
        "        \"\"\"\n",
        "        candidate = 0\n",
        "        counter = 0\n",
        "        for val in nums:\n",
        "            if counter == 0:\n",
        "                candidate = val\n",
        "\n",
        "            if candidate == val:\n",
        "                counter += 1\n",
        "            else:\n",
        "                counter -= 1\n",
        "\n",
        "        return candidate"
      ],
      "metadata": {
        "id": "M0XwkcI10TpD"
      },
      "id": "M0XwkcI10TpD",
      "execution_count": null,
      "outputs": []
    },
    {
      "cell_type": "markdown",
      "source": [
        "**229. Majority Element II**\n",
        "\n",
        "Given an integer array of size n, find all elements that appear more than ⌊ n/3 ⌋ times.\n",
        "\n",
        "\n",
        "\n",
        "Example 1:\n",
        "\n",
        "Input: nums = [3,2,3]\n",
        "Output: [3]\n",
        "Example 2:\n",
        "\n",
        "Input: nums = [1]\n",
        "Output: [1]\n",
        "Example 3:\n",
        "\n",
        "Input: nums = [1,2]\n",
        "Output: [1,2]\n",
        "\n",
        "\n",
        "Constraints:\n",
        "\n",
        "1 <= nums.length <= 5 * 104\n",
        "-109 <= nums[i] <= 109\n",
        "\n",
        "\n",
        "Follow up: Could you solve the problem in linear time and in O(1) space?"
      ],
      "metadata": {
        "id": "l0Nr92Zv0uyP"
      },
      "id": "l0Nr92Zv0uyP"
    },
    {
      "cell_type": "code",
      "source": [
        "class Solution(object):\n",
        "    def majorityElement(self, nums):\n",
        "        \"\"\"\n",
        "        :type nums: List[int]\n",
        "        :rtype: List[int]\n",
        "        \"\"\"\n",
        "        candidate1 = 0\n",
        "        candidate2 = 1 # should be different from candidate1\n",
        "        count1 = 0\n",
        "        count2 = 0\n",
        "\n",
        "        for n in nums:\n",
        "\n",
        "            if candidate1 == n:\n",
        "                count1 += 1\n",
        "            elif candidate2 == n:\n",
        "                count2 += 1\n",
        "            elif count1 == 0:\n",
        "                candidate1, count1 = n, 1\n",
        "            elif count2 == 0:\n",
        "                candidate2, count2 = n, 1\n",
        "            else:\n",
        "                count1 -= 1\n",
        "                count2 -= 1\n",
        "\n",
        "        return [n for n in (candidate1, candidate2) if nums.count(n) > len(nums)//3]"
      ],
      "metadata": {
        "id": "oth-NrSk1pMr"
      },
      "id": "oth-NrSk1pMr",
      "execution_count": null,
      "outputs": []
    },
    {
      "cell_type": "markdown",
      "source": [
        "**500. Keyboard Row**\n",
        "\n",
        "Given an array of strings words, return the words that can be typed using letters of the alphabet on only one row of American keyboard like the image below.\n",
        "\n",
        "In the American keyboard:\n",
        "\n",
        "the first row consists of the characters \"qwertyuiop\",\n",
        "the second row consists of the characters \"asdfghjkl\", and\n",
        "the third row consists of the characters \"zxcvbnm\".\n",
        "\n",
        "\n",
        "\n",
        "Example 1:\n",
        "\n",
        "Input: words = [\"Hello\",\"Alaska\",\"Dad\",\"Peace\"]\n",
        "Output: [\"Alaska\",\"Dad\"]\n",
        "Example 2:\n",
        "\n",
        "Input: words = [\"omk\"]\n",
        "Output: []\n",
        "Example 3:\n",
        "\n",
        "Input: words = [\"adsdf\",\"sfd\"]\n",
        "Output: [\"adsdf\",\"sfd\"]\n",
        "\n",
        "\n",
        "Constraints:\n",
        "\n",
        "1 <= words.length <= 20\n",
        "1 <= words[i].length <= 100\n",
        "words[i] consists of English letters (both lowercase and uppercase)."
      ],
      "metadata": {
        "id": "roJNCUy62VQH"
      },
      "id": "roJNCUy62VQH"
    },
    {
      "cell_type": "code",
      "source": [
        "class Solution(object):\n",
        "    def findWords(self, words):\n",
        "        \"\"\"\n",
        "        :type words: List[str]\n",
        "        :rtype: List[str]\n",
        "        \"\"\"\n",
        "        dicz = {'z','x','c','v','b','n','m'};\n",
        "        dica = {'a','s','d','f','g','h','j','k','l'};\n",
        "        dicq = {'q','w','e','r','t','y','u','i','o','p'};\n",
        "        re = [];\n",
        "        for Word in words:\n",
        "            countz = 0;\n",
        "            counta = 0;\n",
        "            countq = 0;\n",
        "            word = Word.lower()\n",
        "            for dic in dicz:\n",
        "                countz = countz + word.count(dic);\n",
        "            for dic in dica:\n",
        "                counta = counta + word.count(dic);\n",
        "            for dic in dicq:\n",
        "                countq = countq + word.count(dic);\n",
        "            if countz == len(word) or counta == len(word) or countq == len(word):\n",
        "                re.append(Word)\n",
        "        return re"
      ],
      "metadata": {
        "id": "3xqosmpd2Y9L"
      },
      "id": "3xqosmpd2Y9L",
      "execution_count": null,
      "outputs": []
    },
    {
      "cell_type": "markdown",
      "source": [
        "**1748. Sum of Unique Elements**\n",
        "\n",
        "You are given an integer array nums. The unique elements of an array are the elements that appear exactly once in the array.\n",
        "\n",
        "Return the sum of all the unique elements of nums.\n",
        "\n",
        "\n",
        "\n",
        "Example 1:\n",
        "\n",
        "Input: nums = [1,2,3,2]\n",
        "Output: 4\n",
        "Explanation: The unique elements are [1,3], and the sum is 4.\n",
        "Example 2:\n",
        "\n",
        "Input: nums = [1,1,1,1,1]\n",
        "Output: 0\n",
        "Explanation: There are no unique elements, and the sum is 0.\n",
        "Example 3:\n",
        "\n",
        "Input: nums = [1,2,3,4,5]\n",
        "Output: 15\n",
        "Explanation: The unique elements are [1,2,3,4,5], and the sum is 15.\n",
        "\n",
        "\n",
        "Constraints:\n",
        "\n",
        "1 <= nums.length <= 100\n",
        "1 <= nums[i] <= 100"
      ],
      "metadata": {
        "id": "uZ6JF3SS3Luy"
      },
      "id": "uZ6JF3SS3Luy"
    },
    {
      "cell_type": "code",
      "source": [
        "class Solution(object):\n",
        "    def sumOfUnique(self, nums):\n",
        "        \"\"\"\n",
        "        :type nums: List[int]\n",
        "        :rtype: int\n",
        "        \"\"\"\n",
        "        cnt = Counter(nums)\n",
        "        return sum(x for x, v in cnt.items() if v == 1)"
      ],
      "metadata": {
        "id": "pcx7xqii3PTw"
      },
      "id": "pcx7xqii3PTw",
      "execution_count": null,
      "outputs": []
    },
    {
      "cell_type": "markdown",
      "source": [
        "**2131. Longest Palindrome by Concatenating Two Letter Words**\n",
        "\n",
        "You are given an array of strings words. Each element of words consists of two lowercase English letters.\n",
        "\n",
        "Create the longest possible palindrome by selecting some elements from words and concatenating them in any order. Each element can be selected at most once.\n",
        "\n",
        "Return the length of the longest palindrome that you can create. If it is impossible to create any palindrome, return 0.\n",
        "\n",
        "A palindrome is a string that reads the same forward and backward.\n",
        "\n",
        "\n",
        "\n",
        "Example 1:\n",
        "\n",
        "Input: words = [\"lc\",\"cl\",\"gg\"]\n",
        "Output: 6\n",
        "Explanation: One longest palindrome is \"lc\" + \"gg\" + \"cl\" = \"lcggcl\", of length 6.\n",
        "Note that \"clgglc\" is another longest palindrome that can be created.\n",
        "Example 2:\n",
        "\n",
        "Input: words = [\"ab\",\"ty\",\"yt\",\"lc\",\"cl\",\"ab\"]\n",
        "Output: 8\n",
        "Explanation: One longest palindrome is \"ty\" + \"lc\" + \"cl\" + \"yt\" = \"tylcclyt\", of length 8.\n",
        "Note that \"lcyttycl\" is another longest palindrome that can be created.\n",
        "Example 3:\n",
        "\n",
        "Input: words = [\"cc\",\"ll\",\"xx\"]\n",
        "Output: 2\n",
        "Explanation: One longest palindrome is \"cc\", of length 2.\n",
        "Note that \"ll\" is another longest palindrome that can be created, and so is \"xx\".\n",
        "\n",
        "\n",
        "Constraints:\n",
        "\n",
        "1 <= words.length <= 105\n",
        "words[i].length == 2\n",
        "words[i] consists of lowercase English letters."
      ],
      "metadata": {
        "id": "YMFQEUmr38aK"
      },
      "id": "YMFQEUmr38aK"
    },
    {
      "cell_type": "code",
      "source": [
        "class Solution(object):\n",
        "    def longestPalindrome(self, words):\n",
        "        \"\"\"\n",
        "        :type words: List[str]\n",
        "        :rtype: int\n",
        "        \"\"\"\n",
        "        ans = 0\n",
        "        count = [[0] * 26 for _ in range(26)]\n",
        "\n",
        "        for word in words:\n",
        "            i = ord(word[0]) - ord('a')\n",
        "            j = ord(word[1]) - ord('a')\n",
        "            if count[j][i]:\n",
        "                ans += 4\n",
        "                count[j][i] -= 1\n",
        "            else:\n",
        "                count[i][j] += 1\n",
        "\n",
        "\n",
        "        for i in range(26):\n",
        "            if count[i][i]:\n",
        "                return ans + 2\n",
        "\n",
        "\n",
        "        return ans"
      ],
      "metadata": {
        "id": "3JAe1KzE4A3J"
      },
      "id": "3JAe1KzE4A3J",
      "execution_count": null,
      "outputs": []
    },
    {
      "cell_type": "markdown",
      "source": [
        "**103. Rings and Rods**\n",
        "\n",
        "There are n rings and each ring is either red, green, or blue. The rings are distributed across ten rods labeled from 0 to 9.\n",
        "\n",
        "You are given a string rings of length 2n that describes the n rings that are placed onto the rods. Every two characters in rings forms a color-position pair that is used to describe each ring where:\n",
        "\n",
        "The first character of the ith pair denotes the ith ring's color ('R', 'G', 'B').\n",
        "The second character of the ith pair denotes the rod that the ith ring is placed on ('0' to '9').\n",
        "For example, \"R3G2B1\" describes n == 3 rings: a red ring placed onto the rod labeled 3, a green ring placed onto the rod labeled 2, and a blue ring placed onto the rod labeled 1.\n",
        "\n",
        "Return the number of rods that have all three colors of rings on them.\n",
        "\n",
        "\n",
        "\n",
        "Example 1:\n",
        "\n",
        "\n",
        "Input: rings = \"B0B6G0R6R0R6G9\"\n",
        "Output: 1\n",
        "Explanation:\n",
        "- The rod labeled 0 holds 3 rings with all colors: red, green, and blue.\n",
        "- The rod labeled 6 holds 3 rings, but it only has red and blue.\n",
        "- The rod labeled 9 holds only a green ring.\n",
        "Thus, the number of rods with all three colors is 1.\n",
        "Example 2:\n",
        "\n",
        "\n",
        "Input: rings = \"B0R0G0R9R0B0G0\"\n",
        "Output: 1\n",
        "Explanation:\n",
        "- The rod labeled 0 holds 6 rings with all colors: red, green, and blue.\n",
        "- The rod labeled 9 holds only a red ring.\n",
        "Thus, the number of rods with all three colors is 1.\n",
        "Example 3:\n",
        "\n",
        "Input: rings = \"G4\"\n",
        "Output: 0\n",
        "Explanation:\n",
        "Only one ring is given. Thus, no rods have all three colors.\n",
        "\n",
        "\n",
        "Constraints:\n",
        "\n",
        "rings.length == 2 * n\n",
        "1 <= n <= 100\n",
        "rings[i] where i is even is either 'R', 'G', or 'B' (0-indexed).\n",
        "rings[i] where i is odd is a digit from '0' to '9' (0-indexed)."
      ],
      "metadata": {
        "id": "hRcGZXHi8GSe"
      },
      "id": "hRcGZXHi8GSe"
    },
    {
      "cell_type": "code",
      "source": [
        "class Solution(object):\n",
        "    def countPoints(self, rings):\n",
        "        \"\"\"\n",
        "        :type rings: str\n",
        "        :rtype: int\n",
        "        \"\"\"\n",
        "        colors = [0] * 10\n",
        "\n",
        "        for i in range(0, len(rings), 2):\n",
        "            c = rings[i]\n",
        "            color = 1 if c == 'R' else 2 if c == 'G' else 4\n",
        "            colors[int(rings[i + 1])] |= color\n",
        "\n",
        "        return colors.count(7)"
      ],
      "metadata": {
        "id": "pzjIuR6f8J6e"
      },
      "id": "pzjIuR6f8J6e",
      "execution_count": null,
      "outputs": []
    },
    {
      "cell_type": "markdown",
      "source": [
        "**2032. Two Out of Three**\n",
        "\n",
        "Given three integer arrays nums1, nums2, and nums3, return a distinct array containing all the values that are present in at least two out of the three arrays. You may return the values in any order.\n",
        "\n",
        "\n",
        "Example 1:\n",
        "\n",
        "Input: nums1 = [1,1,3,2], nums2 = [2,3], nums3 = [3]\n",
        "Output: [3,2]\n",
        "Explanation: The values that are present in at least two arrays are:\n",
        "- 3, in all three arrays.\n",
        "- 2, in nums1 and nums2.\n",
        "Example 2:\n",
        "\n",
        "Input: nums1 = [3,1], nums2 = [2,3], nums3 = [1,2]\n",
        "Output: [2,3,1]\n",
        "Explanation: The values that are present in at least two arrays are:\n",
        "- 2, in nums2 and nums3.\n",
        "- 3, in nums1 and nums2.\n",
        "- 1, in nums1 and nums3.\n",
        "Example 3:\n",
        "\n",
        "Input: nums1 = [1,2,2], nums2 = [4,3,3], nums3 = [5]\n",
        "Output: []\n",
        "Explanation: No value is present in at least two arrays.\n",
        "\n",
        "\n",
        "Constraints:\n",
        "\n",
        "1 <= nums1.length, nums2.length, nums3.length <= 100\n",
        "1 <= nums1[i], nums2[j], nums3[k] <= 100"
      ],
      "metadata": {
        "id": "7fgFCw8b-xsj"
      },
      "id": "7fgFCw8b-xsj"
    },
    {
      "cell_type": "code",
      "source": [
        "class Solution(object):\n",
        "    def twoOutOfThree(self, nums1, nums2, nums3):\n",
        "        \"\"\"\n",
        "        :type nums1: List[int]\n",
        "        :type nums2: List[int]\n",
        "        :type nums3: List[int]\n",
        "        :rtype: List[int]\n",
        "        \"\"\"\n",
        "        s1, s2, s3 = set(nums1), set(nums2), set(nums3)\n",
        "        return [i for i in range(1, 101) if (i in s1) + (i in s2) + (i in s3) > 1]"
      ],
      "metadata": {
        "id": "RFbslZdP-1L6"
      },
      "id": "RFbslZdP-1L6",
      "execution_count": null,
      "outputs": []
    },
    {
      "cell_type": "markdown",
      "source": [
        "**2278. Percentage of Letter in String**\n",
        "\n",
        "Given a string s and a character letter, return the percentage of characters in s that equal letter rounded down to the nearest whole percent.\n",
        "\n",
        "\n",
        "\n",
        "Example 1:\n",
        "\n",
        "Input: s = \"foobar\", letter = \"o\"\n",
        "Output: 33\n",
        "Explanation:\n",
        "The percentage of characters in s that equal the letter 'o' is 2 / 6 * 100% = 33% when rounded down, so we return 33.\n",
        "Example 2:\n",
        "\n",
        "Input: s = \"jjjj\", letter = \"k\"\n",
        "Output: 0\n",
        "Explanation:\n",
        "The percentage of characters in s that equal the letter 'k' is 0%, so we return 0.\n",
        "\n",
        "\n",
        "Constraints:\n",
        "\n",
        "1 <= s.length <= 100\n",
        "s consists of lowercase English letters.\n",
        "letter is a lowercase English letter."
      ],
      "metadata": {
        "id": "-bxwzSG0__dy"
      },
      "id": "-bxwzSG0__dy"
    },
    {
      "cell_type": "code",
      "source": [
        "class Solution(object):\n",
        "    def percentageLetter(self, s, letter):\n",
        "        \"\"\"\n",
        "        :type s: str\n",
        "        :type letter: str\n",
        "        :rtype: int\n",
        "        \"\"\"\n",
        "        return s.count(letter) * 100 // len(s)"
      ],
      "metadata": {
        "id": "c71BtrR9Akqp"
      },
      "id": "c71BtrR9Akqp",
      "execution_count": null,
      "outputs": []
    },
    {
      "cell_type": "markdown",
      "source": [
        "**884. Uncommon Words from Two Sentences**\n",
        "\n",
        "A sentence is a string of single-space separated words where each word consists only of lowercase letters.\n",
        "\n",
        "A word is uncommon if it appears exactly once in one of the sentences, and does not appear in the other sentence.\n",
        "\n",
        "Given two sentences s1 and s2, return a list of all the uncommon words. You may return the answer in any order.\n",
        "\n",
        "\n",
        "\n",
        "Example 1:\n",
        "\n",
        "Input: s1 = \"this apple is sweet\", s2 = \"this apple is sour\"\n",
        "Output: [\"sweet\",\"sour\"]\n",
        "Example 2:\n",
        "\n",
        "Input: s1 = \"apple apple\", s2 = \"banana\"\n",
        "Output: [\"banana\"]\n",
        "\n",
        "\n",
        "Constraints:\n",
        "\n",
        "1 <= s1.length, s2.length <= 200\n",
        "s1 and s2 consist of lowercase English letters and spaces.\n",
        "s1 and s2 do not have leading or trailing spaces.\n",
        "All the words in s1 and s2 are separated by a single space."
      ],
      "metadata": {
        "id": "hP6KjJMDBDAr"
      },
      "id": "hP6KjJMDBDAr"
    },
    {
      "cell_type": "code",
      "source": [
        "class Solution(object):\n",
        "    def uncommonFromSentences(self, s1, s2):\n",
        "        \"\"\"\n",
        "        :type s1: str\n",
        "        :type s2: str\n",
        "        :rtype: List[str]\n",
        "        \"\"\"\n",
        "        cnt = Counter(s1.split()) + Counter(s2.split())\n",
        "        return [s for s, v in cnt.items() if v == 1]\n"
      ],
      "metadata": {
        "id": "4ShVg0q9Bblu"
      },
      "id": "4ShVg0q9Bblu",
      "execution_count": null,
      "outputs": []
    },
    {
      "cell_type": "markdown",
      "source": [
        "**389. Find the Difference**\n",
        "\n",
        "You are given two strings s and t.\n",
        "\n",
        "String t is generated by random shuffling string s and then add one more letter at a random position.\n",
        "\n",
        "Return the letter that was added to t.\n",
        "\n",
        "\n",
        "\n",
        "Example 1:\n",
        "\n",
        "Input: s = \"abcd\", t = \"abcde\"\n",
        "Output: \"e\"\n",
        "Explanation: 'e' is the letter that was added.\n",
        "Example 2:\n",
        "\n",
        "Input: s = \"\", t = \"y\"\n",
        "Output: \"y\"\n",
        "\n",
        "\n",
        "Constraints:\n",
        "\n",
        "0 <= s.length <= 1000\n",
        "t.length == s.length + 1\n",
        "s and t consist of lowercase English letters."
      ],
      "metadata": {
        "id": "8SHpSqFGB1Sx"
      },
      "id": "8SHpSqFGB1Sx"
    },
    {
      "cell_type": "code",
      "source": [
        "class Solution(object):\n",
        "    def findTheDifference(self, s, t):\n",
        "        \"\"\"\n",
        "        :type s: str\n",
        "        :type t: str\n",
        "        :rtype: str\n",
        "        \"\"\"\n",
        "        c =0\n",
        "        for i in s:\n",
        "            c = c ^ ord(i)\n",
        "        for i  in t:\n",
        "            c = c ^ ord(i)\n",
        "        return chr(c)"
      ],
      "metadata": {
        "id": "z8V4Oq5dB4oI"
      },
      "id": "z8V4Oq5dB4oI",
      "execution_count": null,
      "outputs": []
    },
    {
      "cell_type": "markdown",
      "source": [
        "**1935. Maximum Number of Words You Can Type**\n",
        "\n",
        "There is a malfunctioning keyboard where some letter keys do not work. All other keys on the keyboard work properly.\n",
        "\n",
        "Given a string text of words separated by a single space (no leading or trailing spaces) and a string brokenLetters of all distinct letter keys that are broken, return the number of words in text you can fully type using this keyboard.\n",
        "\n",
        "\n",
        "\n",
        "Example 1:\n",
        "\n",
        "Input: text = \"hello world\", brokenLetters = \"ad\"\n",
        "Output: 1\n",
        "Explanation: We cannot type \"world\" because the 'd' key is broken.\n",
        "Example 2:\n",
        "\n",
        "Input: text = \"leet code\", brokenLetters = \"lt\"\n",
        "Output: 1\n",
        "Explanation: We cannot type \"leet\" because the 'l' and 't' keys are broken.\n",
        "Example 3:\n",
        "\n",
        "Input: text = \"leet code\", brokenLetters = \"e\"\n",
        "Output: 0\n",
        "Explanation: We cannot type either word because the 'e' key is broken.\n",
        "\n",
        "\n",
        "Constraints:\n",
        "\n",
        "1 <= text.length <= 104\n",
        "0 <= brokenLetters.length <= 26\n",
        "text consists of words separated by a single space without any leading or trailing spaces.\n",
        "Each word only consists of lowercase English letters.\n",
        "brokenLetters consists of distinct lowercase English letters."
      ],
      "metadata": {
        "id": "dxn-BmXwDDZ1"
      },
      "id": "dxn-BmXwDDZ1"
    },
    {
      "cell_type": "code",
      "source": [
        "class Solution(object):\n",
        "    def canBeTypedWords(self, text, brokenLetters):\n",
        "        \"\"\"\n",
        "        :type text: str\n",
        "        :type brokenLetters: str\n",
        "        :rtype: int\n",
        "        \"\"\"\n",
        "        letters = set(brokenLetters)\n",
        "        res = 0\n",
        "        for word in text.split():\n",
        "            find = False\n",
        "            for letter in letters:\n",
        "                if letter in word:\n",
        "                    find = True\n",
        "                    break\n",
        "            if not find:\n",
        "                res += 1\n",
        "        return res\n"
      ],
      "metadata": {
        "id": "Atwuk92GDZf9"
      },
      "id": "Atwuk92GDZf9",
      "execution_count": null,
      "outputs": []
    },
    {
      "cell_type": "markdown",
      "source": [
        "**1312. Minimum Insertion Steps to Make a String Palindrome**\n",
        "\n",
        "Given a string s. In one step you can insert any character at any index of the string.\n",
        "\n",
        "Return the minimum number of steps to make s palindrome.\n",
        "\n",
        "A Palindrome String is one that reads the same backward as well as forward.\n",
        "\n",
        "\n",
        "\n",
        "Example 1:\n",
        "\n",
        "Input: s = \"zzazz\"\n",
        "Output: 0\n",
        "Explanation: The string \"zzazz\" is already palindrome we do not need any insertions.\n",
        "Example 2:\n",
        "\n",
        "Input: s = \"mbadm\"\n",
        "Output: 2\n",
        "Explanation: String can be \"mbdadbm\" or \"mdbabdm\".\n",
        "Example 3:\n",
        "\n",
        "Input: s = \"leetcode\"\n",
        "Output: 5\n",
        "Explanation: Inserting 5 characters the string becomes \"leetcodocteel\".\n",
        "\n",
        "\n",
        "Constraints:\n",
        "\n",
        "1 <= s.length <= 500\n",
        "s consists of lowercase English letters."
      ],
      "metadata": {
        "id": "87BjjrjuDlpH"
      },
      "id": "87BjjrjuDlpH"
    },
    {
      "cell_type": "code",
      "source": [
        "class Solution(object):\n",
        "    def minInsertions(self, s):\n",
        "        \"\"\"\n",
        "        :type s: str\n",
        "        :rtype: int\n",
        "        \"\"\"\n",
        "        n = len(s)\n",
        "        dp = [[0]*(n+1) for i in range(n+1)]\n",
        "\n",
        "        for i in range(n):\n",
        "            for j in range(n):\n",
        "                dp[i+1][j+1] = dp[i][j] + 1 if s[i] == s[~j] else max(dp[i+1][j], dp[i][j+1])\n",
        "        return n - dp[n][n]"
      ],
      "metadata": {
        "id": "Le7QtQXsExwI"
      },
      "id": "Le7QtQXsExwI",
      "execution_count": null,
      "outputs": []
    },
    {
      "cell_type": "markdown",
      "source": [
        "**575. Distribute Candies**\n",
        "Alice has n candies, where the ith candy is of type candyType[i]. Alice noticed that she started to gain weight, so she visited a doctor.\n",
        "\n",
        "The doctor advised Alice to only eat n / 2 of the candies she has (n is always even). Alice likes her candies very much, and she wants to eat the maximum number of different types of candies while still following the doctor's advice.\n",
        "\n",
        "Given the integer array candyType of length n, return the maximum number of different types of candies she can eat if she only eats n / 2 of them.\n",
        "\n",
        "\n",
        "\n",
        "Example 1:\n",
        "\n",
        "Input: candyType = [1,1,2,2,3,3]\n",
        "Output: 3\n",
        "Explanation: Alice can only eat 6 / 2 = 3 candies. Since there are only 3 types, she can eat one of each type.\n",
        "Example 2:\n",
        "\n",
        "Input: candyType = [1,1,2,3]\n",
        "Output: 2\n",
        "Explanation: Alice can only eat 4 / 2 = 2 candies. Whether she eats types [1,2], [1,3], or [2,3], she still can only eat 2 different types.\n",
        "Example 3:\n",
        "\n",
        "Input: candyType = [6,6,6,6]\n",
        "Output: 1\n",
        "Explanation: Alice can only eat 4 / 2 = 2 candies. Even though she can eat 2 candies, she only has 1 type.\n",
        "\n",
        "\n",
        "Constraints:\n",
        "\n",
        "n == candyType.length\n",
        "2 <= n <= 104\n",
        "n is even.\n",
        "-105 <= candyType[i] <= 105"
      ],
      "metadata": {
        "id": "6yPwCjAPE6xO"
      },
      "id": "6yPwCjAPE6xO"
    },
    {
      "cell_type": "code",
      "source": [
        "class Solution(object):\n",
        "    def distributeCandies(self, candies):\n",
        "        \"\"\"\n",
        "        :type candies: List[int]\n",
        "        :rtype: int\n",
        "        \"\"\"\n",
        "        temp = list(set(candies))\n",
        "        max_kind = int(len(candies) / 2)\n",
        "        return len(temp) - max((len(temp) - max_kind), 0)\n",
        ""
      ],
      "metadata": {
        "id": "JBXgkhzqHQzD"
      },
      "id": "JBXgkhzqHQzD",
      "execution_count": null,
      "outputs": []
    },
    {
      "cell_type": "markdown",
      "source": [
        "**10. Regular Expression Matching**\n",
        "\n",
        "Given an input string s and a pattern p, implement regular expression matching with support for '.' and '*' where:\n",
        "\n",
        "'.' Matches any single character.​​​​\n",
        "'*' Matches zero or more of the preceding element.\n",
        "The matching should cover the entire input string (not partial).\n",
        "\n",
        "\n",
        "\n",
        "Example 1:\n",
        "\n",
        "Input: s = \"aa\", p = \"a\"\n",
        "Output: false\n",
        "Explanation: \"a\" does not match the entire string \"aa\"."
      ],
      "metadata": {
        "id": "3K5EHuAKGSCa"
      },
      "id": "3K5EHuAKGSCa"
    },
    {
      "cell_type": "code",
      "source": [
        "class Solution(object):\n",
        "    def isMatch(self, s, p):\n",
        "        \"\"\"\n",
        "        :type s: str\n",
        "        :type p: str\n",
        "        :rtype: bool\n",
        "        \"\"\"\n",
        "        m,n = len(s),len(p)\n",
        "\n",
        "        DP = [[False for j in range(n+1)] for i in range(m+1)]\n",
        "\n",
        "        DP[0][0] = True\n",
        "\n",
        "        for i in range(m+1):\n",
        "            for j in range(1,n+1):\n",
        "                if p[j-1]==\"*\":\n",
        "                    DP[i][j] = DP[i][j-2] or i>0 and DP[i-1][j] and (s[i-1]==p[j-2] or p[j-2]==\".\")\n",
        "                else:\n",
        "                    DP[i][j] = i>0 and DP[i-1][j-1] and (s[i-1]==p[j-1] or p[j-1]==\".\")\n",
        "\n",
        "        return DP[-1][-1]\n"
      ],
      "metadata": {
        "id": "TJA2TQ4mFFRY"
      },
      "id": "TJA2TQ4mFFRY",
      "execution_count": null,
      "outputs": []
    },
    {
      "cell_type": "markdown",
      "source": [
        "**187. Repeated DNA Sequences**\n",
        "\n",
        "The DNA sequence is composed of a series of nucleotides abbreviated as 'A', 'C', 'G', and 'T'.\n",
        "\n",
        "For example, \"ACGAATTCCG\" is a DNA sequence.\n",
        "When studying DNA, it is useful to identify repeated sequences within the DNA.\n",
        "\n",
        "Given a string s that represents a DNA sequence, return all the 10-letter-long sequences (substrings) that occur more than once in a DNA molecule. You may return the answer in any order.\n",
        "\n",
        "\n",
        "\n",
        "Example 1:\n",
        "\n",
        "Input: s = \"AAAAACCCCCAAAAACCCCCCAAAAAGGGTTT\"\n",
        "Output: [\"AAAAACCCCC\",\"CCCCCAAAAA\"]\n",
        "Example 2:\n",
        "\n",
        "Input: s = \"AAAAAAAAAAAAA\"\n",
        "Output: [\"AAAAAAAAAA\"]\n",
        "\n",
        "\n",
        "Constraints:\n",
        "\n",
        "1 <= s.length <= 105\n",
        "s[i] is either 'A', 'C', 'G', or 'T'."
      ],
      "metadata": {
        "id": "6DvRNiKmLAsu"
      },
      "id": "6DvRNiKmLAsu"
    },
    {
      "cell_type": "code",
      "source": [
        "class Solution(object):\n",
        "    def findRepeatedDnaSequences(self, s):\n",
        "        \"\"\"\n",
        "        :type s: str\n",
        "        :rtype: List[str]\n",
        "        \"\"\"\n",
        "        seen = set()\n",
        "        res = set()\n",
        "        for i in range(len(s) - 9):\n",
        "            tmp=s[i: i + 10]\n",
        "            if tmp in seen:\n",
        "                res.add(tmp)\n",
        "            else:\n",
        "                seen.add(tmp)\n",
        "        return res\n",
        ""
      ],
      "metadata": {
        "id": "XEBA7558LDrR"
      },
      "id": "XEBA7558LDrR",
      "execution_count": null,
      "outputs": []
    }
  ],
  "metadata": {
    "kernelspec": {
      "display_name": "Python 3 (ipykernel)",
      "language": "python",
      "name": "python3"
    },
    "language_info": {
      "codemirror_mode": {
        "name": "ipython",
        "version": 3
      },
      "file_extension": ".py",
      "mimetype": "text/x-python",
      "name": "python",
      "nbconvert_exporter": "python",
      "pygments_lexer": "ipython3",
      "version": "3.9.12"
    },
    "colab": {
      "provenance": [],
      "include_colab_link": true
    }
  },
  "nbformat": 4,
  "nbformat_minor": 5
}