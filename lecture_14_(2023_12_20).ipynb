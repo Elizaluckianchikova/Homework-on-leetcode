{
  "cells": [
    {
      "cell_type": "markdown",
      "metadata": {
        "id": "view-in-github",
        "colab_type": "text"
      },
      "source": [
        "<a href=\"https://colab.research.google.com/github/Elizaluckianchikova/Homework-on-leetcode/blob/main/lecture_14_(2023_12_20).ipynb\" target=\"_parent\"><img src=\"https://colab.research.google.com/assets/colab-badge.svg\" alt=\"Open In Colab\"/></a>"
      ]
    },
    {
      "cell_type": "markdown",
      "metadata": {
        "id": "hkgkR2EtbBZ7"
      },
      "source": [
        "# Lecture 14: Data Science Tools: Matplotlib"
      ]
    },
    {
      "cell_type": "code",
      "execution_count": null,
      "metadata": {
        "id": "KqxfrjBtbBaC"
      },
      "outputs": [],
      "source": [
        "import numpy as np\n",
        "\n",
        "import matplotlib.pyplot as plt\n",
        "# %matplotlib inline\n",
        "%matplotlib notebook\n",
        "\n",
        "# \"%matplotlib inline\"   will lead to static images of your plot embedded in the notebook\n",
        "# \"%matplotlib notebook\" will lead to interactive plots embedded within the notebook"
      ]
    },
    {
      "cell_type": "markdown",
      "metadata": {
        "id": "H7TJal3ObBaG"
      },
      "source": [
        "The most important function in matplotlib is plot, which allows you to plot 2D data. Here is a simple example:"
      ]
    },
    {
      "cell_type": "code",
      "execution_count": null,
      "metadata": {
        "id": "E0uFKck_bBaI"
      },
      "outputs": [],
      "source": [
        "# Compute the x and y coordinates for points on a sine curve\n",
        "x = np.arange(0, 3 * np.pi, 0.1)\n",
        "y = np.sin(x)\n",
        "\n",
        "print(x[:5])\n",
        "print(y[:5])\n",
        "\n",
        "# Plot the points using matplotlib\n",
        "plt.plot(x, y)"
      ]
    },
    {
      "cell_type": "markdown",
      "metadata": {
        "id": "GS44pk-jbBaJ"
      },
      "source": [
        "With just a little bit of extra work we can easily plot multiple lines at once, and add a title, legend, and axis labels:"
      ]
    },
    {
      "cell_type": "code",
      "execution_count": null,
      "metadata": {
        "id": "ejtBV0HvbBaK"
      },
      "outputs": [],
      "source": [
        "y_sin = np.sin(x)\n",
        "y_cos = np.cos(x)\n",
        "\n",
        "# Plot the points using matplotlib\n",
        "plt.plot(x, y_sin)\n",
        "plt.plot(x, y_cos)\n",
        "plt.xlabel('x axis label')\n",
        "plt.ylabel('y axis label')\n",
        "plt.title('Sine and Cosine')\n",
        "plt.legend(['Sine', 'Cosine'])\n",
        "plt.show()"
      ]
    },
    {
      "cell_type": "markdown",
      "metadata": {
        "id": "hj1wc2Y9bBaL"
      },
      "source": [
        "You can plot different things in the same figure using the subplot function. Here is an example:"
      ]
    },
    {
      "cell_type": "code",
      "execution_count": null,
      "metadata": {
        "id": "eKdCi9eybBaM"
      },
      "outputs": [],
      "source": [
        "# Compute the x and y coordinates for points on sine and cosine curves\n",
        "x = np.arange(0, 3 * np.pi, 0.1)\n",
        "y_sin = np.sin(x)\n",
        "y_cos = np.cos(x)\n",
        "\n",
        "# Set up a subplot grid that has height 2 and width 1,\n",
        "# and set the first such subplot as active.\n",
        "plt.subplot(2, 1, 1)\n",
        "plt.plot(x, y_sin)  # Make the first plot\n",
        "plt.title('Sine')\n",
        "\n",
        "# Set the second subplot as active, and make the second plot.\n",
        "plt.subplot(2, 1, 2)\n",
        "plt.plot(x, y_cos)  # Make the second plot\n",
        "plt.title('Cosine')\n",
        "\n",
        "# Show the figure.\n",
        "plt.show()"
      ]
    },
    {
      "cell_type": "markdown",
      "metadata": {
        "id": "mSpr1_ZcbBaN"
      },
      "source": [
        "You can read much more about the `subplot` function in the [documentation](http://matplotlib.org/api/pyplot_api.html#matplotlib.pyplot.subplot)."
      ]
    },
    {
      "cell_type": "markdown",
      "metadata": {
        "id": "stMZpA2pbBaO"
      },
      "source": [
        "### Adjusting the Plot: Line Colors and Styles\n",
        "\n",
        "The first adjustment you might wish to make to a plot is to control the line colors and styles."
      ]
    },
    {
      "cell_type": "code",
      "execution_count": null,
      "metadata": {
        "id": "dZT28yMsbBaP"
      },
      "outputs": [],
      "source": [
        "x = np.linspace(0, 10, 1000)\n",
        "\n",
        "plt.plot(x, np.sin(x - 0), color='blue')        # specify color by name\n",
        "plt.plot(x, np.sin(x - 1), color='g')           # short color code (rgbcmyk)\n",
        "\n",
        "plt.plot(x, np.sin(x - 2), color='0.75')        # Grayscale between 0 and 1\n",
        "plt.plot(x, np.sin(x - 3), color='#FFDD44')     # Hex code (RRGGBB from 00 to FF)\n",
        "plt.plot(x, np.sin(x - 4), color=(1.0,0.2,0.3)) # RGB tuple, values 0 to 1\n",
        "plt.plot(x, np.sin(x - 5), color='chartreuse'); # all HTML color names supported"
      ]
    },
    {
      "cell_type": "markdown",
      "metadata": {
        "id": "P2RE5NGrbBaQ"
      },
      "source": [
        "Similarly, the line style can be adjusted using the linestyle keyword:"
      ]
    },
    {
      "cell_type": "code",
      "execution_count": null,
      "metadata": {
        "id": "az48q4aCbBaR"
      },
      "outputs": [],
      "source": [
        "plt.plot(x, x + 0, linestyle='solid')\n",
        "plt.plot(x, x + 1, linestyle='dashed')\n",
        "plt.plot(x, x + 2, linestyle='dashdot')\n",
        "plt.plot(x, x + 3, linestyle='dotted');\n",
        "\n",
        "# For short, you can use the following codes:\n",
        "plt.plot(x, x + 4, linestyle='-')  # solid\n",
        "plt.plot(x, x + 5, linestyle='--') # dashed\n",
        "plt.plot(x, x + 6, linestyle='-.') # dashdot\n",
        "plt.plot(x, x + 7, linestyle=':'); # dotted"
      ]
    },
    {
      "cell_type": "markdown",
      "metadata": {
        "id": "OFTsDo5hbBaS"
      },
      "source": [
        "If you would like to be extremely terse, these linestyle and color codes can be combined into a single non-keyword argument to the plt.plot() function:"
      ]
    },
    {
      "cell_type": "code",
      "execution_count": null,
      "metadata": {
        "id": "5uTwWzXhbBaT"
      },
      "outputs": [],
      "source": [
        "plt.plot(x, x + 0, '-g')  # solid green\n",
        "plt.plot(x, x + 1, '--c') # dashed cyan\n",
        "plt.plot(x, x + 2, '-.k') # dashdot black\n",
        "plt.plot(x, x + 3, ':r'); # dotted red"
      ]
    },
    {
      "cell_type": "markdown",
      "metadata": {
        "id": "LpSRTvbIbBaT"
      },
      "source": [
        "### Adjusting the Plot: Axes Limits\n",
        "\n",
        "The most basic way to adjust axis limits is to use the plt.xlim() and plt.ylim() methods:"
      ]
    },
    {
      "cell_type": "code",
      "execution_count": null,
      "metadata": {
        "id": "iuSqKhQkbBaU"
      },
      "outputs": [],
      "source": [
        "plt.plot(x, np.sin(x))\n",
        "\n",
        "plt.xlim(-1, 11)\n",
        "plt.ylim(-1.5, 1.5);"
      ]
    },
    {
      "cell_type": "markdown",
      "metadata": {
        "id": "DhnfR3Y1bBaW"
      },
      "source": [
        "### Labeling Plots"
      ]
    },
    {
      "cell_type": "code",
      "execution_count": null,
      "metadata": {
        "id": "ERPyfhScbBaX"
      },
      "outputs": [],
      "source": [
        "plt.plot(x, np.sin(x))\n",
        "\n",
        "plt.title(\"A Sine Curve\")\n",
        "plt.xlabel(\"x\")\n",
        "plt.ylabel(\"sin(x)\");"
      ]
    },
    {
      "cell_type": "code",
      "execution_count": null,
      "metadata": {
        "id": "bo17_STzbBaY"
      },
      "outputs": [],
      "source": [
        "plt.plot(x, np.sin(x), '-g', label='sin(x)')\n",
        "plt.plot(x, np.cos(x), ':b', label='cos(x)')\n",
        "\n",
        "plt.legend()"
      ]
    },
    {
      "cell_type": "markdown",
      "metadata": {
        "id": "UEKE8ZAtbBaZ"
      },
      "source": [
        "### Scatter Plots"
      ]
    },
    {
      "cell_type": "code",
      "execution_count": null,
      "metadata": {
        "id": "m6hyFF0YbBaa"
      },
      "outputs": [],
      "source": [
        "x = np.linspace(0, 10, 30)\n",
        "y = np.sin(x)\n",
        "\n",
        "plt.scatter(x, y, marker='o');"
      ]
    },
    {
      "cell_type": "markdown",
      "metadata": {
        "id": "EzUIC76DbBaa"
      },
      "source": [
        "### Histograms"
      ]
    },
    {
      "cell_type": "code",
      "execution_count": null,
      "metadata": {
        "id": "UX-CiYlDbBab"
      },
      "outputs": [],
      "source": [
        "data = np.random.randn(1000)\n",
        "print(data[:5])"
      ]
    },
    {
      "cell_type": "code",
      "execution_count": null,
      "metadata": {
        "id": "Nr704ZQEbBac"
      },
      "outputs": [],
      "source": [
        "plt.hist(data, bins=10);"
      ]
    },
    {
      "cell_type": "code",
      "execution_count": null,
      "metadata": {
        "id": "-QNKAf1ibBad"
      },
      "outputs": [],
      "source": [
        "plt.hist(data);"
      ]
    },
    {
      "cell_type": "code",
      "execution_count": null,
      "metadata": {
        "id": "6XRjcsEBbBae"
      },
      "outputs": [],
      "source": [
        "plt.hist(data, bins=10, density=True);"
      ]
    },
    {
      "cell_type": "code",
      "execution_count": null,
      "metadata": {
        "id": "ZYz-jeDcbBaf"
      },
      "outputs": [],
      "source": [
        "plt.hist(data, bins=25, density=True);"
      ]
    },
    {
      "cell_type": "code",
      "execution_count": null,
      "metadata": {
        "id": "RbBS0XjqbBag"
      },
      "outputs": [],
      "source": [
        "plt.hist(data, bins=50, density=True);"
      ]
    },
    {
      "cell_type": "markdown",
      "metadata": {
        "id": "TeKnoU-6bBah"
      },
      "source": [
        "## subplots()"
      ]
    },
    {
      "cell_type": "code",
      "execution_count": null,
      "metadata": {
        "id": "TwKvfjbebBah"
      },
      "outputs": [],
      "source": [
        "x = np.linspace(0, 2 * np.pi, 400)\n",
        "y = np.sin(x ** 2)"
      ]
    },
    {
      "cell_type": "markdown",
      "metadata": {
        "id": "EXbjQ3dPbBai"
      },
      "source": [
        "### A figure with just one subplot"
      ]
    },
    {
      "cell_type": "code",
      "execution_count": null,
      "metadata": {
        "id": "1D5Ry3FEbBaj"
      },
      "outputs": [],
      "source": [
        "fig, ax = plt.subplots()\n",
        "ax.plot(x, y)\n",
        "ax.set_title('A single plot');"
      ]
    },
    {
      "cell_type": "markdown",
      "metadata": {
        "id": "haTUvjJwbBak"
      },
      "source": [
        "### Stacking subplots in one direction"
      ]
    },
    {
      "cell_type": "code",
      "execution_count": null,
      "metadata": {
        "id": "D93irCt7bBal"
      },
      "outputs": [],
      "source": [
        "fig, axs = plt.subplots(2)\n",
        "fig.suptitle('Vertically stacked subplots')\n",
        "axs[0].plot(x, y);\n",
        "axs[1].plot(x, -y);"
      ]
    },
    {
      "cell_type": "code",
      "execution_count": null,
      "metadata": {
        "id": "q-gACR1pbBam"
      },
      "outputs": [],
      "source": [
        "fig, (ax1, ax2) = plt.subplots(2, 1)\n",
        "fig.suptitle('Vertically stacked subplots')\n",
        "ax1.plot(x, y);\n",
        "ax2.plot(x, -y);"
      ]
    },
    {
      "cell_type": "code",
      "execution_count": null,
      "metadata": {
        "id": "sjwVvALYbBan"
      },
      "outputs": [],
      "source": [
        "fig, (ax1, ax2) = plt.subplots(1, 2)\n",
        "fig.suptitle('Horizontally stacked subplots')\n",
        "ax1.plot(x, y);\n",
        "ax2.plot(x, -y);"
      ]
    },
    {
      "cell_type": "markdown",
      "metadata": {
        "id": "yoa_Hdy8bBao"
      },
      "source": [
        "### Stacking subplots in two directions"
      ]
    },
    {
      "cell_type": "code",
      "execution_count": null,
      "metadata": {
        "id": "BYO-tl2DbBao"
      },
      "outputs": [],
      "source": [
        "fig, axs = plt.subplots(2, 2)\n",
        "axs[0, 0].plot(x, y)\n",
        "axs[0, 0].set_title('Axis [0, 0]')\n",
        "\n",
        "axs[0, 1].plot(x, y, 'tab:orange')\n",
        "axs[0, 1].set_title('Axis [0, 1]')\n",
        "\n",
        "axs[1, 0].plot(x, -y, 'tab:green')\n",
        "axs[1, 0].set_title('Axis [1, 0]')\n",
        "\n",
        "axs[1, 1].plot(x, -y, 'tab:red')\n",
        "axs[1, 1].set_title('Axis [1, 1]')\n",
        "\n",
        "for ax in axs.flat:\n",
        "    ax.set(xlabel='x-label', ylabel='y-label')\n",
        "\n",
        "# Hide x labels and tick labels for top plots and y ticks for right plots.\n",
        "for ax in axs.flat:\n",
        "    ax.label_outer()"
      ]
    },
    {
      "cell_type": "code",
      "execution_count": null,
      "metadata": {
        "id": "YS9cvZTebBbC"
      },
      "outputs": [],
      "source": [
        "fig, ((ax1, ax2), (ax3, ax4)) = plt.subplots(2, 2)\n",
        "fig.suptitle('Sharing x per column, y per row')\n",
        "\n",
        "ax1.plot(x, y)\n",
        "ax2.plot(x, y**2, 'tab:orange')\n",
        "ax3.plot(x, -y, 'tab:green')\n",
        "ax4.plot(x, -y**2, 'tab:red')\n",
        "\n",
        "for ax in fig.get_axes():\n",
        "    ax.label_outer()"
      ]
    },
    {
      "cell_type": "markdown",
      "metadata": {
        "id": "VQPawbJkbBbD"
      },
      "source": [
        "### Sharing axes"
      ]
    },
    {
      "cell_type": "code",
      "execution_count": null,
      "metadata": {
        "id": "IW-frURibBbD"
      },
      "outputs": [],
      "source": [
        "fig, (ax1, ax2) = plt.subplots(2, 1)\n",
        "fig.suptitle('Axes values are scaled individually by default')\n",
        "ax1.plot(x, y);\n",
        "ax2.plot(x + 1, -y);"
      ]
    },
    {
      "cell_type": "code",
      "execution_count": null,
      "metadata": {
        "id": "4Q9hVrICbBbE"
      },
      "outputs": [],
      "source": [
        "fig, (ax1, ax2) = plt.subplots(2, 1, sharex=True)\n",
        "fig.suptitle('Aligning x-axis using sharex')\n",
        "ax1.plot(x, y);\n",
        "ax2.plot(x + 1, -y);"
      ]
    },
    {
      "cell_type": "code",
      "execution_count": null,
      "metadata": {
        "id": "9Dn1PxIObBbF"
      },
      "outputs": [],
      "source": [
        "fig, axs = plt.subplots(3, 1, sharex=True, sharey=False)\n",
        "fig.suptitle('Sharing both axes')\n",
        "axs[0].plot(x, y ** 2)\n",
        "axs[1].plot(x, 0.3 * y, 'o')\n",
        "axs[2].plot(x, y, '+')"
      ]
    },
    {
      "cell_type": "code",
      "execution_count": null,
      "metadata": {
        "id": "WXc9m8SSbBbG"
      },
      "outputs": [],
      "source": [
        "fig, axs = plt.subplots(3, 1, sharex=True, sharey=True)\n",
        "fig.suptitle('Sharing both axes')\n",
        "axs[0].plot(x, y ** 2)\n",
        "axs[1].plot(x, 0.3 * y, 'o')\n",
        "axs[2].plot(x, y, '+')"
      ]
    },
    {
      "cell_type": "code",
      "execution_count": null,
      "metadata": {
        "id": "WiLHU5KsbBbH"
      },
      "outputs": [],
      "source": [
        "fig = plt.figure()\n",
        "\n",
        "gs = fig.add_gridspec(3, hspace=0)\n",
        "\n",
        "axs = gs.subplots(sharex=True, sharey=True)\n",
        "fig.suptitle('Sharing both axes')\n",
        "axs[0].plot(x, y ** 2)\n",
        "axs[1].plot(x, 0.3 * y, 'o')\n",
        "axs[2].plot(x, y, '+')\n",
        "\n",
        "# Hide x labels and tick labels for all but bottom plot.\n",
        "for ax in axs:\n",
        "    ax.label_outer()"
      ]
    },
    {
      "cell_type": "code",
      "execution_count": null,
      "metadata": {
        "id": "bixReXIEbBbI"
      },
      "outputs": [],
      "source": [
        "fig = plt.figure()\n",
        "gs = fig.add_gridspec(2, 2, hspace=0, wspace=0)\n",
        "(ax1, ax2), (ax3, ax4) = gs.subplots(sharex='col', sharey='row')\n",
        "fig.suptitle('Sharing x per column, y per row')\n",
        "ax1.plot(x, y)\n",
        "ax2.plot(x, y**2, 'tab:orange')\n",
        "ax3.plot(x + 1, -y, 'tab:green')\n",
        "ax4.plot(x + 2, -y**2, 'tab:red')\n",
        "\n",
        "for ax in fig.get_axes():\n",
        "    ax.label_outer()"
      ]
    },
    {
      "cell_type": "code",
      "execution_count": null,
      "metadata": {
        "id": "jUGtmofCbBbK"
      },
      "outputs": [],
      "source": [
        "fig, axs = plt.subplots(2, 2)\n",
        "\n",
        "axs[0, 0].plot(x, y)\n",
        "axs[0, 0].set_title(\"main\")\n",
        "\n",
        "axs[1, 0].plot(x, y**2)\n",
        "axs[1, 0].set_title(\"shares x with main\")\n",
        "\n",
        "axs[1, 0].sharex(axs[0, 0])\n",
        "axs[0, 1].plot(x + 1, y + 1)\n",
        "axs[0, 1].set_title(\"unrelated\")\n",
        "\n",
        "axs[1, 1].sharex(axs[0, 1])\n",
        "axs[1, 1].plot(x + 2, y + 2)\n",
        "axs[1, 1].set_title(\"also unrelated\")\n",
        "\n",
        "fig.tight_layout()"
      ]
    },
    {
      "cell_type": "markdown",
      "metadata": {
        "id": "YoFilUiLbBbL"
      },
      "source": [
        "Creating multiple subplots using plt.subplots\n",
        "\n",
        "https://matplotlib.org/stable/gallery/subplots_axes_and_figures/subplots_demo.html"
      ]
    },
    {
      "cell_type": "code",
      "source": [
        "import matplotlib.pyplot as plt\n",
        "\n",
        "fig, axs = plt.subplots(nrows=2, ncols=2, figsize=(10, 6))\n",
        "\n",
        "# Создание подплотов\n",
        "for i, ax in enumerate(axs.flatten()):\n",
        "    if i < 4:\n",
        "        continue\n",
        "        # Если подплот не используется, пропускаем его\n",
        "    # Здесь ваш код для настройки подплота\n",
        "    ax.plot([1, 2], [3, 4])\n",
        "    ax.set_title(\"Подплот №%d\" % i)\n",
        "fig.tight_layout()\n",
        "plt.show()"
      ],
      "metadata": {
        "id": "qA1OJkdpb6up"
      },
      "execution_count": null,
      "outputs": []
    },
    {
      "cell_type": "code",
      "execution_count": null,
      "metadata": {
        "id": "WJVHS9WfbBbM"
      },
      "outputs": [],
      "source": []
    },
    {
      "cell_type": "markdown",
      "metadata": {
        "id": "j3lqlGGxbBbM"
      },
      "source": [
        "# References\n",
        "\n",
        "1. [Python Data Science Handbook](https://jakevdp.github.io/PythonDataScienceHandbook/index.html)\n",
        "2. [Matplotlib Documentation](https://matplotlib.org/stable/index.html)"
      ]
    },
    {
      "cell_type": "code",
      "execution_count": null,
      "metadata": {
        "id": "kUKGMkSNbBbN"
      },
      "outputs": [],
      "source": []
    }
  ],
  "metadata": {
    "colab": {
      "provenance": [],
      "include_colab_link": true
    },
    "kernelspec": {
      "display_name": "Python 3 (ipykernel)",
      "language": "python",
      "name": "python3"
    },
    "language_info": {
      "codemirror_mode": {
        "name": "ipython",
        "version": 3
      },
      "file_extension": ".py",
      "mimetype": "text/x-python",
      "name": "python",
      "nbconvert_exporter": "python",
      "pygments_lexer": "ipython3",
      "version": "3.9.12"
    }
  },
  "nbformat": 4,
  "nbformat_minor": 0
}