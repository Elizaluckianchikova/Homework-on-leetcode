{
  "nbformat": 4,
  "nbformat_minor": 0,
  "metadata": {
    "colab": {
      "provenance": [],
      "authorship_tag": "ABX9TyNG99JYHrVz+1M3U/5iEl87",
      "include_colab_link": true
    },
    "kernelspec": {
      "name": "python3",
      "display_name": "Python 3"
    },
    "language_info": {
      "name": "python"
    }
  },
  "cells": [
    {
      "cell_type": "markdown",
      "metadata": {
        "id": "view-in-github",
        "colab_type": "text"
      },
      "source": [
        "<a href=\"https://colab.research.google.com/github/Elizaluckianchikova/Homework-on-leetcode/blob/main/Homework5.ipynb\" target=\"_parent\"><img src=\"https://colab.research.google.com/assets/colab-badge.svg\" alt=\"Open In Colab\"/></a>"
      ]
    },
    {
      "cell_type": "markdown",
      "source": [
        "**Ханойская башня**\n",
        "\n",
        "Головоломка “Ханойские башни” состоит из трех стержней, пронумерованных числами 1, 2, 3. На стержень 1 надета пирамидка из n дисков различного диаметра в порядке возрастания диаметра. Диски можно перекладывать с одного стержня на другой по одному, при этом диск нельзя класть на диск меньшего диаметра. Необходимо переложить всю пирамидку со стержня 1 на стержень 3 за минимальное число перекладываний.\n",
        "\n",
        "Напишите программу, которая решает головоломку; для данного числа дисков n печатает последовательность перекладываний в формате a b c, где a — номер перекладываемого диска, b — номер стержня с которого снимается данный диск, c — номер стержня на который надевается данный диск.\n",
        "\n",
        "Например, строка 1 2 3 означает перемещение диска номер 1 со стержня 2 на стержень 3. В одной строке печатается одна команда. Диски пронумерованы числами от 1 до n в порядке возрастания диаметров.\n",
        "\n",
        "Программа должна вывести минимальный (по количеству произведенных операций) способ перекладывания пирамидки из данного числа дисков.\n",
        "Название: 3808.png\n",
        "Просмотров: 1445\n",
        "\n",
        "Размер: 1.3 Кб\n",
        "Указание: подумайте, как переложить пирамидку из одного диска? Из двух дисков? Из трех дисков? Из четырех дисков? Пусть мы научились перекладывать пирамидку из n дисков с произвольного стержня на любой другой, как переложить пирамидку из n+1 диска, если можно пользоваться решением для n дисков.\n",
        "\n",
        "Напишите функцию move (n, x, y), которая печатает последовательнось перекладываний дисков для перемещения пирамидки высоты n со стержня номер x на стержень номер y.\n",
        "\n",
        "Входные данные\n",
        "Вводится натуральное число - количество дисков.\n",
        "\n",
        "Выходные данные\n",
        "Выведите ответ на задачу.\n",
        "\n",
        "Примеры\n",
        "\n",
        "входные данные\n",
        "2\n",
        "\n",
        "выходные данные\n",
        "1 1 2\n",
        "2 1 3\n",
        "1 2 3"
      ],
      "metadata": {
        "id": "c_Flvpec391m"
      }
    },
    {
      "cell_type": "code",
      "source": [
        "#solving1\n",
        "#Recursive Python function to solve the tower of hanoi\n",
        "def moveTower(height,fromPole, toPole, withPole):\n",
        "    if height >= 1:\n",
        "        moveTower(height-1,fromPole,withPole,toPole)\n",
        "        moveDisk(fromPole,toPole)\n",
        "        moveTower(height-1,withPole,toPole,fromPole)"
      ],
      "metadata": {
        "id": "t9CkqcU44Ecf"
      },
      "execution_count": 1,
      "outputs": []
    },
    {
      "cell_type": "code",
      "source": [
        "# Driver code\n",
        "def moveDisk(fp,tp):\n",
        "    print(\"moving disk from\",fp,\"to\",tp)\n",
        "    # A, C, B are the name of rods\n",
        "\n"
      ],
      "metadata": {
        "id": "jVR1tpcj4wG4"
      },
      "execution_count": null,
      "outputs": []
    },
    {
      "cell_type": "code",
      "source": [
        "#solving#2\n",
        "def h(n, x, y):\n",
        "    if n >0:\n",
        "        tmp = 6 - x-y\n",
        "        h(n-1, x, tmp)\n",
        "        print(n, x, y)\n",
        "        h(n-1, tmp, y)\n",
        "n = int(input())\n",
        "h(n, 1, 3)"
      ],
      "metadata": {
        "colab": {
          "base_uri": "https://localhost:8080/"
        },
        "id": "PrUnMfve8w9B",
        "outputId": "0de2445f-a2c8-41dc-e4ed-d5fad1a7a2d4"
      },
      "execution_count": 3,
      "outputs": [
        {
          "output_type": "stream",
          "name": "stdout",
          "text": [
            "2\n",
            "1 1 2\n",
            "2 1 3\n",
            "1 2 3\n"
          ]
        }
      ]
    },
    {
      "cell_type": "markdown",
      "source": [
        "**Шифр Цезаря**\n",
        "\n",
        "Шифр Цезаря заключается в замене каждого символа входной строки на символ, находящийся на несколько позиций левее или правее его в алфавите.\n",
        "Для всех символов сдвиг один и тот же. Сдвиг циклический, т.е. если к последнему символу алфавита применить единичный сдвиг, то он заменится на первый символ, и наоборот.\n",
        "Напишите программу, которая шифрует текст шифром Цезаря.\n",
        "Используемый алфавит −− пробел и малые символы латинского алфавита: ' abcdefghijklmnopqrstuvwxyz'\n",
        "Формат ввода: На первой строке указывается используемый сдвиг шифрования: целое число. Положительное число соответствует сдвигу вправо. На второй строке указывается непустая фраза для шифрования. Ведущие и завершающие пробелы не учитывать.\n",
        "Формат вывода: Единственная строка, в которой записана фраза: Result: \"...\" , где вместо многоточия внутри кавычек записана зашифрованная последовательность.\n",
        "Sample Input 1:\n",
        "3\n",
        "i am caesar\n",
        "Sample Output 1:\n",
        "Result: \"lcdpcfdhvdu\""
      ],
      "metadata": {
        "id": "T9-FjBDN9ejh"
      }
    },
    {
      "cell_type": "code",
      "source": [
        "#solving_1\n",
        "def encypt_func(txt, s):\n",
        "    result = \"\"\n",
        "\n",
        "\n",
        "# transverse the plain txt\n",
        "    for i in range(len(txt)):\n",
        "        char = txt[i]\n",
        "        # encypt_func uppercase characters in plain txt\n",
        "\n",
        "        if(char.isupper()):\n",
        "            result += chr((ord(char) + s - 64) % 26 + 65)\n",
        "        # encypt_func lowercase characters in plain txt\n",
        "        else:\n",
        "            result += chr((ord(char) + s - 96) % 26 + 97)\n",
        "    return result\n",
        "# check the above function\n",
        "txt = \"CEASER CIPHER EXAMPLE\"\n",
        "s = 4\n",
        "\n",
        "print(\"Plain txt : \" + txt)\n",
        "print(\"Shift pattern : \" + str(s))\n",
        "print(\"Cipher: \" + encypt_func(txt, s))"
      ],
      "metadata": {
        "id": "Wrk7WLbv-TcJ"
      },
      "execution_count": null,
      "outputs": []
    },
    {
      "cell_type": "code",
      "source": [
        "#solving_2\n",
        "alpha = ' abcdefghijklmnopqrstuvwxyz'\n",
        "n = int(input())\n",
        "s = input().strip()\n",
        "res = ''\n",
        "for c in s:\n",
        "    res += alpha[(alpha.index(c) + n) % len(alpha)]\n",
        "print('Result: \"' + res + '\"')"
      ],
      "metadata": {
        "id": "P3gIaJQ2-dUk"
      },
      "execution_count": null,
      "outputs": []
    }
  ]
}