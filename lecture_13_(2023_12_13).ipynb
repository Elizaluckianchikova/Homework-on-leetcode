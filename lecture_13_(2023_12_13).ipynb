{
  "cells": [
    {
      "cell_type": "markdown",
      "metadata": {
        "id": "view-in-github",
        "colab_type": "text"
      },
      "source": [
        "<a href=\"https://colab.research.google.com/github/Elizaluckianchikova/Homework-on-leetcode/blob/main/lecture_13_(2023_12_13).ipynb\" target=\"_parent\"><img src=\"https://colab.research.google.com/assets/colab-badge.svg\" alt=\"Open In Colab\"/></a>"
      ]
    },
    {
      "cell_type": "markdown",
      "metadata": {
        "id": "3BuyGftbaKQ1"
      },
      "source": [
        "# Lecture 13: Data Science Tools (Pandas)"
      ]
    },
    {
      "cell_type": "code",
      "execution_count": null,
      "metadata": {
        "id": "ePc2BCQxaKQ7"
      },
      "outputs": [],
      "source": [
        "import warnings\n",
        "\n",
        "warnings.filterwarnings(\"ignore\")"
      ]
    },
    {
      "cell_type": "code",
      "execution_count": null,
      "metadata": {
        "id": "MeDtlk1zaKQ-"
      },
      "outputs": [],
      "source": [
        "# import numpy as np\n",
        "import pandas as pd\n",
        "\n",
        "import matplotlib.pyplot as plt\n",
        "%matplotlib notebook"
      ]
    },
    {
      "cell_type": "code",
      "execution_count": null,
      "metadata": {
        "id": "Q9HGHrdZaKQ_"
      },
      "outputs": [],
      "source": [
        "type(pd.Series()), type(pd.DataFrame())"
      ]
    },
    {
      "cell_type": "code",
      "execution_count": null,
      "metadata": {
        "id": "ofQ45MLMaKRA"
      },
      "outputs": [],
      "source": [
        "df = pd.DataFrame()  # название столбца (key): np.array()"
      ]
    },
    {
      "cell_type": "code",
      "execution_count": null,
      "metadata": {
        "id": "TkH0skH7aKRB"
      },
      "outputs": [],
      "source": [
        "df"
      ]
    },
    {
      "cell_type": "code",
      "execution_count": null,
      "metadata": {
        "id": "WoAFS0JlaKRC"
      },
      "outputs": [],
      "source": [
        "df['STATS'] = [10, 8, 9]\n",
        "df"
      ]
    },
    {
      "cell_type": "code",
      "execution_count": null,
      "metadata": {
        "id": "lrksNfMLaKRD"
      },
      "outputs": [],
      "source": [
        "df['PROG'] = [9, 7, 10]\n",
        "df"
      ]
    },
    {
      "cell_type": "code",
      "execution_count": null,
      "metadata": {
        "id": "bLwVcKuyaKRE"
      },
      "outputs": [],
      "source": [
        "df['AVERAGE'] = (df['STATS'] + df['PROG']) / 2\n",
        "df"
      ]
    },
    {
      "cell_type": "code",
      "execution_count": null,
      "metadata": {
        "id": "0I_eYM_zaKRF"
      },
      "outputs": [],
      "source": [
        "df.shape"
      ]
    },
    {
      "cell_type": "code",
      "execution_count": null,
      "metadata": {
        "id": "7elT_4xMaKRG"
      },
      "outputs": [],
      "source": [
        "df.info()"
      ]
    },
    {
      "cell_type": "code",
      "execution_count": null,
      "metadata": {
        "id": "P7T0rgf0aKRH"
      },
      "outputs": [],
      "source": [
        "df['PROG'].dtype"
      ]
    },
    {
      "cell_type": "code",
      "execution_count": null,
      "metadata": {
        "id": "qt1QMtwbaKRI"
      },
      "outputs": [],
      "source": [
        "df['PROG'].name"
      ]
    },
    {
      "cell_type": "code",
      "execution_count": null,
      "metadata": {
        "id": "9C3eOFj3aKRJ"
      },
      "outputs": [],
      "source": [
        "df['PROG'].values"
      ]
    },
    {
      "cell_type": "code",
      "execution_count": null,
      "metadata": {
        "id": "dUPlgyBZaKRJ"
      },
      "outputs": [],
      "source": [
        "type(df['PROG'].values)"
      ]
    },
    {
      "cell_type": "code",
      "execution_count": null,
      "metadata": {
        "id": "HAHGizBqaKRK"
      },
      "outputs": [],
      "source": [
        "df['PROG']"
      ]
    },
    {
      "cell_type": "code",
      "execution_count": null,
      "metadata": {
        "id": "WnyZIACbaKRL"
      },
      "outputs": [],
      "source": [
        "df[['STATS', 'PROG']]"
      ]
    },
    {
      "cell_type": "code",
      "execution_count": null,
      "metadata": {
        "id": "2LYMS5lzaKRL"
      },
      "outputs": [],
      "source": [
        "df[['AVERAGE', 'PROG']]"
      ]
    },
    {
      "cell_type": "code",
      "execution_count": null,
      "metadata": {
        "id": "Ls-2dAUXaKRM"
      },
      "outputs": [],
      "source": [
        "df.columns"
      ]
    },
    {
      "cell_type": "code",
      "execution_count": null,
      "metadata": {
        "id": "Y4sKtStaaKRN"
      },
      "outputs": [],
      "source": [
        "df.index"
      ]
    },
    {
      "cell_type": "code",
      "execution_count": null,
      "metadata": {
        "id": "o0u5zduraKRO"
      },
      "outputs": [],
      "source": [
        "print(df.index)\n",
        "print(list(df.index))"
      ]
    },
    {
      "cell_type": "code",
      "execution_count": null,
      "metadata": {
        "id": "KwtKGmfnaKRP"
      },
      "outputs": [],
      "source": [
        "df"
      ]
    },
    {
      "cell_type": "code",
      "execution_count": null,
      "metadata": {
        "id": "42xaKOUSaKRP"
      },
      "outputs": [],
      "source": [
        "df.iloc[0]  # integer-location"
      ]
    },
    {
      "cell_type": "code",
      "execution_count": null,
      "metadata": {
        "id": "nARc55WjaKRQ"
      },
      "outputs": [],
      "source": [
        "df.loc[0]"
      ]
    },
    {
      "cell_type": "code",
      "execution_count": null,
      "metadata": {
        "id": "uq4_Qn2kaKRR"
      },
      "outputs": [],
      "source": [
        "df.columns = ['STATS', 'PYTHON', 'AVERAGE']"
      ]
    },
    {
      "cell_type": "code",
      "execution_count": null,
      "metadata": {
        "id": "7ggwwxG4aKRS"
      },
      "outputs": [],
      "source": [
        "df"
      ]
    },
    {
      "cell_type": "code",
      "execution_count": null,
      "metadata": {
        "id": "c9GSxsW8aKRT"
      },
      "outputs": [],
      "source": [
        "df.index = ['Mark', 'Alice', 'Ilon']"
      ]
    },
    {
      "cell_type": "code",
      "execution_count": null,
      "metadata": {
        "id": "eQuqlhXZaKRT"
      },
      "outputs": [],
      "source": [
        "df"
      ]
    },
    {
      "cell_type": "code",
      "execution_count": null,
      "metadata": {
        "id": "r8tfuQEOaKRU"
      },
      "outputs": [],
      "source": [
        "df.iloc[0]  # integer-location"
      ]
    },
    {
      "cell_type": "code",
      "execution_count": null,
      "metadata": {
        "id": "LKgjGbnKaKRV"
      },
      "outputs": [],
      "source": [
        "df.iloc[2]  # integer-location"
      ]
    },
    {
      "cell_type": "code",
      "execution_count": null,
      "metadata": {
        "id": "TZEO9kVEaKRV"
      },
      "outputs": [],
      "source": [
        "# df.loc[0]"
      ]
    },
    {
      "cell_type": "code",
      "execution_count": null,
      "metadata": {
        "id": "ifONnZhJaKRX"
      },
      "outputs": [],
      "source": [
        "df"
      ]
    },
    {
      "cell_type": "code",
      "execution_count": null,
      "metadata": {
        "id": "IC-n8yAtaKRX"
      },
      "outputs": [],
      "source": [
        "# df.loc[0]\n",
        "df.loc['Mark']"
      ]
    },
    {
      "cell_type": "code",
      "execution_count": null,
      "metadata": {
        "id": "qFh5QP8SaKRY"
      },
      "outputs": [],
      "source": [
        "df['STATS'][1]"
      ]
    },
    {
      "cell_type": "code",
      "execution_count": null,
      "metadata": {
        "id": "xbqE9KYRaKRY"
      },
      "outputs": [],
      "source": [
        "df.iloc[1]['STATS']"
      ]
    },
    {
      "cell_type": "code",
      "execution_count": null,
      "metadata": {
        "id": "R7fX0mfEaKRZ"
      },
      "outputs": [],
      "source": [
        "df.loc[\"Alice\"]['STATS']"
      ]
    },
    {
      "cell_type": "code",
      "execution_count": null,
      "metadata": {
        "id": "ypcAEDyEaKRa"
      },
      "outputs": [],
      "source": [
        "df"
      ]
    },
    {
      "cell_type": "code",
      "execution_count": null,
      "metadata": {
        "id": "EKdgV9FlaKRa"
      },
      "outputs": [],
      "source": [
        "df.iloc[1]"
      ]
    },
    {
      "cell_type": "code",
      "execution_count": null,
      "metadata": {
        "id": "3tmShY_7aKRb"
      },
      "outputs": [],
      "source": [
        "df.iloc[1].values"
      ]
    },
    {
      "cell_type": "code",
      "execution_count": null,
      "metadata": {
        "id": "59U5xigmaKR8"
      },
      "outputs": [],
      "source": [
        "df.iloc[1]"
      ]
    },
    {
      "cell_type": "code",
      "execution_count": null,
      "metadata": {
        "id": "LWNezjj1aKR9"
      },
      "outputs": [],
      "source": [
        "df"
      ]
    },
    {
      "cell_type": "code",
      "execution_count": null,
      "metadata": {
        "id": "sdGtruwEaKR-"
      },
      "outputs": [],
      "source": [
        "df.iloc[1, 0]"
      ]
    },
    {
      "cell_type": "code",
      "execution_count": null,
      "metadata": {
        "id": "LWVVmwWWaKR_"
      },
      "outputs": [],
      "source": [
        "df[\"Target\"] = [1, 0, 1]"
      ]
    },
    {
      "cell_type": "code",
      "execution_count": null,
      "metadata": {
        "id": "RXziqz8yaKR_"
      },
      "outputs": [],
      "source": [
        "df"
      ]
    },
    {
      "cell_type": "markdown",
      "metadata": {
        "id": "0pCV5YqWaKSA"
      },
      "source": [
        "# Загрузка данных в pandas"
      ]
    },
    {
      "cell_type": "code",
      "execution_count": null,
      "metadata": {
        "id": "P5vLgvrcaKSB"
      },
      "outputs": [],
      "source": [
        "import pandas as pd"
      ]
    },
    {
      "cell_type": "code",
      "execution_count": null,
      "metadata": {
        "id": "G7zemZ2RaKSC"
      },
      "outputs": [],
      "source": [
        "df_excel = read_excel('Data/coffee_stats.xlsx')"
      ]
    },
    {
      "cell_type": "code",
      "execution_count": null,
      "metadata": {
        "id": "JgUxmKKLaKSD"
      },
      "outputs": [],
      "source": [
        "df_excel = pd.read_excel('Data/coffee_stats.xlsx')"
      ]
    },
    {
      "cell_type": "code",
      "execution_count": null,
      "metadata": {
        "id": "lM-AzoeXaKSF"
      },
      "outputs": [],
      "source": [
        "df_excel"
      ]
    },
    {
      "cell_type": "code",
      "execution_count": null,
      "metadata": {
        "id": "nQB3UYEWaKSF"
      },
      "outputs": [],
      "source": [
        "df_excel.head()"
      ]
    },
    {
      "cell_type": "code",
      "execution_count": null,
      "metadata": {
        "id": "Q1K1X3XpaKSG"
      },
      "outputs": [],
      "source": [
        "df_excel.tail()"
      ]
    },
    {
      "cell_type": "code",
      "execution_count": null,
      "metadata": {
        "id": "77rpKT33aKSH"
      },
      "outputs": [],
      "source": [
        "df_csv_sep = pd.read_csv('Data/coffee_stats_2.csv')\n",
        "\n",
        "df_csv_sep.head()"
      ]
    },
    {
      "cell_type": "code",
      "execution_count": null,
      "metadata": {
        "id": "m8U-XwqMaKSI"
      },
      "outputs": [],
      "source": [
        "df_csv_sep = pd.read_csv('Data/coffee_stats_2.csv', sep=';')\n",
        "df_csv_sep.head()"
      ]
    },
    {
      "cell_type": "code",
      "execution_count": null,
      "metadata": {
        "id": "bf8r-qrdaKSJ"
      },
      "outputs": [],
      "source": [
        "df_csv_sep = pd.read_csv('Data/coffee_stats_2.csv', sep=';', header=None, names=['Тип кофе', 'Размер', 'Сироп'])\n",
        "\n",
        "df_csv_sep.head()"
      ]
    },
    {
      "cell_type": "code",
      "execution_count": null,
      "metadata": {
        "id": "U6zzxysoaKSK"
      },
      "outputs": [],
      "source": [
        "df_txt = pd.read_csv('Data/forest.txt')\n",
        "df_txt.head()"
      ]
    },
    {
      "cell_type": "code",
      "execution_count": null,
      "metadata": {
        "id": "oyqr_gLmaKSK"
      },
      "outputs": [],
      "source": [
        "df_txt = pd.read_csv('Data/forest.txt', sep='\\t')\n",
        "df_txt.head()"
      ]
    },
    {
      "cell_type": "code",
      "execution_count": null,
      "metadata": {
        "id": "pYPxepzJaKSL"
      },
      "outputs": [],
      "source": [
        "type(df_txt)"
      ]
    },
    {
      "cell_type": "markdown",
      "metadata": {
        "id": "JwR0RK8DaKSM"
      },
      "source": [
        "# Группировка данных"
      ]
    },
    {
      "cell_type": "code",
      "execution_count": null,
      "metadata": {
        "id": "jYbDQY0faKSN"
      },
      "outputs": [],
      "source": [
        "bikes = pd.read_pickle('Data/BikesDataVars.pkl')\n",
        "bikes.head()"
      ]
    },
    {
      "cell_type": "code",
      "execution_count": null,
      "metadata": {
        "id": "OG73OZuOaKSO"
      },
      "outputs": [],
      "source": [
        "bikes.shape  # 8760 / (24 * 365)"
      ]
    },
    {
      "cell_type": "code",
      "execution_count": null,
      "metadata": {
        "id": "y0APqJqMaKSP"
      },
      "outputs": [],
      "source": [
        "bikes[\"Temperature Category\"]"
      ]
    },
    {
      "cell_type": "code",
      "execution_count": null,
      "metadata": {
        "id": "wm_Fb8RtaKSQ"
      },
      "outputs": [],
      "source": [
        "bikes[\"Temperature Category\"][0]"
      ]
    },
    {
      "cell_type": "code",
      "execution_count": null,
      "metadata": {
        "id": "Lt9pL5-faKSS"
      },
      "outputs": [],
      "source": [
        "bikes[\"Temperature Category\"].unique()"
      ]
    },
    {
      "cell_type": "code",
      "execution_count": null,
      "metadata": {
        "id": "mmt0lqtyaKSS"
      },
      "outputs": [],
      "source": [
        "bikes[\"Temperature Category\"].nunique()"
      ]
    },
    {
      "cell_type": "code",
      "execution_count": null,
      "metadata": {
        "id": "36U6a5tNaKST"
      },
      "outputs": [],
      "source": [
        "bikes[\"Temperature Category\"].nunique(dropna=False)"
      ]
    },
    {
      "cell_type": "code",
      "execution_count": null,
      "metadata": {
        "id": "D7_aO_XoaKSU"
      },
      "outputs": [],
      "source": [
        "bikes[\"Temperature Category\"].isnull()  # detect missing values"
      ]
    },
    {
      "cell_type": "code",
      "execution_count": null,
      "metadata": {
        "id": "JlzLEdataKSV"
      },
      "outputs": [],
      "source": [
        "bikes[\"Temperature Category\"].isnull().sum()"
      ]
    },
    {
      "cell_type": "code",
      "execution_count": null,
      "metadata": {
        "id": "mrm00DKZaKSW"
      },
      "outputs": [],
      "source": [
        "bikes[bikes[\"Temperature Category\"] == \"Nice\"]"
      ]
    },
    {
      "cell_type": "code",
      "execution_count": null,
      "metadata": {
        "id": "fQCPTxKmaKSW"
      },
      "outputs": [],
      "source": [
        "bikes[bikes[\"Temperature Category\"] == \"Nice\"].shape"
      ]
    },
    {
      "cell_type": "code",
      "execution_count": null,
      "metadata": {
        "id": "6MV6w9llaKSX"
      },
      "outputs": [],
      "source": [
        "bikes[\"Temperature Category\"].value_counts()"
      ]
    },
    {
      "cell_type": "code",
      "execution_count": null,
      "metadata": {
        "id": "fN_ciED9aKSY"
      },
      "outputs": [],
      "source": [
        "bikes[\"Temperature Category\"].value_counts(dropna=False)"
      ]
    },
    {
      "cell_type": "code",
      "execution_count": null,
      "metadata": {
        "id": "ighIhJTEaKSZ"
      },
      "outputs": [],
      "source": [
        "bikes[bikes[\"Temperature Category\"] == \"Nice\"][\"Seasons\"].value_counts()"
      ]
    },
    {
      "cell_type": "code",
      "execution_count": null,
      "metadata": {
        "id": "_UcD0EBmaKSa"
      },
      "outputs": [],
      "source": [
        "bikes[(bikes[\"Temperature Category\"] == \"Nice\") & (bikes[\"Seasons\"] == \"Summer\")]"
      ]
    },
    {
      "cell_type": "code",
      "execution_count": null,
      "metadata": {
        "id": "spRtrWiMaKSa"
      },
      "outputs": [],
      "source": [
        "bikes[bikes[\"Seasons\"] == \"Winter\"][\"Rental Count\"].sum()"
      ]
    },
    {
      "cell_type": "code",
      "execution_count": null,
      "metadata": {
        "id": "X2wKuPKWaKSb"
      },
      "outputs": [],
      "source": [
        "bikes[bikes[\"Seasons\"] == \"Summer\"][\"Rental Count\"].sum()"
      ]
    },
    {
      "cell_type": "code",
      "execution_count": null,
      "metadata": {
        "id": "TKXse3_OaKSc"
      },
      "outputs": [],
      "source": [
        "bikes[\"Good Weather\"].value_counts()  # Бинарные признаки (feature)"
      ]
    },
    {
      "cell_type": "code",
      "execution_count": null,
      "metadata": {
        "id": "jTGzV9q9aKSc"
      },
      "outputs": [],
      "source": [
        "bikes[\"Temperature\"].hist(bins=50)"
      ]
    },
    {
      "cell_type": "code",
      "execution_count": null,
      "metadata": {
        "id": "m-iZUTyuaKSd"
      },
      "outputs": [],
      "source": [
        "bikes[\"Good Weather\"].hist()"
      ]
    },
    {
      "cell_type": "code",
      "execution_count": null,
      "metadata": {
        "id": "z4ENvlCsaKSe"
      },
      "outputs": [],
      "source": [
        "bikes[\"Seasons\"].hist()"
      ]
    },
    {
      "cell_type": "code",
      "execution_count": null,
      "metadata": {
        "id": "lcpJe93vaKSe"
      },
      "outputs": [],
      "source": [
        "bikes[\"Seasons\"].value_counts()"
      ]
    },
    {
      "cell_type": "code",
      "execution_count": null,
      "metadata": {
        "id": "c-bgBT9maKSf"
      },
      "outputs": [],
      "source": [
        "bikes[\"Temperature\"].value_counts()"
      ]
    },
    {
      "cell_type": "code",
      "execution_count": null,
      "metadata": {
        "id": "Or_kQbUcaKSg"
      },
      "outputs": [],
      "source": [
        "bikes[\"Seasons\"].value_counts()"
      ]
    },
    {
      "cell_type": "code",
      "execution_count": null,
      "metadata": {
        "id": "XfnkuZi0aKSg"
      },
      "outputs": [],
      "source": [
        "bikes[\"Date\"].value_counts()"
      ]
    },
    {
      "cell_type": "code",
      "execution_count": null,
      "metadata": {
        "id": "nfk5oizJaKSi"
      },
      "outputs": [],
      "source": [
        "bikes[bikes[\"Rental Count\"] != 0][\"Hour\"].hist(bins=24)"
      ]
    },
    {
      "cell_type": "code",
      "execution_count": null,
      "metadata": {
        "id": "_fsLvFcKaKSi"
      },
      "outputs": [],
      "source": [
        "bikes[bikes[\"Rental Count\"] != 0][\"Hour\"].value_counts()"
      ]
    },
    {
      "cell_type": "code",
      "execution_count": null,
      "metadata": {
        "id": "n0ylOKQ4aKSj"
      },
      "outputs": [],
      "source": [
        "bikes.info()"
      ]
    },
    {
      "cell_type": "code",
      "execution_count": null,
      "metadata": {
        "id": "Uuw98-5NaKSk"
      },
      "outputs": [],
      "source": [
        "bikes['Temperature Category'].head()"
      ]
    },
    {
      "cell_type": "code",
      "execution_count": null,
      "metadata": {
        "id": "vUyFZ-DoaKSk"
      },
      "outputs": [],
      "source": [
        "bikes['Temperature Category'].value_counts()"
      ]
    },
    {
      "cell_type": "code",
      "execution_count": null,
      "metadata": {
        "id": "XJNBWciqaKSm"
      },
      "outputs": [],
      "source": [
        "# bikes.shape[0] - sum(bikes['Temperature Category'].value_counts().values)"
      ]
    },
    {
      "cell_type": "code",
      "execution_count": null,
      "metadata": {
        "id": "y48EnOROaKSn"
      },
      "outputs": [],
      "source": [
        "bikes['Temperature Category'].value_counts(dropna=False)"
      ]
    },
    {
      "cell_type": "code",
      "execution_count": null,
      "metadata": {
        "id": "E9EZn5B5aKSn"
      },
      "outputs": [],
      "source": [
        "bikes[\"Date\"].head()  # 1 декабря 2017"
      ]
    },
    {
      "cell_type": "code",
      "execution_count": null,
      "metadata": {
        "id": "1vOTp87-aKSo"
      },
      "outputs": [],
      "source": [
        "bikes[\"Date\"].value_counts().unique()"
      ]
    },
    {
      "cell_type": "code",
      "execution_count": null,
      "metadata": {
        "id": "1bs8c3UFaKSp"
      },
      "outputs": [],
      "source": [
        "bikes[\"Date\"].tail()  # 30 ноября 2018"
      ]
    },
    {
      "cell_type": "code",
      "execution_count": null,
      "metadata": {
        "id": "4rGZdYhUaKSq"
      },
      "outputs": [],
      "source": [
        "bikes['Good Weather'].value_counts()"
      ]
    },
    {
      "cell_type": "code",
      "execution_count": null,
      "metadata": {
        "id": "JVlnuowsaKSr"
      },
      "outputs": [],
      "source": [
        "bikes.groupby('Date')['Rental Count'].sum()"
      ]
    },
    {
      "cell_type": "code",
      "execution_count": null,
      "metadata": {
        "id": "4GU3ihbWaKSr"
      },
      "outputs": [],
      "source": [
        "len(list(bikes.groupby('Date')))"
      ]
    },
    {
      "cell_type": "code",
      "execution_count": null,
      "metadata": {
        "id": "iUsvlS0KaKSs"
      },
      "outputs": [],
      "source": [
        "list(bikes.groupby('Date'))[0]"
      ]
    },
    {
      "cell_type": "code",
      "execution_count": null,
      "metadata": {
        "id": "91SjkpbjaKSt"
      },
      "outputs": [],
      "source": [
        "list(bikes.groupby('Date'))[0][1].head()"
      ]
    },
    {
      "cell_type": "code",
      "execution_count": null,
      "metadata": {
        "id": "EcEmzO85aKSu"
      },
      "outputs": [],
      "source": [
        "bikes['Seasons'].value_counts()"
      ]
    },
    {
      "cell_type": "code",
      "execution_count": null,
      "metadata": {
        "id": "vSOhTEuSaKSv"
      },
      "outputs": [],
      "source": [
        "# вариант получения частотной таблицы (отсортированной по индексу)\n",
        "bikes.groupby('Seasons').size()"
      ]
    },
    {
      "cell_type": "code",
      "execution_count": null,
      "metadata": {
        "id": "iyoHhFWBaKSv"
      },
      "outputs": [],
      "source": [
        "bikes.groupby('Seasons')['Temperature Category'].value_counts()"
      ]
    },
    {
      "cell_type": "code",
      "execution_count": null,
      "metadata": {
        "id": "LkSrCaBvaKSw"
      },
      "outputs": [],
      "source": [
        "bikes['Normal Humidity'].unique()"
      ]
    },
    {
      "cell_type": "code",
      "execution_count": null,
      "metadata": {
        "id": "TL7hdcpTaKSx"
      },
      "outputs": [],
      "source": [
        "bikes.groupby('Seasons')['Normal Humidity'].sum()"
      ]
    },
    {
      "cell_type": "code",
      "execution_count": null,
      "metadata": {
        "id": "MRUtFCAAaKSy"
      },
      "outputs": [],
      "source": [
        "bikes.groupby('Seasons')['Rental Count'].sum()"
      ]
    },
    {
      "cell_type": "code",
      "execution_count": null,
      "metadata": {
        "id": "t4AVFCwnaKSz"
      },
      "outputs": [],
      "source": [
        "bikes.groupby(['Seasons', 'Temperature Category'])['Rental Count'].sum()"
      ]
    },
    {
      "cell_type": "code",
      "execution_count": null,
      "metadata": {
        "id": "fiQz5ggCaKS0"
      },
      "outputs": [],
      "source": [
        "bikes['Temperature'].value_counts()"
      ]
    },
    {
      "cell_type": "code",
      "execution_count": null,
      "metadata": {
        "id": "UXYxLJi-aKS1"
      },
      "outputs": [],
      "source": [
        "bikes['Temperature'].hist()"
      ]
    },
    {
      "cell_type": "code",
      "execution_count": null,
      "metadata": {
        "id": "YI1xEjMCaKS3"
      },
      "outputs": [],
      "source": [
        "# раздробить переменную на побольше промежутков\n",
        "bikes['Temperature'].hist(bins=20)"
      ]
    },
    {
      "cell_type": "code",
      "execution_count": null,
      "metadata": {
        "id": "HsYSv6MOaKS3"
      },
      "outputs": [],
      "source": [
        "bikes['Temperature Category'].value_counts().plot(kind='bar')"
      ]
    },
    {
      "cell_type": "code",
      "execution_count": null,
      "metadata": {
        "id": "mFPbpqtRaKS4"
      },
      "outputs": [],
      "source": [
        "# в алфавитном порядке\n",
        "bikes.groupby('Temperature Category').size().plot(kind='bar')"
      ]
    },
    {
      "cell_type": "code",
      "execution_count": null,
      "metadata": {
        "id": "G2sbjZ1TaKS6"
      },
      "outputs": [],
      "source": [
        "# %matplotlib notebook"
      ]
    },
    {
      "cell_type": "code",
      "execution_count": null,
      "metadata": {
        "id": "HQnnR1TAaKS8"
      },
      "outputs": [],
      "source": [
        "bikes.groupby('Seasons')['Temperature Category'].value_counts().plot(kind='bar');"
      ]
    },
    {
      "cell_type": "code",
      "execution_count": null,
      "metadata": {
        "id": "yiUcyA43aKS8"
      },
      "outputs": [],
      "source": [
        "bikes.groupby('Seasons')['Temperature Category'].value_counts()"
      ]
    },
    {
      "cell_type": "code",
      "execution_count": null,
      "metadata": {
        "id": "Gmfe5lziaKS9"
      },
      "outputs": [],
      "source": [
        "# такой формат называется длинная таблица (long table)\n",
        "bikes.groupby('Seasons')['Temperature Category'].value_counts().unstack()"
      ]
    },
    {
      "cell_type": "code",
      "execution_count": null,
      "metadata": {
        "id": "w5z8_Qb9aKS-"
      },
      "outputs": [],
      "source": [
        "bikes.groupby('Seasons')['Temperature Category'].value_counts().unstack().plot(kind='bar')"
      ]
    },
    {
      "cell_type": "code",
      "execution_count": null,
      "metadata": {
        "id": "YIGF1730aKS_"
      },
      "outputs": [],
      "source": [
        "bikes.groupby('Seasons')['Temperature Category'].value_counts().unstack().plot(kind='bar', stacked=True)"
      ]
    },
    {
      "cell_type": "code",
      "execution_count": null,
      "metadata": {
        "id": "7SlfrO3taKTA"
      },
      "outputs": [],
      "source": []
    },
    {
      "cell_type": "markdown",
      "metadata": {
        "id": "Bc-RhawoaKTA"
      },
      "source": [
        "# Меры центральной тенденции"
      ]
    },
    {
      "cell_type": "code",
      "execution_count": null,
      "metadata": {
        "id": "NuBwQIYraKTB"
      },
      "outputs": [],
      "source": [
        "# среднее\n",
        "bikes['Humidity'].sum() / len(bikes['Humidity'])"
      ]
    },
    {
      "cell_type": "code",
      "execution_count": null,
      "metadata": {
        "id": "MZ6UzR-faKTC"
      },
      "outputs": [],
      "source": [
        "bikes['Humidity'].mean()"
      ]
    },
    {
      "cell_type": "code",
      "execution_count": null,
      "metadata": {
        "id": "OBpHzJZnaKTD"
      },
      "outputs": [],
      "source": [
        "# медиана\n",
        "hum_sorted = bikes['Humidity'].sort_values().reset_index(drop=True)\n",
        "print(len(hum_sorted))\n",
        "\n",
        "ind_1, ind_2 = int(len(hum_sorted) / 2), int((len(hum_sorted) + 2) / 2)\n",
        "print((hum_sorted[ind_1] + hum_sorted[ind_2]) / 2)\n",
        "print(hum_sorted[ind_1], hum_sorted[ind_2])"
      ]
    },
    {
      "cell_type": "code",
      "execution_count": null,
      "metadata": {
        "id": "As84rbDNaKTE"
      },
      "outputs": [],
      "source": [
        "bikes['Humidity'].median()"
      ]
    },
    {
      "cell_type": "code",
      "execution_count": null,
      "metadata": {
        "id": "b6-e7WKYaKTE"
      },
      "outputs": [],
      "source": [
        "# мода\n",
        "bikes['Humidity'].value_counts().head(2)"
      ]
    },
    {
      "cell_type": "code",
      "execution_count": null,
      "metadata": {
        "id": "pVBzJWZaaKTF"
      },
      "outputs": [],
      "source": [
        "bikes['Humidity'].mode()"
      ]
    },
    {
      "cell_type": "code",
      "execution_count": null,
      "metadata": {
        "id": "rtqa3UAxaKTG"
      },
      "outputs": [],
      "source": [
        "bikes['Humidity'].hist(bins=100)"
      ]
    },
    {
      "cell_type": "code",
      "execution_count": null,
      "metadata": {
        "id": "SBObtwkraKTH"
      },
      "outputs": [],
      "source": [
        "bikes.describe()"
      ]
    },
    {
      "cell_type": "code",
      "execution_count": null,
      "metadata": {
        "id": "-rrEZ_mhaKTI"
      },
      "outputs": [],
      "source": [
        "bikes['Humidity'].describe()"
      ]
    },
    {
      "cell_type": "code",
      "execution_count": null,
      "metadata": {
        "id": "MEktVFf9aKTK"
      },
      "outputs": [],
      "source": [
        "print(bikes['Humidity'].mean())\n",
        "print(bikes['Humidity'].median())\n",
        "print(bikes['Humidity'].mode())"
      ]
    },
    {
      "cell_type": "code",
      "execution_count": null,
      "metadata": {
        "id": "yYIkoPozaKTL"
      },
      "outputs": [],
      "source": [
        "bikes.groupby('Hour')['Rental Count'].mean()"
      ]
    },
    {
      "cell_type": "code",
      "execution_count": null,
      "metadata": {
        "id": "ZWdKYoooaKTL"
      },
      "outputs": [],
      "source": [
        "bikes.groupby(['Hour', 'Good Weather'])['Rental Count'].mean()"
      ]
    },
    {
      "cell_type": "code",
      "execution_count": null,
      "metadata": {
        "id": "25j_DnJfaKTM"
      },
      "outputs": [],
      "source": [
        "bikes.groupby('Hour')['Rental Count'].mean().plot(kind='bar')"
      ]
    },
    {
      "cell_type": "code",
      "execution_count": null,
      "metadata": {
        "id": "sZu9n8i0aKTN"
      },
      "outputs": [],
      "source": [
        "bikes.groupby('Hour')['Rental Count'].median()"
      ]
    },
    {
      "cell_type": "code",
      "execution_count": null,
      "metadata": {
        "id": "hdhAXhS3aKTO"
      },
      "outputs": [],
      "source": [
        "bikes.groupby('Seasons')['Temperature Category'].agg(pd.Series.mode)"
      ]
    },
    {
      "cell_type": "code",
      "execution_count": null,
      "metadata": {
        "id": "ZjiekiqhaKTO"
      },
      "outputs": [],
      "source": [
        "bikes.groupby('Seasons')['Temperature Category'].agg(lambda x: x.value_counts().index[0])"
      ]
    },
    {
      "cell_type": "code",
      "execution_count": null,
      "metadata": {
        "id": "iCLxHVllaKTP"
      },
      "outputs": [],
      "source": [
        "bikes.groupby('Seasons')['Temperature'].agg('mean')"
      ]
    },
    {
      "cell_type": "code",
      "execution_count": null,
      "metadata": {
        "id": "Q6ZbqxIwaKTQ"
      },
      "outputs": [],
      "source": [
        "bikes.groupby('Seasons')['Temperature'].mean()"
      ]
    },
    {
      "cell_type": "code",
      "execution_count": null,
      "metadata": {
        "id": "TSp-48UUaKTR"
      },
      "outputs": [],
      "source": [
        "bikes.groupby('Seasons')['Temperature'].agg(func=['mean', 'median'])"
      ]
    },
    {
      "cell_type": "code",
      "execution_count": null,
      "metadata": {
        "id": "S5LgtY_WaKTR"
      },
      "outputs": [],
      "source": [
        "bikes.columns"
      ]
    },
    {
      "cell_type": "code",
      "execution_count": null,
      "metadata": {
        "id": "ZwAsvM0QaKTS"
      },
      "outputs": [],
      "source": []
    },
    {
      "cell_type": "markdown",
      "metadata": {
        "id": "DiPYrQfsaKTT"
      },
      "source": [
        "# Меры разброса"
      ]
    },
    {
      "cell_type": "code",
      "execution_count": null,
      "metadata": {
        "id": "tO5hnVO_aKTU"
      },
      "outputs": [],
      "source": [
        "bikes_hour = pd.DataFrame(bikes.groupby('Hour')['Rental Count'].sum())\n",
        "bikes_hour.head()"
      ]
    },
    {
      "cell_type": "code",
      "execution_count": null,
      "metadata": {
        "id": "vy4ivXf8aKTV"
      },
      "outputs": [],
      "source": [
        "bikes_hour.plot(kind='bar')"
      ]
    },
    {
      "cell_type": "code",
      "execution_count": null,
      "metadata": {
        "id": "pPNUB3wUaKTV"
      },
      "outputs": [],
      "source": [
        "bikes_hour.describe()"
      ]
    },
    {
      "cell_type": "code",
      "execution_count": null,
      "metadata": {
        "id": "WCjzY9JTaKTW"
      },
      "outputs": [],
      "source": [
        "bikes_hour.describe()['Rental Count']['25%']"
      ]
    },
    {
      "cell_type": "code",
      "execution_count": null,
      "metadata": {
        "id": "DvjvKTiJaKTX"
      },
      "outputs": [],
      "source": [
        "# размах\n",
        "bikes_hour['Rental Count'].max() - bikes_hour['Rental Count'].min()"
      ]
    },
    {
      "cell_type": "code",
      "execution_count": null,
      "metadata": {
        "id": "7oOv0yU2aKTY"
      },
      "outputs": [],
      "source": [
        "# интерквартильный размах\n",
        "bikes_hour['Rental Count'].quantile(0.75) - bikes_hour['Rental Count'].quantile(0.25)"
      ]
    },
    {
      "cell_type": "code",
      "execution_count": null,
      "metadata": {
        "id": "hF_TTrJTaKTZ"
      },
      "outputs": [],
      "source": [
        "# перцентили\n",
        "print(np.percentile(bikes_hour['Rental Count'], 25))\n",
        "print(np.quantile(bikes_hour['Rental Count'], 0.25))"
      ]
    },
    {
      "cell_type": "code",
      "execution_count": null,
      "metadata": {
        "id": "ew9tv7gDaKTa"
      },
      "outputs": [],
      "source": [
        "bikes_mean = bikes_hour['Rental Count'].mean()\n",
        "deviations = bikes_hour['Rental Count'] - bikes_mean  # отклонения\n",
        "sq_deviations = deviations ** 2\n",
        "\n",
        "variance_samp = sq_deviations.sum() / (len(bikes_hour) - 1)  # дисперсия (для выборки)\n",
        "std_samp = np.sqrt(variance_samp)                            # среднеквадратичное отклонение\n",
        "print(variance_samp)\n",
        "print(std_samp)"
      ]
    },
    {
      "cell_type": "code",
      "execution_count": null,
      "metadata": {
        "id": "2i7wL26UaKTc"
      },
      "outputs": [],
      "source": [
        "variance_pop = sq_deviations.sum() / len(bikes_hour)  # дисперсия (для ген совокупности)\n",
        "std_pop = np.sqrt(variance_pop)                       # среднеквадратичное отклонение\n",
        "print(variance_pop)\n",
        "print(std_pop)"
      ]
    },
    {
      "cell_type": "code",
      "execution_count": null,
      "metadata": {
        "id": "gAfdfMUlaKTd"
      },
      "outputs": [],
      "source": [
        "# для выборки\n",
        "print(bikes_hour['Rental Count'].var())\n",
        "print(bikes_hour['Rental Count'].std()) # print(np.sqrt(bikes_hour['Rental Count'].var()))"
      ]
    },
    {
      "cell_type": "code",
      "execution_count": null,
      "metadata": {
        "id": "GTWHocqaaKTe"
      },
      "outputs": [],
      "source": [
        "# для ген совокупности\n",
        "print(bikes_hour['Rental Count'].var(ddof=0))\n",
        "print(bikes_hour['Rental Count'].std(ddof=0))"
      ]
    },
    {
      "cell_type": "code",
      "execution_count": null,
      "metadata": {
        "id": "y8fwusH_aKTg"
      },
      "outputs": [],
      "source": [
        "bikes.groupby('Hour')['Rental Count'].std()"
      ]
    },
    {
      "cell_type": "code",
      "execution_count": null,
      "metadata": {
        "id": "RLHrZ3APaKTi"
      },
      "outputs": [],
      "source": [
        "bikes.groupby('Hour')['Rental Count'].agg(['mean', 'std'])"
      ]
    },
    {
      "cell_type": "code",
      "execution_count": null,
      "metadata": {
        "id": "UtHfhDvZaKTj"
      },
      "outputs": [],
      "source": []
    }
  ],
  "metadata": {
    "kernelspec": {
      "display_name": "Python 3 (ipykernel)",
      "language": "python",
      "name": "python3"
    },
    "language_info": {
      "codemirror_mode": {
        "name": "ipython",
        "version": 3
      },
      "file_extension": ".py",
      "mimetype": "text/x-python",
      "name": "python",
      "nbconvert_exporter": "python",
      "pygments_lexer": "ipython3",
      "version": "3.9.12"
    },
    "colab": {
      "provenance": [],
      "include_colab_link": true
    }
  },
  "nbformat": 4,
  "nbformat_minor": 0
}