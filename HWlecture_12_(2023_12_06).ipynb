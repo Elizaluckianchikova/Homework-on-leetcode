{
  "cells": [
    {
      "cell_type": "markdown",
      "metadata": {
        "id": "view-in-github",
        "colab_type": "text"
      },
      "source": [
        "<a href=\"https://colab.research.google.com/github/Elizaluckianchikova/Homework-on-leetcode/blob/main/HWlecture_12_(2023_12_06).ipynb\" target=\"_parent\"><img src=\"https://colab.research.google.com/assets/colab-badge.svg\" alt=\"Open In Colab\"/></a>"
      ]
    },
    {
      "cell_type": "markdown",
      "metadata": {
        "id": "NbbuEIbC6MRE"
      },
      "source": [
        "# Lecture 12: Data Science Tools: NumPy\n",
        "\n",
        "In some ways, NumPy (short for Numerical Python) arrays are like Python's built-in list type, but NumPy arrays provide much more efficient storage and data operations as the arrays grow larger in size.\n",
        "\n",
        "NumPy arrays form the core of nearly the entire ecosystem of data science tools in Python, so time spent learning to use NumPy effectively will be valuable no matter what aspect of data science interests you."
      ]
    },
    {
      "cell_type": "code",
      "execution_count": null,
      "metadata": {
        "id": "PrXTa89E6MRL"
      },
      "outputs": [],
      "source": [
        "import warnings\n",
        "\n",
        "warnings.filterwarnings(\"ignore\")"
      ]
    },
    {
      "cell_type": "markdown",
      "metadata": {
        "id": "aZUMBmav_utA"
      },
      "source": [
        "Мы могли писать такой код и ни о чем не задумываться."
      ]
    },
    {
      "cell_type": "code",
      "execution_count": null,
      "metadata": {
        "id": "FSHek2dN_utA"
      },
      "outputs": [],
      "source": [
        "%%time\n",
        "\n",
        "n = 10 ** 7\n",
        "\n",
        "array = []\n",
        "for i in range(n):\n",
        "    array.append(i * 5)\n",
        "\n",
        "print(array[:5])"
      ]
    },
    {
      "cell_type": "code",
      "execution_count": null,
      "metadata": {
        "id": "xg4fRp7X6MRP"
      },
      "outputs": [],
      "source": [
        "%%time\n",
        "\n",
        "n = 10 ** 7\n",
        "\n",
        "array = [i * 5 for i in range(n)]\n",
        "\n",
        "print(array[:5])"
      ]
    },
    {
      "cell_type": "code",
      "execution_count": null,
      "metadata": {
        "id": "RVvjLroz6MRQ"
      },
      "outputs": [],
      "source": [
        "import numpy as np"
      ]
    },
    {
      "cell_type": "code",
      "execution_count": null,
      "metadata": {
        "id": "o6ioWDNr6MRT"
      },
      "outputs": [],
      "source": [
        "%%time\n",
        "\n",
        "n = 10 ** 7\n",
        "\n",
        "array = np.arange(n) * 5\n",
        "\n",
        "print(array[:5])"
      ]
    },
    {
      "cell_type": "code",
      "execution_count": null,
      "metadata": {
        "id": "Shgg4h5r6MRU"
      },
      "outputs": [],
      "source": [
        "np.__version__"
      ]
    },
    {
      "cell_type": "code",
      "execution_count": null,
      "metadata": {
        "id": "vkt3rS0X_utC"
      },
      "outputs": [],
      "source": [
        "# Как скачать себе эту библиотеку?\n",
        "# !conda install numpy\n",
        "# !pip3 install numpy\n",
        "# !pip install numpy"
      ]
    },
    {
      "cell_type": "markdown",
      "metadata": {
        "id": "G7t67Mlv_utD"
      },
      "source": [
        "## 1. Одномерные массивы"
      ]
    },
    {
      "cell_type": "code",
      "execution_count": null,
      "metadata": {
        "id": "-p1555UI_utD"
      },
      "outputs": [],
      "source": [
        "a = [1, 2, 3]\n",
        "b = np.array(a)\n",
        "\n",
        "print(a)\n",
        "print(type(a))\n",
        "print()\n",
        "print(b)\n",
        "print(type(b))"
      ]
    },
    {
      "cell_type": "markdown",
      "metadata": {
        "id": "Z6yyCigN_utD"
      },
      "source": [
        "Если типы разные, то идет неявный каст к одному."
      ]
    },
    {
      "cell_type": "code",
      "execution_count": null,
      "metadata": {
        "id": "kjKZeg4w6MRY"
      },
      "outputs": [],
      "source": [
        "a = [1, 2, 3.4]\n",
        "b = np.array(a)\n",
        "\n",
        "print(type(a[0]))\n",
        "print(type(b[0]))\n",
        "\n",
        "print(a)\n",
        "print(b)"
      ]
    },
    {
      "cell_type": "code",
      "execution_count": null,
      "metadata": {
        "id": "fXDm6tv__utE"
      },
      "outputs": [],
      "source": [
        "a = [1, 2, 'a']\n",
        "b = np.array(a)\n",
        "\n",
        "print(type(a[0]))\n",
        "print(type(b[0]))\n",
        "\n",
        "print(a)\n",
        "print(b)"
      ]
    },
    {
      "cell_type": "markdown",
      "metadata": {
        "id": "FvUaUOWY_utF"
      },
      "source": [
        "Узнаем размер массива."
      ]
    },
    {
      "cell_type": "code",
      "execution_count": null,
      "metadata": {
        "id": "EzotaqMm_utF"
      },
      "outputs": [],
      "source": [
        "arr = np.array([5, 6, 2, 1, 10])\n",
        "\n",
        "print(arr.nbytes)"
      ]
    },
    {
      "cell_type": "markdown",
      "metadata": {
        "id": "0B7cbpZU_utH"
      },
      "source": [
        "Посмотрим на количественные характеристики ``ndarray``."
      ]
    },
    {
      "cell_type": "code",
      "execution_count": null,
      "metadata": {
        "id": "wFdlhYMM6MRc"
      },
      "outputs": [],
      "source": [
        "my_list = np.array([1, 2, 3])\n",
        "print(my_list)\n",
        "\n",
        "my_list[0] = 3\n",
        "print(my_list)"
      ]
    },
    {
      "cell_type": "code",
      "execution_count": null,
      "metadata": {
        "id": "K2je6I4r_utI"
      },
      "outputs": [],
      "source": [
        "a = np.array([1, 2, 3, 4])\n",
        "\n",
        "print(a[0], a[1], a[-1])  # индексы\n",
        "\n",
        "a[2] = -1                 # можем изменять объекты массива\n",
        "print(a)"
      ]
    },
    {
      "cell_type": "code",
      "execution_count": null,
      "metadata": {
        "id": "Ylt5nV8g6MRe"
      },
      "outputs": [],
      "source": [
        "# Tic-Tac-Toe Game\n",
        "arr = np.array([\n",
        "    [1, 2, 3], [2, 3, 4], [1, 1, 1]\n",
        "])\n",
        "\n",
        "print(arr)"
      ]
    },
    {
      "cell_type": "code",
      "execution_count": null,
      "metadata": {
        "id": "LXjYyRxE6MRe"
      },
      "outputs": [],
      "source": [
        "arr = np.array([\n",
        "    [1, 2, 3], [2, 3, 4], [1, 1, 1], [1, 2, 3]\n",
        "])  # matrix 4 * 3\n",
        "\n",
        "print(arr)\n",
        "\n",
        "print(len(arr))   # количество элементов по первой оси\n",
        "print(arr.size)   # всего элементов в матрице\n",
        "\n",
        "print(arr.ndim)   # размерность матрицы\n",
        "print(arr.shape)  # количество элементов по каждой оси"
      ]
    },
    {
      "cell_type": "code",
      "execution_count": null,
      "metadata": {
        "id": "YloIn8Ix6MRf"
      },
      "outputs": [],
      "source": [
        "arr = np.array([1, 2, 3])\n",
        "\n",
        "print(arr.ndim)   # размерность матрицы"
      ]
    },
    {
      "cell_type": "markdown",
      "metadata": {
        "id": "AV5RMk7m_utK"
      },
      "source": [
        "``ndarray`` можно использовать в циклах. Но при этом теряется главное преимущество `Numpy` -- быстродействие. Всегда, когда это возможно, лучше использовать операции над массивами как едиными целыми."
      ]
    },
    {
      "cell_type": "code",
      "execution_count": null,
      "metadata": {
        "id": "I7Gxx9Ev_utK"
      },
      "outputs": [],
      "source": [
        "%%time\n",
        "n = 10_000_000\n",
        "\n",
        "arr = np.array(range(n))\n",
        "\n",
        "for i in range(len(arr)):\n",
        "    arr[i] *= 10\n",
        "\n",
        "print(arr[:5])"
      ]
    },
    {
      "cell_type": "code",
      "execution_count": null,
      "metadata": {
        "id": "jfprNPB46MRh"
      },
      "outputs": [],
      "source": [
        "%%time\n",
        "n = 10_000_000\n",
        "\n",
        "arr = np.array(range(n))\n",
        "arr = arr * 10\n",
        "\n",
        "print(arr[:5])"
      ]
    },
    {
      "cell_type": "markdown",
      "metadata": {
        "id": "rY90YTcw_utL"
      },
      "source": [
        "## Создание массивов"
      ]
    },
    {
      "cell_type": "code",
      "execution_count": null,
      "metadata": {
        "id": "vVFo3DhS_utL"
      },
      "outputs": [],
      "source": [
        "a = np.zeros(7)  # массив из нулей\n",
        "b = np.ones(5)   # массив из единиц\n",
        "\n",
        "print(a)\n",
        "print(b)\n",
        "\n",
        "print(a.dtype)"
      ]
    },
    {
      "cell_type": "markdown",
      "metadata": {
        "id": "XiMc_ATd_utL"
      },
      "source": [
        "Функция `np.arange` подобна `range`. Аргументы могут быть с плавающей точкой. Следует избегать ситуаций, когда (конец-начало)/шаг -- целое число, потому что в этом случае включение последнего элемента зависит от ошибок округления. Лучше, чтобы конец диапазона был где-то посредине шага."
      ]
    },
    {
      "cell_type": "code",
      "execution_count": null,
      "metadata": {
        "id": "heQ6wJmM_utN"
      },
      "outputs": [],
      "source": [
        "a = np.arange(5)\n",
        "b = np.arange(1, 10)\n",
        "c = np.arange(1, 16, 4)\n",
        "\n",
        "d = np.arange(5.1, 21, 2.5)\n",
        "d = np.arange(5.0, 21, 2.5)\n",
        "\n",
        "print(a)\n",
        "print(b)\n",
        "print(c)\n",
        "print(d)"
      ]
    },
    {
      "cell_type": "markdown",
      "metadata": {
        "id": "1WTiQphx_utO"
      },
      "source": [
        "Последовательности чисел с постоянным шагом можно также создавать функцией `linspace`. Начало и конец диапазона включаются; последний аргумент -- число точек."
      ]
    },
    {
      "cell_type": "code",
      "execution_count": null,
      "metadata": {
        "id": "OWrTQixa_utO"
      },
      "outputs": [],
      "source": [
        "a = np.linspace(1, 15, 2)\n",
        "print(a)\n",
        "\n",
        "b = np.linspace(1, 15, 3)\n",
        "print(b)\n",
        "\n",
        "c = np.linspace(1, 15, 5)\n",
        "print(c)\n",
        "\n",
        "d = np.linspace(10, 50)\n",
        "print(d)\n",
        "\n",
        "f = np.linspace(10, 50, 5)\n",
        "print(f)"
      ]
    },
    {
      "cell_type": "markdown",
      "metadata": {
        "id": "6tzHNTTP_utP"
      },
      "source": [
        "# Операции над одномерными массивами."
      ]
    },
    {
      "cell_type": "markdown",
      "metadata": {
        "id": "FCJIPaY7_utP"
      },
      "source": [
        "Все арифметические операции производятся поэлементно"
      ]
    },
    {
      "cell_type": "code",
      "execution_count": null,
      "metadata": {
        "id": "GnjOwnni_utP"
      },
      "outputs": [],
      "source": [
        "a = np.linspace(3, 11, 3)\n",
        "print(a)\n",
        "\n",
        "b = np.linspace(1, 10, 3)\n",
        "print(b)\n",
        "\n",
        "print()\n",
        "print(a + b)\n",
        "print(a - b)\n",
        "print(a * b)  # (3 * 1) * (3 * 1)\n",
        "print(a / b)\n",
        "print(a // b)\n",
        "print(a % b)"
      ]
    },
    {
      "cell_type": "markdown",
      "metadata": {
        "id": "X4Dl5ZPq_utQ"
      },
      "source": [
        "Один из операндов может быть скаляром, а не массивом"
      ]
    },
    {
      "cell_type": "code",
      "execution_count": null,
      "metadata": {
        "id": "VOCLmN8I_utQ"
      },
      "outputs": [],
      "source": [
        "print(a)\n",
        "print(a * 5)\n",
        "print()\n",
        "\n",
        "print(b)\n",
        "print(b + 10)"
      ]
    },
    {
      "cell_type": "code",
      "execution_count": null,
      "metadata": {
        "id": "sM1gLctM6MRo"
      },
      "outputs": [],
      "source": [
        "a = np.random.rand(4, 2)                  # random decimal numbers\n",
        "print(a, \"\\n\")\n",
        "\n",
        "b = np.random.randint(-4, 8)              # random integer values\n",
        "print(b, \"\\n\")\n",
        "\n",
        "c = np.random.randint(0, 8, size=(3, 3))  # random integer values\n",
        "print(c, \"\\n\")\n",
        "\n",
        "d = np.random.random((3, 4))              # random floats\n",
        "print(d)\n",
        "\n",
        "# https://stackoverflow.com/questions/47231852/np-random-rand-vs-np-random-random"
      ]
    },
    {
      "cell_type": "code",
      "execution_count": null,
      "metadata": {
        "id": "vFJIX6j26MRo"
      },
      "outputs": [],
      "source": [
        "y_true = np.linspace(3, 11, 3)\n",
        "y_pred = np.linspace(3, 11, 3) + np.random.random((3))\n",
        "\n",
        "print(f\"y_true: {y_true}\")\n",
        "print(f\"y_pred: {y_pred}\")\n",
        "\n",
        "def mse(y_true, y_pred):  # mean squared error\n",
        "    return np.sum((y_true - y_pred) ** 2) / y_true.shape[0]\n",
        "\n",
        "print(mse(y_true, y_pred))"
      ]
    },
    {
      "cell_type": "markdown",
      "metadata": {
        "id": "QjnNr58x_utQ"
      },
      "source": [
        "В ``Numpy`` есть элементарные функции, которые тоже применяются к массивам поэлементно. Они называются универсальными функциями (``ufunc``)."
      ]
    },
    {
      "cell_type": "code",
      "execution_count": null,
      "metadata": {
        "id": "vQDs6bTv_utR"
      },
      "outputs": [],
      "source": [
        "type(np.cos)"
      ]
    },
    {
      "cell_type": "code",
      "execution_count": null,
      "metadata": {
        "id": "8J_xxASK_utR"
      },
      "outputs": [],
      "source": [
        "np.cos(a), np.sin(a)"
      ]
    },
    {
      "cell_type": "code",
      "execution_count": null,
      "metadata": {
        "id": "DiAqTLSn_utR"
      },
      "outputs": [],
      "source": [
        "np.log(b)"
      ]
    },
    {
      "cell_type": "code",
      "execution_count": null,
      "metadata": {
        "id": "DEFQmPV6_utU"
      },
      "outputs": [],
      "source": [
        "print(np.e, np.pi)"
      ]
    },
    {
      "cell_type": "code",
      "execution_count": null,
      "metadata": {
        "id": "_VMepMXJ_utU"
      },
      "outputs": [],
      "source": [
        "print(b)\n",
        "print(b.cumsum())"
      ]
    },
    {
      "cell_type": "markdown",
      "metadata": {
        "id": "mA75T51o_utR"
      },
      "source": [
        "Логические операции также производятся поэлементно"
      ]
    },
    {
      "cell_type": "code",
      "execution_count": null,
      "metadata": {
        "id": "bxg7QoL1_utR"
      },
      "outputs": [],
      "source": [
        "print(a, b)\n",
        "print(a > b)\n",
        "print(a == b)\n",
        "print(a <= 10)"
      ]
    },
    {
      "cell_type": "markdown",
      "metadata": {
        "id": "9cA9X0SV_utR"
      },
      "source": [
        "Кванторы ``всеобщности`` ($\\forall$) и ``существования`` ($\\exists$)"
      ]
    },
    {
      "cell_type": "code",
      "execution_count": null,
      "metadata": {
        "id": "v_AB-tbW_utS"
      },
      "outputs": [],
      "source": [
        "c = np.arange(0., 20)\n",
        "print(c)\n",
        "\n",
        "print(type(c[0]))"
      ]
    },
    {
      "cell_type": "code",
      "execution_count": null,
      "metadata": {
        "id": "sjsPhFRI6MR-"
      },
      "outputs": [],
      "source": [
        "c == 0."
      ]
    },
    {
      "cell_type": "code",
      "execution_count": null,
      "metadata": {
        "id": "TTXpq1jn_utS"
      },
      "outputs": [],
      "source": [
        "np.any(c == 0.), np.all(c == 0.)"
      ]
    },
    {
      "cell_type": "markdown",
      "metadata": {
        "id": "RGMwCAcI_utT"
      },
      "source": [
        "При делении ``ndarray`` на нули, исключения не бросается"
      ]
    },
    {
      "cell_type": "code",
      "execution_count": null,
      "metadata": {
        "id": "6BTbVdSD6MSD"
      },
      "outputs": [],
      "source": [
        "5 / 0.0"
      ]
    },
    {
      "cell_type": "code",
      "execution_count": null,
      "metadata": {
        "id": "otVra42G_utT"
      },
      "outputs": [],
      "source": [
        "np.array([0.0, 0.0, 1.0, -1.0]) / np.array([1.0, 0.0, 0.0, 0.0])"
      ]
    },
    {
      "cell_type": "markdown",
      "metadata": {
        "id": "2CfCkU_Q_utU"
      },
      "source": [
        "Посмотрим на сортировку numpy-массивов"
      ]
    },
    {
      "cell_type": "code",
      "execution_count": null,
      "metadata": {
        "id": "76_uCJUr_utU"
      },
      "outputs": [],
      "source": [
        "a = np.array([1, 5, 6, 10, -2, 0, 18])\n",
        "print(a)\n",
        "\n",
        "print(np.sort(a))\n",
        "print(a)"
      ]
    },
    {
      "cell_type": "markdown",
      "metadata": {
        "id": "95pzhn5c_utU"
      },
      "source": [
        "Теперь попробуем как метод"
      ]
    },
    {
      "cell_type": "code",
      "execution_count": null,
      "metadata": {
        "id": "SFm__ynY_utV"
      },
      "outputs": [],
      "source": [
        "a.sort()\n",
        "print(a)"
      ]
    },
    {
      "cell_type": "markdown",
      "metadata": {
        "id": "WVKJqS7v_utV"
      },
      "source": [
        "Объединим массивы"
      ]
    },
    {
      "cell_type": "code",
      "execution_count": null,
      "metadata": {
        "id": "wrspt4mM_utV"
      },
      "outputs": [],
      "source": [
        "print(a)\n",
        "\n",
        "b = np.ones(5)\n",
        "print(b)\n",
        "\n",
        "c = np.hstack((a, b, b * 5))\n",
        "c"
      ]
    },
    {
      "cell_type": "markdown",
      "metadata": {
        "id": "Imk9j8A7_utW"
      },
      "source": [
        "Функции ``append`` ``delete`` ``insert`` не Inplace функции"
      ]
    },
    {
      "cell_type": "code",
      "execution_count": null,
      "metadata": {
        "id": "UaM6YC2d6MSL"
      },
      "outputs": [],
      "source": [
        "print(a)"
      ]
    },
    {
      "cell_type": "code",
      "execution_count": null,
      "metadata": {
        "id": "qZeLBbQ4_utX"
      },
      "outputs": [],
      "source": [
        "np.append(a, [2.2, 2.5])"
      ]
    },
    {
      "cell_type": "code",
      "execution_count": null,
      "metadata": {
        "id": "0nOhUZkx_utW"
      },
      "outputs": [],
      "source": [
        "print(a)\n",
        "\n",
        "print(np.delete(a, [2, 4, 1]))\n",
        "print(a)"
      ]
    },
    {
      "cell_type": "code",
      "execution_count": null,
      "metadata": {
        "id": "8SUQlo2s_utW"
      },
      "outputs": [],
      "source": [
        "print(a)\n",
        "\n",
        "np.insert(a, 2, [-1, -1])"
      ]
    },
    {
      "cell_type": "markdown",
      "metadata": {
        "id": "EY8LCSPn_utX"
      },
      "source": [
        "## Индексирование массивов и срезы"
      ]
    },
    {
      "cell_type": "code",
      "execution_count": null,
      "metadata": {
        "id": "w1EGOsVW_utX"
      },
      "outputs": [],
      "source": [
        "a = np.array([1, 5, 6, 10, -2, 0, 18])\n",
        "print(a)\n",
        "\n",
        "a[::-1]  # массив в обратном порядоке"
      ]
    },
    {
      "cell_type": "markdown",
      "metadata": {
        "id": "7LUt5Rtq_utY"
      },
      "source": [
        "Диапазон индексов. Создаётся новый заголовок массива, указывающий на те же данные. Изменения, сделанные через такой массив, видны и в исходном массиве"
      ]
    },
    {
      "cell_type": "code",
      "execution_count": null,
      "metadata": {
        "id": "Qv-Ijg_k_utY"
      },
      "outputs": [],
      "source": [
        "print(a)"
      ]
    },
    {
      "cell_type": "code",
      "execution_count": null,
      "metadata": {
        "id": "h1taQuOu_utY"
      },
      "outputs": [],
      "source": [
        "a[2:5]"
      ]
    },
    {
      "cell_type": "code",
      "execution_count": null,
      "metadata": {
        "id": "OEzQjMOJ_utY"
      },
      "outputs": [],
      "source": [
        "print(f\"a = {a}\")\n",
        "\n",
        "b = a[0:6]  # копия не создается\n",
        "print(f\"b = {b}\")\n",
        "\n",
        "b[1] = -15\n",
        "print(f\"a = {a}\")"
      ]
    },
    {
      "cell_type": "markdown",
      "metadata": {
        "id": "7uzmZNXf_utZ"
      },
      "source": [
        "Чтобы скопировать и данные массива, нужно использовать метод ``copy``"
      ]
    },
    {
      "cell_type": "code",
      "execution_count": null,
      "metadata": {
        "id": "W-KuaU4W_utZ"
      },
      "outputs": [],
      "source": [
        "print(f\"a = {a}\")\n",
        "\n",
        "b = a.copy()\n",
        "print(f\"b = {b}\")\n",
        "\n",
        "b[2] = -4\n",
        "print(f\"b = {b}\")\n",
        "print(f\"a = {a}\")"
      ]
    },
    {
      "cell_type": "code",
      "execution_count": null,
      "metadata": {
        "id": "BbQnlrci_utZ"
      },
      "outputs": [],
      "source": [
        "a = np.array([1, 5, 6, 10, -2, 0, 18])\n",
        "print(a)\n",
        "\n",
        "print(a[[5, 3, 1]])  # массив индексов"
      ]
    },
    {
      "cell_type": "markdown",
      "metadata": {
        "id": "lkvf6MZ0_uta"
      },
      "source": [
        "# 3. Двумерные массивы"
      ]
    },
    {
      "cell_type": "code",
      "execution_count": null,
      "metadata": {
        "id": "YQuMJe26_utb"
      },
      "outputs": [],
      "source": [
        "a = np.array([[1, 2], [3, 4]])\n",
        "print(a)"
      ]
    },
    {
      "cell_type": "code",
      "execution_count": null,
      "metadata": {
        "id": "AKY6TxVM_utb"
      },
      "outputs": [],
      "source": [
        "a.ndim, a.shape, len(a), a.size"
      ]
    },
    {
      "cell_type": "code",
      "execution_count": null,
      "metadata": {
        "id": "4JPJofyc_utb"
      },
      "outputs": [],
      "source": [
        "a[1][1], a[1, 1]  # обращение по индексу"
      ]
    },
    {
      "cell_type": "markdown",
      "metadata": {
        "id": "FaKeSQN1_utc"
      },
      "source": [
        "Атрибуту ``shape`` можно присвоить новое значение - кортеж размеров по всем координатам. Получится новый заголовок массива; его данные не изменятся."
      ]
    },
    {
      "cell_type": "code",
      "execution_count": null,
      "metadata": {
        "id": "8htEwSLX_utc"
      },
      "outputs": [],
      "source": [
        "b = np.arange(0, 20)\n",
        "print(b)\n",
        "print(b.shape)\n",
        "\n",
        "b.shape = (2, 10)\n",
        "print(b)"
      ]
    },
    {
      "cell_type": "markdown",
      "metadata": {
        "id": "TKJntDO-6MSb"
      },
      "source": [
        "### Statistics"
      ]
    },
    {
      "cell_type": "code",
      "execution_count": null,
      "metadata": {
        "id": "VGtOw2uV6MSc"
      },
      "outputs": [],
      "source": [
        "stats = np.array([[1, 2, 3], [4, 5, 6]])\n",
        "print(stats)\n",
        "\n",
        "print(np.min(stats))\n",
        "print()\n",
        "\n",
        "print(np.max(stats, axis=0))\n",
        "print(np.max(stats, axis=1))\n",
        "print()\n",
        "\n",
        "print(np.sum(stats, axis=0))\n",
        "print(np.mean(stats, axis=0))\n",
        "print()\n",
        "\n",
        "print(np.std(stats, axis=0))\n",
        "print(np.std(stats, axis=1))\n",
        "print()\n",
        "\n",
        "print(np.var(stats, axis=0))  # дисперсия\n",
        "print(np.var(stats, axis=1))\n",
        "print()"
      ]
    },
    {
      "cell_type": "markdown",
      "metadata": {
        "id": "oEU2BXAs6MSd"
      },
      "source": [
        "### Shape manipulation"
      ]
    },
    {
      "cell_type": "code",
      "execution_count": null,
      "metadata": {
        "id": "qbhEM35h6MSd"
      },
      "outputs": [],
      "source": [
        "r = np.random.random((3, 4))\n",
        "print(r)\n",
        "\n",
        "a = np.floor(10 * r)\n",
        "print(a)\n",
        "\n",
        "print(a.shape)"
      ]
    },
    {
      "cell_type": "code",
      "execution_count": null,
      "metadata": {
        "id": "zpdrxSq16MSe"
      },
      "outputs": [],
      "source": [
        "a.ravel()  # returns a COPY of the array flattened"
      ]
    },
    {
      "cell_type": "code",
      "execution_count": null,
      "metadata": {
        "id": "rTZAmmDy6MSe"
      },
      "outputs": [],
      "source": [
        "a.reshape(12,)"
      ]
    },
    {
      "cell_type": "code",
      "execution_count": null,
      "metadata": {
        "id": "dC9REZfO6MSf"
      },
      "outputs": [],
      "source": [
        "a.reshape(6, 2)  # returns a COPY of the array reshaped"
      ]
    },
    {
      "cell_type": "code",
      "execution_count": null,
      "metadata": {
        "id": "iQmPwd9i6MSg"
      },
      "outputs": [],
      "source": [
        "A = np.floor(10 * np.random.random((3, 4)))\n",
        "print(A, \"\\n\")\n",
        "\n",
        "A.reshape(4, 3) # reshape returns a COPY of A (!= inplace)\n",
        "print(A, 'array A remains unchanged\\n')\n",
        "\n",
        "A.resize(4, 3) # resize modifies array A (= inplace)\n",
        "print(A, 'array A is of a new shape')"
      ]
    },
    {
      "cell_type": "code",
      "execution_count": null,
      "metadata": {
        "id": "-4vrqJGY_utc"
      },
      "outputs": [],
      "source": [
        "a = np.ones((3, 3))\n",
        "print(a)\n",
        "\n",
        "b = np.zeros((3, 4))\n",
        "print(b)\n",
        "\n",
        "c = np.eye(3)\n",
        "print(c)\n",
        "\n",
        "d = np.diag(np.array([1, 2, 3, 4]))\n",
        "print(d)"
      ]
    },
    {
      "cell_type": "markdown",
      "metadata": {
        "id": "Dzkh3dPi_utd"
      },
      "source": [
        "Умножение матриц"
      ]
    },
    {
      "cell_type": "code",
      "execution_count": null,
      "metadata": {
        "id": "nXuMZb_g_ute"
      },
      "outputs": [],
      "source": [
        "a = 5 * np.ones((5, 5))\n",
        "b = np.eye(5) + 1\n",
        "print(a)\n",
        "print()\n",
        "print(b)"
      ]
    },
    {
      "cell_type": "code",
      "execution_count": null,
      "metadata": {
        "id": "t5cZ2JrD_ute"
      },
      "outputs": [],
      "source": [
        "print(a, \"\\n\")\n",
        "print(b, \"\\n\")\n",
        "\n",
        "print(a * b, \"\\n\") # поэлементное умножение\n",
        "print(a @ b, \"\\n\") # матричное умножение\n",
        "print(a.dot(b))"
      ]
    },
    {
      "cell_type": "markdown",
      "metadata": {
        "id": "_5-kkSzn6MSj"
      },
      "source": [
        "### Stacking NumPy arrays horizontally and vertically"
      ]
    },
    {
      "cell_type": "code",
      "execution_count": null,
      "metadata": {
        "id": "4i3s8DiF6MSk"
      },
      "outputs": [],
      "source": [
        "a = np.zeros(9).reshape(3, 3)  # a = np.zeros((3, 3))\n",
        "b = np.ones(9).reshape(3, 3)\n",
        "\n",
        "# stack horizontally:\n",
        "hor = np.hstack((a, b))\n",
        "ver = np.vstack((a, b))\n",
        "\n",
        "print('a:\\n', a)\n",
        "print('b:\\n', b)\n",
        "print()\n",
        "print('Horizontal Stack:\\n', hor)\n",
        "print()\n",
        "print('Vertical Stack:\\n', ver)"
      ]
    },
    {
      "cell_type": "markdown",
      "metadata": {
        "id": "YSBsopHn_uth"
      },
      "source": [
        "Маски"
      ]
    },
    {
      "cell_type": "code",
      "execution_count": null,
      "metadata": {
        "id": "r4OSDlK3_uth"
      },
      "outputs": [],
      "source": [
        "a = np.arange(20)\n",
        "print(a % 3 == 0)\n",
        "\n",
        "print(a[a % 3 == 0])"
      ]
    },
    {
      "cell_type": "code",
      "execution_count": null,
      "metadata": {
        "id": "H5gVZbGH_uth"
      },
      "outputs": [],
      "source": [
        "b = np.diag(a[a >= 10])\n",
        "print(b)\n",
        "\n",
        "print(np.trace(b))  # След (trace) - сумма диагональных элементов"
      ]
    },
    {
      "cell_type": "code",
      "execution_count": null,
      "metadata": {
        "id": "HELVjN4v6MSo"
      },
      "outputs": [],
      "source": [
        "matrix = np.random.random((3, 3))\n",
        "print(matrix)\n",
        "\n",
        "print()\n",
        "print(matrix[0][2] + matrix[1][1] + matrix[2][0])\n",
        "print(np.trace(np.fliplr(matrix)))"
      ]
    },
    {
      "cell_type": "markdown",
      "metadata": {
        "id": "isiWgLWK_uti"
      },
      "source": [
        "# 4. Тензоры (многомерные массивы)"
      ]
    },
    {
      "cell_type": "code",
      "execution_count": null,
      "metadata": {
        "id": "AUyIWgP2_uti"
      },
      "outputs": [],
      "source": [
        "X = np.arange(64).reshape(8, 2, 4)\n",
        "print(X)"
      ]
    },
    {
      "cell_type": "code",
      "execution_count": null,
      "metadata": {
        "id": "5rOaCZPA_uti"
      },
      "outputs": [],
      "source": [
        "X.shape, len(X), X.size, X.ndim"
      ]
    },
    {
      "cell_type": "markdown",
      "metadata": {
        "id": "5CAEcdZD_uti"
      },
      "source": [
        "Посмотрим на суммы по разным осям"
      ]
    },
    {
      "cell_type": "code",
      "execution_count": null,
      "metadata": {
        "id": "C5GLpba__uti"
      },
      "outputs": [],
      "source": [
        "print(np.sum(X, axis=0), '\\n')\n",
        "print(np.sum(X, axis=1), '\\n')\n",
        "print(np.sum(X, axis=2), '\\n')\n",
        "\n",
        "# суммируем сразу по двум осям, то есть для фиксированной i\n",
        "# суммируем только элементы с индексами (i, *, *)\n",
        "print(np.sum(X, axis=(1, 2)))"
      ]
    },
    {
      "cell_type": "markdown",
      "metadata": {
        "id": "A30UqUOO_utj"
      },
      "source": [
        "# 5. Линейная алгебра"
      ]
    },
    {
      "cell_type": "code",
      "execution_count": null,
      "metadata": {
        "id": "L9yyZxD1_utj"
      },
      "outputs": [],
      "source": [
        "a = np.array([[2, 1], [2, 3]])\n",
        "print(a)"
      ]
    },
    {
      "cell_type": "code",
      "execution_count": null,
      "metadata": {
        "id": "iAEMomd4_utj"
      },
      "outputs": [],
      "source": [
        "np.linalg.det(a)  # определитель матрицы"
      ]
    },
    {
      "cell_type": "code",
      "execution_count": null,
      "metadata": {
        "id": "Arj57Cqz_utj"
      },
      "outputs": [],
      "source": [
        "b = np.linalg.inv(a)  # нахождениия обратной\n",
        "print(b)"
      ]
    },
    {
      "cell_type": "code",
      "execution_count": null,
      "metadata": {
        "id": "mgIdQiNDFY5L"
      },
      "outputs": [],
      "source": [
        "c = np.array([[2, 1], [6, 3]])\n",
        "print(c)\n",
        "\n",
        "print(np.linalg.det(c))"
      ]
    },
    {
      "cell_type": "code",
      "execution_count": null,
      "metadata": {
        "id": "hFFsQKv4FgYV"
      },
      "outputs": [],
      "source": [
        "np.linalg.inv(c)"
      ]
    },
    {
      "cell_type": "markdown",
      "metadata": {
        "id": "24c7Zzvz_utk"
      },
      "source": [
        "Solve a system of linear scalar equations\n",
        "$$A \\cdot x = b$$"
      ]
    },
    {
      "cell_type": "code",
      "execution_count": null,
      "metadata": {
        "id": "l0aHvZ_y_utk"
      },
      "outputs": [],
      "source": [
        "A = np.array([[1, 2], [3, 5]])\n",
        "b = np.array([1, 2])\n",
        "\n",
        "x = np.linalg.solve(A, b)\n",
        "print(x)"
      ]
    },
    {
      "cell_type": "code",
      "execution_count": null,
      "metadata": {
        "id": "4bFZC0886MSz"
      },
      "outputs": [],
      "source": [
        "np.allclose(A @ x, b)  # check that the solution is correct"
      ]
    },
    {
      "cell_type": "code",
      "execution_count": null,
      "metadata": {
        "id": "K5Zl1aMS6MS0"
      },
      "outputs": [],
      "source": [
        "print(A @ x, b)"
      ]
    },
    {
      "cell_type": "code",
      "execution_count": null,
      "metadata": {
        "id": "_df1Zljb6MS1"
      },
      "outputs": [],
      "source": [
        "np.all(np.dot(A, x) == b)"
      ]
    },
    {
      "cell_type": "markdown",
      "metadata": {
        "id": "f-NrxHvy_utk"
      },
      "source": [
        "Найдем собственные вектора и собственные числа матрицы A\n",
        "$$ A \\cdot x = \\lambda \\cdot x $$"
      ]
    },
    {
      "cell_type": "code",
      "execution_count": null,
      "metadata": {
        "id": "whDG4FcZ_utk"
      },
      "outputs": [],
      "source": [
        "l, u = np.linalg.eig(A)\n",
        "print(l)\n",
        "print(u)"
      ]
    },
    {
      "cell_type": "markdown",
      "metadata": {
        "id": "czfrs56I_utk"
      },
      "source": [
        "Собственные значения матриц A и A.T совпадают"
      ]
    },
    {
      "cell_type": "code",
      "execution_count": null,
      "metadata": {
        "id": "9ke3c0MH_utl"
      },
      "outputs": [],
      "source": [
        "l, u = np.linalg.eig(A.T)\n",
        "print(l)\n",
        "print(u)"
      ]
    },
    {
      "cell_type": "code",
      "execution_count": null,
      "metadata": {
        "id": "sHqgbKG1_utl"
      },
      "outputs": [],
      "source": [
        "l, u = np.linalg.eig(np.eye(3))\n",
        "print(l)\n",
        "print(u)"
      ]
    },
    {
      "cell_type": "markdown",
      "metadata": {
        "id": "Gik-VlTK6MS5"
      },
      "source": [
        "# Exercises"
      ]
    },
    {
      "cell_type": "code",
      "execution_count": null,
      "metadata": {
        "id": "b0RGOEuk_uta"
      },
      "outputs": [],
      "source": [
        "\"\"\" Exercise 1:\n",
        "\n",
        "- Создать массив чисел от $-4\\pi$  до $4\\pi $, количество точек 100\n",
        "- Посчитать сумму поэлементных квадратов синуса и косинуса для данного массива\n",
        "- С помощью ``np.all`` проверить, что все элементы равны единице.\n",
        "\"\"\"\n",
        "\n",
        "# solution\n",
        "import numpy as np\n",
        "import math\n",
        "\n",
        "#Создание массива чисел\n",
        "arr_len = 100\n",
        "arr = np.linspace(-4math.pi, 4math.pi, arr_len)\n",
        "\n",
        "#Вычисление синусов и косинусов элементов массива\n",
        "sin_arr = np.sin(arr)\n",
        "cos_arr = np.cos(arr)\n",
        "\n",
        "#Поэлементные квадраты синуса и косинуса\n",
        "sin_sq_arr = sin_arr ** 2\n",
        "cos_sq_arr = cos_arr ** 2\n",
        "\n",
        "#Сумма поэлементных квадратов\n",
        "sin_sum = np.sum(sin_sq_arr)\n",
        "cos_sum = np.sum(cos_sq_arr)\n",
        "\n",
        "#Проверка, что все элементы массива равны 1\n",
        "all_ones = np.all(arr == 1)\n",
        "\n",
        "print(\"Сумма квадратов синуса: \", sin_sum)\n",
        "print(\"Сумма квадратов косинуса: \", cos_sum)\n",
        "print(\"Все элементы равны 1: \", all_ones)\n"
      ]
    },
    {
      "cell_type": "code",
      "execution_count": null,
      "metadata": {
        "id": "vufyLtGG_utd"
      },
      "outputs": [],
      "source": [
        "\"\"\" Exercise 2:\n",
        "\n",
        "Создать квадратную матрицу размера 8, на главной диаг. арифметическая прогрессия с шагом 3 (начиная с 3),\n",
        "а на побочной -1, остальные элементы 0.\n",
        "\"\"\"\n",
        "\n",
        "# solution\n",
        "import numpy as np\n",
        "\n",
        "# Размер квадратной матрицы\n",
        "n = 8\n",
        "\n",
        "# Создание матрицы с нулевыми элементами\n",
        "matrix = np.zeros((n, n))\n",
        "\n",
        "# Заполнение главной диагонали арифметической прогрессией\n",
        "matrix[np.diag_indices(n)] = np.arange(3, 3+n*3, 3)\n",
        "\n",
        "# Заполнение побочной диагонали значениями -1\n",
        "matrix[np.diag_indices(n)[::-1]] = -1\n",
        "\n",
        "print(matrix)\n",
        "#В результате выполнения данного кода будет выведена матрица размером 8x8, с главной диагональю, образующей арифметическую прогрессию с шагом 3 начиная с 3, и побочной диагональю, состоящей из значений -1, а все остальные элементы будут равны 0.\n"
      ]
    },
    {
      "cell_type": "code",
      "execution_count": null,
      "metadata": {
        "id": "Cyg93LZ46MS7"
      },
      "outputs": [],
      "source": [
        "\"\"\" Exercise 3:\n",
        "\n",
        "Найти интересную задачу и описать её решение\n",
        "\"\"\"\n",
        "\n",
        "# solution\n"
      ]
    },
    {
      "cell_type": "markdown",
      "source": [
        "**60. Permutation Sequence**\n",
        "\n",
        "The set [1, 2, 3, ..., n] contains a total of n! unique permutations.\n",
        "\n",
        "By listing and labeling all of the permutations in order, we get the following sequence for n = 3:\n",
        "\n",
        "\"123\"\n",
        "\"132\"\n",
        "\"213\"\n",
        "\"231\"\n",
        "\"312\"\n",
        "\"321\"\n",
        "Given n and k, return the kth permutation sequence.\n",
        "\n",
        "\n",
        "\n",
        "Example 1:\n",
        "\n",
        "Input: n = 3, k = 3\n",
        "Output: \"213\"\n",
        "Example 2:\n",
        "\n",
        "Input: n = 4, k = 9\n",
        "Output: \"2314\"\n",
        "Example 3:\n",
        "\n",
        "Input: n = 3, k = 1\n",
        "Output: \"123\"\n",
        "\n",
        "\n",
        "Constraints:\n",
        "\n",
        "1 <= n <= 9\n",
        "1 <= k <= n!"
      ],
      "metadata": {
        "id": "wBVk6OD5-sOH"
      }
    },
    {
      "cell_type": "code",
      "source": [
        "#solution\n",
        "class Solution(object):\n",
        "    def getPermutation(self, n, k):\n",
        "        \"\"\"\n",
        "        :type n: int\n",
        "        :type k: int\n",
        "        :rtype: str\n",
        "        \"\"\"\n",
        "        num = map(str,range(1,n+1))\n",
        "        k-=1\n",
        "        res = []\n",
        "        base = math.factorial(n-1)\n",
        "        for i in xrange(n-1, 0, -1):\n",
        "            index,k = divmod(k,base)\n",
        "            base/=i\n",
        "            res.append(num[index])\n",
        "            num.pop(index)\n",
        "        res.append((num[0]))\n",
        "        return \"\".join(res)"
      ],
      "metadata": {
        "id": "jTYXKsbE_e1y"
      },
      "execution_count": null,
      "outputs": []
    },
    {
      "cell_type": "code",
      "execution_count": null,
      "metadata": {
        "id": "TEVJc2KP6MS8"
      },
      "outputs": [],
      "source": [
        "# Homework: np.random.rand() vs np.random.random()"
      ]
    },
    {
      "cell_type": "markdown",
      "source": [
        "np.random.rand() и np.random.random() оба генерируют случайные числа, но есть разница в их работе:\n",
        "\n",
        "np.random.rand() возвращает равномерно распределенное случайное число от 0 до 1 (включая 0, но исключая 1).\n",
        "\n",
        "np.random.random() также возвращает равномерно распределенное случайное число, но от 0 до 1 (включительно).\n",
        "\n",
        "То есть, разница между ними только в том, что random() возвращает число с точностью до последнего знака после запятой. В большинстве случаев это не имеет большого значения, но если вам нужна высокая точность, то лучше использовать random.\n",
        "Обе функции возвращают случайные значения, но есть разница в их сигнатурах.\n",
        "\n",
        "Функция np.random.rand() возвращает массив указанной формы, заполненный случайными числами с плавающей запятой от 0 до 1. Например, np.random.rand(3, 3) вернет массив размером 3x3, заполненный случайными числами от 0 до 1.\n",
        "\n",
        "Функция np.random.random() также возвращает случайные числа с плавающей запятой от 0 до 1, но она принимает размеры массива как аргументы, в отличие от np.random.rand(). Например, np.random.random((3, 3)) вернет такой же массив 3x3, как и в предыдущем примере.\n",
        "\n",
        "Таким образом, основное различие между ними заключается в способе задания размеров массива."
      ],
      "metadata": {
        "id": "kOw6MVdNADkZ"
      }
    },
    {
      "cell_type": "markdown",
      "metadata": {
        "id": "BvdaOeGd6MS9"
      },
      "source": [
        "# References\n",
        "\n",
        "1. [Python Data Science Handbook](https://jakevdp.github.io/PythonDataScienceHandbook/index.html)\n",
        "2. [NumPy Documentation](https://numpy.org/doc/)"
      ]
    },
    {
      "cell_type": "code",
      "execution_count": null,
      "metadata": {
        "id": "3BYjYHCP6MS-"
      },
      "outputs": [],
      "source": []
    }
  ],
  "metadata": {
    "colab": {
      "provenance": [],
      "include_colab_link": true
    },
    "kernelspec": {
      "display_name": "Python 3 (ipykernel)",
      "language": "python",
      "name": "python3"
    },
    "language_info": {
      "codemirror_mode": {
        "name": "ipython",
        "version": 3
      },
      "file_extension": ".py",
      "mimetype": "text/x-python",
      "name": "python",
      "nbconvert_exporter": "python",
      "pygments_lexer": "ipython3",
      "version": "3.9.12"
    }
  },
  "nbformat": 4,
  "nbformat_minor": 0
}