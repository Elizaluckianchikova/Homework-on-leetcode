{
  "nbformat": 4,
  "nbformat_minor": 0,
  "metadata": {
    "colab": {
      "provenance": [],
      "authorship_tag": "ABX9TyMKOvTDkDJyg55eqYx+BwCU",
      "include_colab_link": true
    },
    "kernelspec": {
      "name": "python3",
      "display_name": "Python 3"
    },
    "language_info": {
      "name": "python"
    }
  },
  "cells": [
    {
      "cell_type": "markdown",
      "metadata": {
        "id": "view-in-github",
        "colab_type": "text"
      },
      "source": [
        "<a href=\"https://colab.research.google.com/github/Elizaluckianchikova/Homework-on-leetcode/blob/main/Untitled21.ipynb\" target=\"_parent\"><img src=\"https://colab.research.google.com/assets/colab-badge.svg\" alt=\"Open In Colab\"/></a>"
      ]
    },
    {
      "cell_type": "markdown",
      "source": [
        "Homework"
      ],
      "metadata": {
        "id": "iT7KKqugjmz1"
      }
    },
    {
      "cell_type": "markdown",
      "source": [
        "**# 1. Design Parking System (LeetCode: 1603)**\n",
        "# https://leetcode.com/problems/design-parking-system/"
      ],
      "metadata": {
        "id": "K-eIFldejxu8"
      }
    },
    {
      "cell_type": "markdown",
      "source": [
        "**1603. Design Parking System**\n",
        "\n",
        "Design a parking system for a parking lot. The parking lot has three kinds of parking spaces: big, medium, and small, with a fixed number of slots for each size.\n",
        "\n",
        "Implement the ParkingSystem class:\n",
        "\n",
        "ParkingSystem(int big, int medium, int small) Initializes object of the ParkingSystem class. The number of slots for each parking space are given as part of the constructor.\n",
        "bool addCar(int carType) Checks whether there is a parking space of carType for the car that wants to get into the parking lot. carType can be of three kinds: big, medium, or small, which are represented by 1, 2, and 3 respectively. A car can only park in a parking space of its carType. If there is no space available, return false, else park the car in that size space and return true.\n",
        "\n",
        "\n",
        "Example 1:\n",
        "\n",
        "Input\n",
        "[\"ParkingSystem\", \"addCar\", \"addCar\", \"addCar\", \"addCar\"]\n",
        "[[1, 1, 0], [1], [2], [3], [1]]\n",
        "Output\n",
        "[null, true, true, false, false]\n",
        "\n",
        "Explanation\n",
        "ParkingSystem parkingSystem = new ParkingSystem(1, 1, 0);\n",
        "parkingSystem.addCar(1); // return true because there is 1 available slot for a big car\n",
        "parkingSystem.addCar(2); // return true because there is 1 available slot for a medium car\n",
        "parkingSystem.addCar(3); // return false because there is no available slot for a small car\n",
        "parkingSystem.addCar(1); // return false because there is no available slot for a big car. It is already occupied.\n",
        "\n",
        "\n",
        "Constraints:\n",
        "\n",
        "0 <= big, medium, small <= 1000\n",
        "carType is 1, 2, or 3\n",
        "At most 1000 calls will be made to addCar"
      ],
      "metadata": {
        "id": "-jtcMxJJkRV_"
      }
    },
    {
      "cell_type": "code",
      "source": [
        "class ParkingSystem(object):\n",
        "\n",
        "    def __init__(self, big, medium, small):\n",
        "        \"\"\"\n",
        "        :type big: int\n",
        "        :type medium: int\n",
        "        :type small: int\n",
        "        \"\"\"\n",
        "        self.__space = [0, big, medium, small]\n",
        "\n",
        "    def addCar(self, carType):\n",
        "        \"\"\"\n",
        "        :type carType: int\n",
        "        :rtype: bool\n",
        "        \"\"\"\n",
        "        if self.__space[carType] > 0:\n",
        "            self.__space[carType] -= 1\n",
        "            return True\n",
        "        return False"
      ],
      "metadata": {
        "id": "5NW3dirRkZk5"
      },
      "execution_count": null,
      "outputs": []
    },
    {
      "cell_type": "markdown",
      "source": [
        "# 2. Simple Bank System (LeetCode: 2043)\n",
        "# https://leetcode.com/problems/simple-bank-system/description/\n",
        "**2043. Simple Bank System**\n",
        "\n",
        "You have been tasked with writing a program for a popular bank that will automate all its incoming transactions (transfer, deposit, and withdraw). The bank has n accounts numbered from 1 to n. The initial balance of each account is stored in a 0-indexed integer array balance, with the (i + 1)th account having an initial balance of balance[i].\n",
        "\n",
        "Execute all the valid transactions. A transaction is valid if:\n",
        "\n",
        "The given account number(s) are between 1 and n, and\n",
        "The amount of money withdrawn or transferred from is less than or equal to the balance of the account.\n",
        "Implement the Bank class:\n",
        "\n",
        "Bank(long[] balance) Initializes the object with the 0-indexed integer array balance.\n",
        "boolean transfer(int account1, int account2, long money) Transfers money dollars from the account numbered account1 to the account numbered account2. Return true if the transaction was successful, false otherwise.\n",
        "boolean deposit(int account, long money) Deposit money dollars into the account numbered account. Return true if the transaction was successful, false otherwise.\n",
        "boolean withdraw(int account, long money) Withdraw money dollars from the account numbered account. Return true if the transaction was successful, false otherwise.\n",
        "\n",
        "\n",
        "Example 1:\n",
        "\n",
        "Input\n",
        "[\"Bank\", \"withdraw\", \"transfer\", \"deposit\", \"transfer\", \"withdraw\"]\n",
        "[[[10, 100, 20, 50, 30]], [3, 10], [5, 1, 20], [5, 20], [3, 4, 15], [10, 50]]\n",
        "Output\n",
        "[null, true, true, true, false, false]\n",
        "\n",
        "Explanation\n",
        "Bank bank = new Bank([10, 100, 20, 50, 30]);\n",
        "bank.withdraw(3, 10);    // return true, account 3 has a balance of $20, so it is valid to withdraw $10.\n",
        "                         // Account 3 has $20 - $10 = $10.\n",
        "bank.transfer(5, 1, 20); // return true, account 5 has a balance of $30, so it is valid to transfer $20.\n",
        "                         // Account 5 has $30 - $20 = $10, and account 1 has $10 + $20 = $30.\n",
        "bank.deposit(5, 20);     // return true, it is valid to deposit $20 to account 5.\n",
        "                         // Account 5 has $10 + $20 = $30.\n",
        "bank.transfer(3, 4, 15); // return false, the current balance of account 3 is $10,\n",
        "                         // so it is invalid to transfer $15 from it.\n",
        "bank.withdraw(10, 50);   // return false, it is invalid because account 10 does not exist.\n",
        "\n",
        "\n",
        "Constraints:\n",
        "\n",
        "n == balance.length\n",
        "1 <= n, account, account1, account2 <= 105\n",
        "0 <= balance[i], money <= 1012\n",
        "At most 104 calls will be made to each function transfer, deposit, withdraw."
      ],
      "metadata": {
        "id": "iTRCQjhAlXVN"
      }
    },
    {
      "cell_type": "code",
      "source": [
        "class Bank(object):\n",
        "\n",
        "    def __init__(self, balance):\n",
        "        \"\"\"\n",
        "        :type balance: List[int]\n",
        "        \"\"\"\n",
        "        self.__balance = balance\n",
        "\n",
        "    def transfer(self, account1, account2, money):\n",
        "        \"\"\"\n",
        "        :type account1: int\n",
        "        :type account2: int\n",
        "        :type money: int\n",
        "        :rtype: bool\n",
        "        \"\"\"\n",
        "        if 1 <= account2 <= len(self.__balance) and self.withdraw(account1, money):\n",
        "            return self.deposit(account2, money)\n",
        "        return False\n",
        "\n",
        "    def deposit(self, account, money):\n",
        "        \"\"\"\n",
        "        :type account: int\n",
        "        :type money: int\n",
        "        :rtype: bool\n",
        "        \"\"\"\n",
        "        if 1 <= account <= len(self.__balance):\n",
        "            self.__balance[account-1] += money\n",
        "            return True\n",
        "        return False\n",
        "\n",
        "    def withdraw(self, account, money):\n",
        "        \"\"\"\n",
        "        :type account: int\n",
        "        :type money: int\n",
        "        :rtype: bool\n",
        "        \"\"\"\n",
        "        if 1 <= account <= len(self.__balance) and self.__balance[account-1] >= money:\n",
        "            self.__balance[account-1] -= money\n",
        "            return True\n",
        "        return False\n",
        "\n",
        "\n",
        "\n",
        "# Your Bank object will be instantiated and called as such:\n",
        "# obj = Bank(balance)\n",
        "# param_1 = obj.transfer(account1,account2,money)\n",
        "# param_2 = obj.deposit(account,money)\n",
        "# param_3 = obj.withdraw(account,money)"
      ],
      "metadata": {
        "id": "tJ-MKVnHljle"
      },
      "execution_count": null,
      "outputs": []
    },
    {
      "cell_type": "markdown",
      "source": [
        "#Придумайте свой класс (можно найти в интернете),который реализовывал бы какой-то прикладной аспект в вашей профессии (минимум два метода в классе)"
      ],
      "metadata": {
        "id": "VODXmivNxHyS"
      }
    },
    {
      "cell_type": "code",
      "source": [
        "#пример1\n",
        "#Класс \"SequenceAnalyzer\" для анализа последовательностей ДНК:\n",
        "#Этот класс позволяет анализировать ДНК-последовательности, вычислять их длину, подсчитывать количество определенных нуклеотидов и находить мотивы в последовательности.\n",
        "class SequenceAnalyzer:\n",
        "    def __init__(self, sequence):\n",
        "        self.sequence = sequence\n",
        "\n",
        "    def get_length(self):\n",
        "        return len(self.sequence)\n",
        "\n",
        "    def count_nucleotide(self, nucleotide):\n",
        "        return self.sequence.count(nucleotide)\n",
        "\n",
        "    def find_motif(self, motif):\n",
        "        positions = []\n",
        "        for i in range(len(self.sequence)):\n",
        "            if self.sequence[i:i+len(motif)] == motif:\n",
        "                positions.append(i)\n",
        "        return positions\n",
        "\n",
        "# Пример использования\n",
        "dna_sequence = \"ATCGATCGATCGTACG\"\n",
        "analyzer = SequenceAnalyzer(dna_sequence)\n",
        "print(\"Длина последовательности:\", analyzer.get_length())\n",
        "print(\"Количество нуклеотидов 'A':\", analyzer.count_nucleotide('A'))\n",
        "print(\"Позиции мотива 'ATC':\", analyzer.find_motif('ATC'))\n"
      ],
      "metadata": {
        "colab": {
          "base_uri": "https://localhost:8080/"
        },
        "id": "uFL-zuC7xNgF",
        "outputId": "0f47942b-7af5-4923-b699-0a048f502ec7"
      },
      "execution_count": 1,
      "outputs": [
        {
          "output_type": "stream",
          "name": "stdout",
          "text": [
            "Длина последовательности: 16\n",
            "Количество нуклеотидов 'A': 4\n",
            "Позиции мотива 'ATC': [0, 4, 8]\n"
          ]
        }
      ]
    },
    {
      "cell_type": "code",
      "source": [
        "#2\n",
        "#предсказатель белковой структуры\n",
        "class ProteinStructurePredictor:\n",
        "    def __init__(self, protein_sequence):\n",
        "        self.protein_sequence = protein_sequence\n",
        "\n",
        "    def predict_secondary_structure(self):\n",
        "        # Здесь можно использовать алгоритмы предсказания вторичной структуры белка\n",
        "        # Например, использовать методы машинного обучения или биоинформатические инструменты\n",
        "        # Возвращаем предсказанную вторичную структуру\n",
        "        return \"HHHHHHHHHHHHEEEEEECCCCC\"\n",
        "\n",
        "    def predict_tertiary_structure(self):\n",
        "        # Здесь можно использовать алгоритмы предсказания третичной структуры белка\n",
        "        # Например, использовать методы моделирования белков или биоинформатические инструменты\n",
        "        # Возвращаем предсказанную третичную структуру\n",
        "        return \"3D coordinates of atoms\"\n",
        "\n",
        "# Пример использования\n",
        "protein_sequence = \"MQIFVKTLTGKTITLEVEPSDTIENVKAKIQDKEGIPPDQQRLIFAGKQLEDGRTLSDYNIQKESTLHLVLRLRGG\"\n",
        "predictor = ProteinStructurePredictor(protein_sequence)\n",
        "print(\"Предсказанная вторичная структура:\", predictor.predict_secondary_structure())\n",
        "print(\"Предсказанная третичная структура:\", predictor.predict_tertiary_structure())\n"
      ],
      "metadata": {
        "colab": {
          "base_uri": "https://localhost:8080/"
        },
        "id": "kD49cNTFymNo",
        "outputId": "5a3f4dd6-7b75-40f3-afc4-270e00a1d787"
      },
      "execution_count": 4,
      "outputs": [
        {
          "output_type": "stream",
          "name": "stdout",
          "text": [
            "Предсказанная вторичная структура: HHHHHHHHHHHHEEEEEECCCCC\n",
            "Предсказанная третичная структура: 3D coordinates of atoms\n"
          ]
        }
      ]
    },
    {
      "cell_type": "markdown",
      "source": [
        "# 4. Описать ещё три дополнительных magic метода (один обязательный: __slot__)\n",
        "1. **str** - должен возвращать строку, содержащую информацию о классе или\n",
        "экземпляре класса.\n",
        "2. **repr** - должен возвращать строку, представляющую объект в виде кода Python, который может быть использован для создания объекта.\n",
        "3. **eq** - должен определять, равны ли два объекта.\n",
        "4. **__slot__** это специальный атрибут, который позволяет указать, какие атрибуты могут быть у класса. Это ускоряет работу с объектами класса, так как не требуется искать все атрибуты каждый раз при обращении к ним.\n",
        "\n",
        "Пример использования:\n",
        "\n",
        "class Example:\n",
        "    __slots__ = ['a', 'b']\n",
        "    def __init__(self, a, b):\n",
        "        self.a = a\n",
        "        self.b = b\n",
        "    \n",
        "    def sum(self):\n",
        "        return self.a + self.b\n",
        "\n",
        "ex = Example(2, 3)\n",
        "print(ex.sum())  # 5\n",
        "В этом примере мы создали класс Example с двумя атрибутами a и b. При создании экземпляра класса мы присвоили значения этим атрибутам, а затем вызвали метод sum(), который вернул их сумму.\n",
        "\n",
        "Обратите внимание, что мы не можем добавить дополнительные атрибуты к экземпляру класса, так как они не определены в списке __slots__. Это обеспечивает безопасность и эффективность работы с объектами данного класса.\n"
      ],
      "metadata": {
        "id": "RNr9NqUk3QsD"
      }
    },
    {
      "cell_type": "markdown",
      "source": [
        "# 5. Описать разницу между __str__ и __repr__\n",
        "Магические методы __str__ и __repr__ используются для преобразования объекта в строку. Но они отличаются тем, как они это делают.\n",
        "\n",
        "Метод __str__ возвращает “легкую” строковую версию объекта, которая подходит для отображения в консоли или для печати. Он обычно содержит только основную информацию об объекте. Например, для класса Person метод __str__ может возвращать имя и фамилию человека.\n",
        "\n",
        "С другой стороны, метод __repr__ возвращает более “тяжелую” строковую форму объекта, которая обычно используется для отладки и содержит больше информации. Она похожа на то, что вы получили бы при вызове функции repr() на объекте. Например, метод __repr__ для класса Person может возвращать всю информацию о человеке, включая адрес, телефон и т.д.\n",
        "\n",
        "Кроме того, метод __str__ обычно используется, когда вы хотите отобразить информацию об объекте в пользовательском интерфейсе, например в строке статуса или в окне сообщения. Метод __repr__, с другой стороны, обычно используется внутри отладчика или при выводе информации в консоль."
      ],
      "metadata": {
        "id": "_2h0dDm571-3"
      }
    }
  ]
}