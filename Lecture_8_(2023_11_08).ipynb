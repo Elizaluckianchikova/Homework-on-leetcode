{
  "cells": [
    {
      "cell_type": "markdown",
      "metadata": {
        "id": "view-in-github",
        "colab_type": "text"
      },
      "source": [
        "<a href=\"https://colab.research.google.com/github/Elizaluckianchikova/Homework-on-leetcode/blob/main/Lecture_8_(2023_11_08).ipynb\" target=\"_parent\"><img src=\"https://colab.research.google.com/assets/colab-badge.svg\" alt=\"Open In Colab\"/></a>"
      ]
    },
    {
      "cell_type": "markdown",
      "metadata": {
        "id": "huorNiiSowKN"
      },
      "source": [
        "# Lecture 8: Functions (Part 2)\n",
        "\n",
        "> Anonymous/Lambda Function\n",
        "\n",
        "> Functional Programming: map, filter и zip (built-in functions)\n",
        "    \n",
        "> List/dict/set comprehensions\n",
        "\n",
        "> Type Annotations\n",
        "\n",
        "> Exercises"
      ]
    },
    {
      "cell_type": "markdown",
      "metadata": {
        "id": "c7SMpjuIowKZ"
      },
      "source": [
        "### Anonymous/Lambda Function\n",
        "\n",
        "An anonymous function is a function that is defined without a name.\n",
        "\n",
        "Anonymous functions are defined using the 'lambda' keyword.\n",
        "\n",
        "Anonymous functions are also called lambda functions."
      ]
    },
    {
      "cell_type": "code",
      "execution_count": null,
      "metadata": {
        "id": "5-4V4R3YowKa"
      },
      "outputs": [],
      "source": [
        "# a normal function\n",
        "# def double(x):\n",
        "#     return x * 2\n",
        "\n",
        "# example of Lambda Function\n",
        "double = lambda x: x * 2\n",
        "\n",
        "print(double(5))"
      ]
    },
    {
      "cell_type": "code",
      "execution_count": null,
      "metadata": {
        "id": "uJ_DM_nvowKe"
      },
      "outputs": [],
      "source": [
        "anonymous_function = lambda x, y: (x + y) * 2\n",
        "\n",
        "print(anonymous_function(10, 20))"
      ]
    },
    {
      "cell_type": "markdown",
      "metadata": {
        "id": "kVGGkQx7owKf"
      },
      "source": [
        "### Functional Programming: map, filter и zip (built-in functions)"
      ]
    },
    {
      "cell_type": "code",
      "execution_count": null,
      "metadata": {
        "id": "f7DgNrUqowKh"
      },
      "outputs": [],
      "source": [
        "# all built-in functions\n",
        "__builtin__.__dict__"
      ]
    },
    {
      "cell_type": "code",
      "execution_count": null,
      "metadata": {
        "id": "E6n4kx7-owKi"
      },
      "outputs": [],
      "source": [
        "# We will consider three built-in functions\n",
        "__builtin__.__dict__['map'], __builtin__.__dict__['filter'], __builtin__.__dict__['zip']"
      ]
    },
    {
      "cell_type": "markdown",
      "metadata": {
        "id": "_wO8zLgSowKi"
      },
      "source": [
        "#### map()"
      ]
    },
    {
      "cell_type": "code",
      "execution_count": null,
      "metadata": {
        "id": "T83rjPI0owKk"
      },
      "outputs": [],
      "source": [
        "\"\"\"The map() function applies a given function to each item of an iterable (list, tuple etc.) and returns an iterator.\n",
        "\n",
        "Syntax: map(function, iterable, ...)\n",
        "        function - a function that perform some action to each element of an iterable;\n",
        "        iterable - an iterable like sets, lists, tuples, etc\n",
        "        You can pass more than one iterable to the map() function.\n",
        "        The map() function returns an object of map class.\n",
        "\n",
        "Link: https://www.programiz.com/python-programming/methods/built-in/map\n",
        "\"\"\"\n",
        "# example 1\n",
        "numbers = (1, 2, 3, 4)\n",
        "print(numbers)\n",
        "\n",
        "def calculate_square(n):\n",
        "    return n ** 2\n",
        "\n",
        "result = map(calculate_square, numbers)\n",
        "print(result)\n",
        "\n",
        "# converting map object to tuple\n",
        "nums_square = tuple(result)\n",
        "print(nums_square)"
      ]
    },
    {
      "cell_type": "code",
      "execution_count": null,
      "metadata": {
        "id": "tSK4ZeI4owKs"
      },
      "outputs": [],
      "source": [
        "help(map)"
      ]
    },
    {
      "cell_type": "code",
      "execution_count": null,
      "metadata": {
        "id": "IuarinXrowKt"
      },
      "outputs": [],
      "source": [
        "# example 2\n",
        "numbers = (1, 2, 3, 4)\n",
        "\n",
        "result = map(lambda x: x ** 2, numbers)\n",
        "print(result)\n",
        "\n",
        "# converting map object to tuple\n",
        "nums_square = tuple(result)\n",
        "print(nums_square)"
      ]
    },
    {
      "cell_type": "markdown",
      "metadata": {
        "id": "c3o9yEAJowKv"
      },
      "source": [
        "#### filter()"
      ]
    },
    {
      "cell_type": "code",
      "execution_count": null,
      "metadata": {
        "id": "PZdK35GXowKw"
      },
      "outputs": [],
      "source": [
        "\"\"\"The filter() function extracts elements from an iterable (list, tuple etc.) for which a function returns True.\n",
        "\n",
        "Syntax: filter(function, iterable)\n",
        "        function - a function;\n",
        "        iterable - an iterable like lists, tuples, sets etc.\n",
        "        The filter() function returns an object of filter class.\n",
        "\n",
        "Link: https://www.programiz.com/python-programming/methods/built-in/filter\n",
        "\"\"\"\n",
        "\n",
        "# example 1\n",
        "letters = ['a', 'b', 'd', 'e', 'i', 'j', 'o']\n",
        "\n",
        "# a function that returns True if letter is vowel\n",
        "def filter_vowels(letter):\n",
        "    vowels = ['a', 'e', 'i', 'o', 'u']\n",
        "    return letter in vowels  # return True if letter in vowels else False\n",
        "\n",
        "filtered_vowels = filter(filter_vowels, letters)\n",
        "print(filtered_vowels)\n",
        "\n",
        "# converting to tuple\n",
        "vowels = list(filtered_vowels)\n",
        "print(vowels)"
      ]
    },
    {
      "cell_type": "code",
      "execution_count": null,
      "metadata": {
        "id": "W4guUbOkowKx"
      },
      "outputs": [],
      "source": [
        "# example 2\n",
        "numbers = range(1, 8)  # numbers = [1, 2, 3, 4, 5, 6, 7]\n",
        "\n",
        "# the lambda function returns True for even numbers\n",
        "even_numbers_iterator = filter(lambda x: x % 2 == 0, numbers)\n",
        "print(even_numbers_iterator)\n",
        "\n",
        "# converting to list\n",
        "even_numbers = list(even_numbers_iterator)\n",
        "print(even_numbers)"
      ]
    },
    {
      "cell_type": "markdown",
      "metadata": {
        "id": "Uf8L00G4owKy"
      },
      "source": [
        "#### zip()"
      ]
    },
    {
      "cell_type": "code",
      "execution_count": null,
      "metadata": {
        "id": "FhV5v4sjowKz"
      },
      "outputs": [],
      "source": [
        "\"\"\"The zip() function takes iterables (can be zero or more), aggregates them in a tuple, and returns it.\n",
        "\n",
        "Syntax: zip(*iterables)\n",
        "        iterables can be built-in iterables (like: list, string, dict), or user-defined iterables.\n",
        "        The zip() function returns an object of zip class.\n",
        "\n",
        "Link: https://www.programiz.com/python-programming/methods/built-in/zip\n",
        "\"\"\"\n",
        "\n",
        "# example 1\n",
        "number_list = [1, 2, 3]\n",
        "str_list = ['one', 'two', 'three']\n",
        "\n",
        "# Two iterables are passed\n",
        "result = zip(number_list, str_list)\n",
        "print(result)\n",
        "\n",
        "# Converting iterator to tuple\n",
        "result_list = list(result)\n",
        "print(result_list)\n",
        "\n",
        "# Converting iterator to set\n",
        "result_set = set(result)\n",
        "print(result_set)\n",
        "\n",
        "# result_set is empty because zip is generator (see https://docs.python.org/3/library/functions.html#zip)"
      ]
    },
    {
      "cell_type": "code",
      "execution_count": null,
      "metadata": {
        "id": "3Nuec05IowK1"
      },
      "outputs": [],
      "source": [
        "# example 2: Different number of iterable elements\n",
        "nums_list = [1, 2, 3]\n",
        "str_list = ['one', 'two']\n",
        "nums_tuple = ('ONE', 'TWO', 'THREE', 'FOUR')\n",
        "\n",
        "# Notice, the size of num_list and numbers_tuple is different\n",
        "result = zip(nums_list, nums_tuple)\n",
        "\n",
        "# Converting to list\n",
        "result_list = list(result)\n",
        "print(result_list)\n",
        "\n",
        "result = zip(nums_list, str_list, nums_tuple)\n",
        "\n",
        "# Converting to list\n",
        "result_list = list(result)\n",
        "print(result_list)"
      ]
    },
    {
      "cell_type": "code",
      "execution_count": null,
      "metadata": {
        "id": "ObA0PsI7owK2"
      },
      "outputs": [],
      "source": [
        "# example 3: Unzipping the Value Using zip()\n",
        "coordinate = ['x', 'y', 'z']\n",
        "value = [3, 4, 5]\n",
        "\n",
        "result = zip(coordinate, value)\n",
        "print(result)\n",
        "\n",
        "result_list = list(result)\n",
        "print(result_list)\n",
        "\n",
        "c, v = zip(*result_list)\n",
        "print(f\"c = {c}\")\n",
        "print(f\"v = {v}\")"
      ]
    },
    {
      "cell_type": "markdown",
      "metadata": {
        "id": "QpijyGO8owK3"
      },
      "source": [
        "### Comprehensions in Python\n",
        "\n",
        "There are three comprehensions in Python:\n",
        "\n",
        "1. List Comprehension\n",
        "\n",
        "2. Set Comprehension\n",
        "\n",
        "3. Dictionary Comprehension"
      ]
    },
    {
      "cell_type": "markdown",
      "metadata": {
        "id": "8Za5_xdVowK3"
      },
      "source": [
        "#### 1. List Comprehension\n",
        "\n",
        "List comprehensions provide a concise and readable way to create lists.\n",
        "\n",
        "Syntax: [expression for item in iterable if conditional]\n",
        "\n",
        "Common applications:\n",
        "- to make new lists where each element is the result of some operations applied to each member of another sequence\n",
        "  or iterable;\n",
        "- to create a subsequence of those elements that satisfy a certain condition.\n",
        "\n",
        "Link: https://docs.python.org/3/tutorial/datastructures.html#list-comprehensions"
      ]
    },
    {
      "cell_type": "code",
      "execution_count": null,
      "metadata": {
        "id": "Iike3pJdowK4"
      },
      "outputs": [],
      "source": [
        "%%time\n",
        "n = 1_000_000\n",
        "squares = []\n",
        "for x in range(n):\n",
        "    squares.append(x ** 2)\n",
        "\n",
        "print(squares[:5])"
      ]
    },
    {
      "cell_type": "code",
      "execution_count": null,
      "metadata": {
        "id": "E8EdmYBzowK4"
      },
      "outputs": [],
      "source": [
        "%%time\n",
        "squares = list(map(lambda x: x ** 2, range(n)))\n",
        "\n",
        "print(squares[:5])"
      ]
    },
    {
      "cell_type": "code",
      "execution_count": null,
      "metadata": {
        "id": "kdgrQYQdowK5"
      },
      "outputs": [],
      "source": [
        "%%time\n",
        "squares = [x ** 2 for x in range(n)]\n",
        "\n",
        "print(squares[:5])"
      ]
    },
    {
      "cell_type": "code",
      "execution_count": null,
      "metadata": {
        "id": "P6cSfAHGowK6"
      },
      "outputs": [],
      "source": [
        "# Syntax: new_list = [expression for member in iterable (if conditional)]\n",
        "sentence = 'the rocket came back home hello from mars hello'\n",
        "\n",
        "result = [word for word in sentence.split() if word == 'hello']\n",
        "print(result)"
      ]
    },
    {
      "cell_type": "code",
      "execution_count": null,
      "metadata": {
        "id": "0UUhAfSdowK7"
      },
      "outputs": [],
      "source": [
        "# Syntax: new_list = [expression for member in iterable (if conditional)]\n",
        "sentence = 'the rocket came back home hello from mars hello'\n",
        "\n",
        "result = [word for word in sentence.split() if \"h\" in word]\n",
        "print(result)"
      ]
    },
    {
      "cell_type": "code",
      "execution_count": null,
      "metadata": {
        "id": "pZhLalz6owK8"
      },
      "outputs": [],
      "source": [
        "# split()"
      ]
    },
    {
      "cell_type": "code",
      "execution_count": null,
      "metadata": {
        "id": "Ec2-llxcowK9"
      },
      "outputs": [],
      "source": [
        "# Syntax: new_list = [expression (if conditional) for member in iterable]\n",
        "original_prices = [1.25, -9.45, 10.22, 3.78, -5.92, 1.16]\n",
        "\n",
        "prices = [original_price if original_price > 0 else 0 for original_price in original_prices]\n",
        "print(prices)"
      ]
    },
    {
      "cell_type": "markdown",
      "metadata": {
        "id": "PTe-BrGwowK-"
      },
      "source": [
        "#### 2. Set Comprehension"
      ]
    },
    {
      "cell_type": "code",
      "execution_count": null,
      "metadata": {
        "id": "aAD1v-xSowK-"
      },
      "outputs": [],
      "source": [
        "a = {x for x in 'abracadabra' if x not in 'abc'}\n",
        "a"
      ]
    },
    {
      "cell_type": "markdown",
      "metadata": {
        "id": "1TqTiVlaowK_"
      },
      "source": [
        "#### 3. Dictionary Comprehension"
      ]
    },
    {
      "cell_type": "code",
      "execution_count": null,
      "metadata": {
        "id": "NkYnth32owLA"
      },
      "outputs": [],
      "source": [
        "# Initialize the 'fahrenheit' dictionary\n",
        "fahrenheit = {'t1': -30, 't2': -20, 't3': -10, 't4': 0}\n",
        "\n",
        "# Get the corresponding 'celsius' values and create the new dictionary\n",
        "celsius = {k: round((float(5) / 9) * (v - 32), 3) for (k, v) in fahrenheit.items()}\n",
        "print(celsius)"
      ]
    },
    {
      "cell_type": "code",
      "execution_count": null,
      "metadata": {
        "id": "yhHAJOLdowLB"
      },
      "outputs": [],
      "source": [
        "# Initialize 'fahrenheit' dictionary\n",
        "fahrenheit = {'t1': -30, 't2': -20, 't3': -10, 't4': 0}\n",
        "\n",
        "# Get the corresponding 'celsius' values\n",
        "celsius = map(lambda x: round((float(5) / 9) * (x - 32), 3), fahrenheit.values())\n",
        "\n",
        "# Create the 'celsius' dictionary\n",
        "celsius_dict = dict(zip(fahrenheit.keys(), celsius))\n",
        "\n",
        "print(celsius_dict)"
      ]
    },
    {
      "cell_type": "markdown",
      "metadata": {
        "id": "ATxeBOOSowLC"
      },
      "source": [
        "## Type Annotations\n",
        "\n",
        "Type Annotations are a new feature in python that allow for adding type hints to variables.\n",
        "\n",
        "Question: Why use them?\n",
        "\n",
        "Answer: Declaring types makes our code more explicit, and if done well, easier to read — both for ourselves and others."
      ]
    },
    {
      "cell_type": "code",
      "execution_count": null,
      "metadata": {
        "id": "Ve6aq6HXowLK"
      },
      "outputs": [],
      "source": [
        "# example\n",
        "def get_sum(a, b):\n",
        "    return a + b\n",
        "\n",
        "get_sum(1, 2)"
      ]
    },
    {
      "cell_type": "code",
      "execution_count": null,
      "metadata": {
        "id": "Pl95k2mWowLK"
      },
      "outputs": [],
      "source": [
        "get_sum(\"1\", \"2\")"
      ]
    },
    {
      "cell_type": "code",
      "execution_count": null,
      "metadata": {
        "id": "kvg3fPp6owLL"
      },
      "outputs": [],
      "source": [
        "def get_sum(a: int, b: int) -> int:\n",
        "    return a + b\n",
        "\n",
        "get_sum(1, 2)"
      ]
    },
    {
      "cell_type": "code",
      "execution_count": null,
      "metadata": {
        "id": "7ptgTHQXowLL"
      },
      "outputs": [],
      "source": [
        "get_sum(\"1\", \"2\")"
      ]
    },
    {
      "cell_type": "code",
      "execution_count": null,
      "metadata": {
        "id": "ndrAgzA8owLM"
      },
      "outputs": [],
      "source": [
        "# Get python version\n",
        "! python3 --version"
      ]
    },
    {
      "cell_type": "markdown",
      "metadata": {
        "id": "Lp38Y1xSowLN"
      },
      "source": [
        "## Exercises"
      ]
    },
    {
      "cell_type": "markdown",
      "metadata": {
        "id": "3dVj7O7rowLe"
      },
      "source": [
        "#### N-th Tribonacci Number (LeetCode: 1137)\n",
        "\n",
        "https://leetcode.com/problems/n-th-tribonacci-number/\n",
        "\n",
        "The Tribonacci sequence T_n is defined as follows:\n",
        "\n",
        "T(0) = 0, T(1) = 1, T(2) = 1, and T(n+3) = T(n) + T(n + 1) + T(n + 2) for n >= 0.\n",
        "\n",
        "Given n, return the value of T(n)."
      ]
    },
    {
      "cell_type": "code",
      "execution_count": null,
      "metadata": {
        "id": "h6EJRytnowLf"
      },
      "outputs": [],
      "source": [
        "class Solution(object):\n",
        "    def tribonacci(self, n):\n",
        "        \"\"\"\n",
        "        :type n: int\n",
        "        :rtype: int\n",
        "        \"\"\"\n",
        "        if n <= 1:\n",
        "            return n\n",
        "        elif n == 2:\n",
        "            return 1\n",
        "\n",
        "        first, second, third = 0, 1, 1\n",
        "        for _ in range(3, n+1):\n",
        "            first, second, third = second, third, first + second + third\n",
        "\n",
        "        return third"
      ]
    },
    {
      "cell_type": "markdown",
      "source": [
        "**1078. Occurrences After Bigram**\n",
        "\n",
        "Given two strings first and second, consider occurrences in some text of the form \"first second third\", where second comes immediately after first, and third comes immediately after second.\n",
        "\n",
        "Return an array of all the words third for each occurrence of \"first second third\".\n",
        "\n",
        "\n",
        "\n",
        "Example 1:\n",
        "\n",
        "Input: text = \"alice is a good girl she is a good student\", first = \"a\", second = \"good\"\n",
        "Output: [\"girl\",\"student\"]\n",
        "Example 2:\n",
        "\n",
        "Input: text = \"we will we will rock you\", first = \"we\", second = \"will\"\n",
        "Output: [\"we\",\"rock\"]\n",
        "\n",
        "\n",
        "Constraints:\n",
        "\n",
        "1 <= text.length <= 1000\n",
        "text consists of lowercase English letters and spaces.\n",
        "All the words in text a separated by a single space.\n",
        "1 <= first.length, second.length <= 10\n",
        "first and second consist of lowercase English letters."
      ],
      "metadata": {
        "id": "R7kAbkvqrlwc"
      }
    },
    {
      "cell_type": "code",
      "execution_count": null,
      "metadata": {
        "id": "TAbTQOPeowLf"
      },
      "outputs": [],
      "source": [
        "class Solution(object):\n",
        "    def findOcurrences(self, text, first, second):\n",
        "        \"\"\"\n",
        "        :type text: str\n",
        "        :type first: str\n",
        "        :type second: str\n",
        "        :rtype: List[str]\n",
        "        \"\"\"\n",
        "        text = text.split()\n",
        "        n = len(text)\n",
        "        res = []\n",
        "\n",
        "        for i in range(2, n):\n",
        "            if text[i - 2] == first and text[i - 1] == second:\n",
        "                res.append(text[i])\n",
        "\n",
        "        return res\n",
        "\n"
      ]
    },
    {
      "cell_type": "markdown",
      "source": [
        "**2125. Number of Laser Beams in a Bank**\n",
        "\n",
        "Anti-theft security devices are activated inside a bank. You are given a 0-indexed binary string array bank representing the floor plan of the bank, which is an m x n 2D matrix. bank[i] represents the ith row, consisting of '0's and '1's. '0' means the cell is empty, while'1' means the cell has a security device.\n",
        "\n",
        "There is one laser beam between any two security devices if both conditions are met:\n",
        "\n",
        "The two devices are located on two different rows: r1 and r2, where r1 < r2.\n",
        "For each row i where r1 < i < r2, there are no security devices in the ith row.\n",
        "Laser beams are independent, i.e., one beam does not interfere nor join with another.\n",
        "\n",
        "Return the total number of laser beams in the bank.\n",
        "\n",
        "\n",
        "\n",
        "Example 1:\n",
        "\n",
        "\n",
        "Input: bank = [\"011001\",\"000000\",\"010100\",\"001000\"]\n",
        "Output: 8\n",
        "Explanation: Between each of the following device pairs, there is one beam. In total, there are 8 beams:\n",
        " * bank[0][1] -- bank[2][1]\n",
        " * bank[0][1] -- bank[2][3]\n",
        " * bank[0][2] -- bank[2][1]\n",
        " * bank[0][2] -- bank[2][3]\n",
        " * bank[0][5] -- bank[2][1]\n",
        " * bank[0][5] -- bank[2][3]\n",
        " * bank[2][1] -- bank[3][2]\n",
        " * bank[2][3] -- bank[3][2]\n",
        "Note that there is no beam between any device on the 0th row with any on the 3rd row.\n",
        "This is because the 2nd row contains security devices, which breaks the second condition.\n",
        "Example 2:\n",
        "\n",
        "\n",
        "Input: bank = [\"000\",\"111\",\"000\"]\n",
        "Output: 0\n",
        "Explanation: There does not exist two devices located on two different rows.\n",
        "\n",
        "\n",
        "Constraints:\n",
        "\n",
        "m == bank.length\n",
        "n == bank[i].length\n",
        "1 <= m, n <= 500\n",
        "bank[i][j] is either '0' or '1'."
      ],
      "metadata": {
        "id": "QVOpLM3bvLjd"
      }
    },
    {
      "cell_type": "code",
      "source": [
        "class Solution(object):\n",
        "    def numberOfBeams(self, bank):\n",
        "        \"\"\"\n",
        "        :type bank: List[str]\n",
        "        :rtype: int\n",
        "        \"\"\"\n",
        "        result = prev = 0\n",
        "        for x in bank:\n",
        "            cnt = x.count('1')\n",
        "            if not cnt:\n",
        "                continue\n",
        "            result += prev*cnt\n",
        "            prev = cnt\n",
        "        return result"
      ],
      "metadata": {
        "id": "GMgtcte0vRCF"
      },
      "execution_count": null,
      "outputs": []
    },
    {
      "cell_type": "markdown",
      "source": [
        "**73. Set Matrix Zeroes**\n",
        "\n",
        "Given an m x n integer matrix matrix, if an element is 0, set its entire row and column to 0's.\n",
        "\n",
        "You must do it in place.\n",
        "\n",
        "\n",
        "\n",
        "Example 1:\n",
        "\n",
        "\n",
        "Input: matrix = [[1,1,1],[1,0,1],[1,1,1]]\n",
        "Output: [[1,0,1],[0,0,0],[1,0,1]]\n",
        "Example 2:\n",
        "\n",
        "\n",
        "Input: matrix = [[0,1,2,0],[3,4,5,2],[1,3,1,5]]\n",
        "Output: [[0,0,0,0],[0,4,5,0],[0,3,1,0]]\n",
        "\n",
        "\n",
        "Constraints:\n",
        "\n",
        "m == matrix.length\n",
        "n == matrix[0].length\n",
        "1 <= m, n <= 200\n",
        "-231 <= matrix[i][j] <= 231 - 1\n",
        "\n",
        "\n",
        "Follow up:\n",
        "\n",
        "A straightforward solution using O(mn) space is probably a bad idea.\n",
        "A simple improvement uses O(m + n) space, but still not the best solution.\n",
        "Could you devise a constant space solution?"
      ],
      "metadata": {
        "id": "RAcwiRa1x2GS"
      }
    },
    {
      "cell_type": "code",
      "source": [
        "class Solution(object):\n",
        "    def setZeroes(self, matrix):\n",
        "        \"\"\"\n",
        "        :type matrix: List[List[int]]\n",
        "        :rtype: void Do not return anything, modify matrix in-place instead.\n",
        "        \"\"\"\n",
        "        if matrix == None or len(matrix) == 0:\n",
        "            pass\n",
        "        elif len(matrix) == 1 and len(matrix[0]) == 1:\n",
        "            pass\n",
        "        else:\n",
        "            rows_with_0 = [False]*len(matrix)\n",
        "            cols_with_0 = [False]*len(matrix[0])\n",
        "            for i in range(len(matrix)):\n",
        "                for j in range(len(matrix[0])):\n",
        "                    if matrix[i][j] == 0:\n",
        "                        rows_with_0[i] = True\n",
        "                        cols_with_0[j] = True\n",
        "\n",
        "            for i in range(len(matrix)):\n",
        "                for j in range(len(matrix[0])):\n",
        "                    if rows_with_0[i] or cols_with_0[j]:\n",
        "                        matrix[i][j] = 0"
      ],
      "metadata": {
        "id": "JJweKX6X0ydF"
      },
      "execution_count": null,
      "outputs": []
    },
    {
      "cell_type": "markdown",
      "source": [
        "**289. Game of Life**\n",
        "\n",
        "According to Wikipedia's article: \"The Game of Life, also known simply as Life, is a cellular automaton devised by the British mathematician John Horton Conway in 1970.\"\n",
        "\n",
        "The board is made up of an m x n grid of cells, where each cell has an initial state: live (represented by a 1) or dead (represented by a 0). Each cell interacts with its eight neighbors (horizontal, vertical, diagonal) using the following four rules (taken from the above Wikipedia article):\n",
        "\n",
        "Any live cell with fewer than two live neighbors dies as if caused by under-population.\n",
        "Any live cell with two or three live neighbors lives on to the next generation.\n",
        "Any live cell with more than three live neighbors dies, as if by over-population.\n",
        "Any dead cell with exactly three live neighbors becomes a live cell, as if by reproduction.\n",
        "The next state is created by applying the above rules simultaneously to every cell in the current state, where births and deaths occur simultaneously. Given the current state of the m x n grid board, return the next state.\n",
        "\n",
        "\n",
        "\n",
        "Example 1:\n",
        "\n",
        "\n",
        "Input: board = [[0,1,0],[0,0,1],[1,1,1],[0,0,0]]\n",
        "Output: [[0,0,0],[1,0,1],[0,1,1],[0,1,0]]\n",
        "Example 2:\n",
        "\n",
        "\n",
        "Input: board = [[1,1],[1,0]]\n",
        "Output: [[1,1],[1,1]]\n",
        "\n",
        "\n",
        "Constraints:\n",
        "\n",
        "m == board.length\n",
        "n == board[i].length\n",
        "1 <= m, n <= 25\n",
        "board[i][j] is 0 or 1.\n",
        "\n",
        "\n",
        "Follow up:\n",
        "\n",
        "Could you solve it in-place? Remember that the board needs to be updated simultaneously: You cannot update some cells first and then use their updated values to update other cells.\n",
        "In this question, we represent the board using a 2D array. In principle, the board is infinite, which would cause problems when the active area encroaches upon the border of the array (i.e., live cells reach the border). How would you address these problems?"
      ],
      "metadata": {
        "id": "eAvcJcxR1xqP"
      }
    },
    {
      "cell_type": "code",
      "source": [
        "class Solution(object):\n",
        "    def gameOfLife(self, board):\n",
        "        \"\"\"\n",
        "        :type board: List[List[int]]\n",
        "        :rtype: void Do not return anything, modify board in-place instead.\n",
        "        \"\"\"\n",
        "        for row in range(len(board)):\n",
        "            for col in range(len(board[row])):\n",
        "                liveCount = sum( (board[r][c] & 1) for r in range(row-1,row+2) for c in range(col-1,col+2)\n",
        "                                 if (r,c) != (row,col) and 0<=r<len(board) and 0<=c<len(board[r]) )\n",
        "\n",
        "                thisLive = ( board[row][col] and liveCount==2 ) or liveCount==3\n",
        "                if thisLive:\n",
        "                    board[row][col] |= 2\n",
        "\n",
        "\n",
        "        for row in range(len(board)):\n",
        "            for col in range(len(board[row])):\n",
        "                board[row][col] >>= 1"
      ],
      "metadata": {
        "id": "7A-pgBdJ12UK"
      },
      "execution_count": 1,
      "outputs": []
    },
    {
      "cell_type": "markdown",
      "source": [
        "**2611. Mice and Cheese**\n",
        "\n",
        "There are two mice and n different types of cheese, each type of cheese should be eaten by exactly one mouse.\n",
        "\n",
        "A point of the cheese with index i (0-indexed) is:\n",
        "\n",
        "reward1[i] if the first mouse eats it.\n",
        "reward2[i] if the second mouse eats it.\n",
        "You are given a positive integer array reward1, a positive integer array reward2, and a non-negative integer k.\n",
        "\n",
        "Return the maximum points the mice can achieve if the first mouse eats exactly k types of cheese.\n",
        "\n",
        "\n",
        "\n",
        "Example 1:\n",
        "\n",
        "Input: reward1 = [1,1,3,4], reward2 = [4,4,1,1], k = 2\n",
        "Output: 15\n",
        "Explanation: In this example, the first mouse eats the 2nd (0-indexed) and the 3rd types of cheese, and the second mouse eats the 0th and the 1st types of cheese.\n",
        "The total points are 4 + 4 + 3 + 4 = 15.\n",
        "It can be proven that 15 is the maximum total points that the mice can achieve.\n",
        "Example 2:\n",
        "\n",
        "Input: reward1 = [1,1], reward2 = [1,1], k = 2\n",
        "Output: 2\n",
        "Explanation: In this example, the first mouse eats the 0th (0-indexed) and 1st types of cheese, and the second mouse does not eat any cheese.\n",
        "The total points are 1 + 1 = 2.\n",
        "It can be proven that 2 is the maximum total points that the mice can achieve.\n",
        "\n",
        "\n",
        "Constraints:\n",
        "\n",
        "1 <= n == reward1.length == reward2.length <= 105\n",
        "1 <= reward1[i], reward2[i] <= 1000\n",
        "0 <= k <= n"
      ],
      "metadata": {
        "id": "flnCDykr3SOp"
      }
    },
    {
      "cell_type": "code",
      "source": [
        "class Solution(object):\n",
        "    def miceAndCheese(self, reward1, reward2, k):\n",
        "        \"\"\"\n",
        "        :type reward1: List[int]\n",
        "        :type reward2: List[int]\n",
        "        :type k: int\n",
        "        :rtype: int\n",
        "        \"\"\"\n",
        "        n = len(reward1)\n",
        "        idx = sorted(range(n), key=lambda i: reward1[i] - reward2[i], reverse=True)\n",
        "        return sum(reward1[i] for i in idx[:k]) + sum(reward2[i] for i in idx[k:])"
      ],
      "metadata": {
        "id": "ZrmLN0tU3e4L"
      },
      "execution_count": null,
      "outputs": []
    },
    {
      "cell_type": "markdown",
      "source": [
        "**198. House Robber**\n",
        "\n",
        "You are a professional robber planning to rob houses along a street. Each house has a certain amount of money stashed, the only constraint stopping you from robbing each of them is that adjacent houses have security systems connected and it will automatically contact the police if two adjacent houses were broken into on the same night.\n",
        "\n",
        "Given an integer array nums representing the amount of money of each house, return the maximum amount of money you can rob tonight without alerting the police.\n",
        "\n",
        "\n",
        "\n",
        "Example 1:\n",
        "\n",
        "Input: nums = [1,2,3,1]\n",
        "Output: 4\n",
        "Explanation: Rob house 1 (money = 1) and then rob house 3 (money = 3).\n",
        "Total amount you can rob = 1 + 3 = 4.\n",
        "Example 2:\n",
        "\n",
        "Input: nums = [2,7,9,3,1]\n",
        "Output: 12\n",
        "Explanation: Rob house 1 (money = 2), rob house 3 (money = 9) and rob house 5 (money = 1).\n",
        "Total amount you can rob = 2 + 9 + 1 = 12.\n",
        "\n",
        "\n",
        "Constraints:\n",
        "\n",
        "1 <= nums.length <= 100\n",
        "0 <= nums[i] <= 400"
      ],
      "metadata": {
        "id": "p6MYfRg85Tze"
      }
    },
    {
      "cell_type": "code",
      "source": [
        "class Solution(object):\n",
        "    def rob(self, nums):\n",
        "        \"\"\"\n",
        "        :type nums: List[int]\n",
        "        :rtype: int\n",
        "        \"\"\"\n",
        "        if not nums: return 0\n",
        "        size=len(nums)\n",
        "        if size < 3:\n",
        "            return max(nums)\n",
        "        dp=[0]*(size+1)\n",
        "        dp[1]=nums[0]\n",
        "        dp[2]=nums[1]\n",
        "        for i in range(2,size):\n",
        "            dp[i+1]=nums[i]+max(dp[i-2],dp[i-1])\n",
        "        return max(dp[-2],dp[-1])\n",
        ""
      ],
      "metadata": {
        "id": "RnGEYUzZ5ZZK"
      },
      "execution_count": null,
      "outputs": []
    },
    {
      "cell_type": "markdown",
      "source": [
        "**152. Maximum Product Subarray**\n",
        "\n",
        "Given an integer array nums, find a\n",
        "subarray\n",
        " that has the largest product, and return the product.\n",
        "\n",
        "The test cases are generated so that the answer will fit in a 32-bit integer.\n",
        "\n",
        "\n",
        "\n",
        "Example 1:\n",
        "\n",
        "Input: nums = [2,3,-2,4]\n",
        "Output: 6\n",
        "Explanation: [2,3] has the largest product 6.\n",
        "Example 2:\n",
        "\n",
        "Input: nums = [-2,0,-1]\n",
        "Output: 0\n",
        "Explanation: The result cannot be 2, because [-2,-1] is not a subarray.\n",
        "\n",
        "\n",
        "Constraints:\n",
        "\n",
        "1 <= nums.length <= 2 * 104\n",
        "-10 <= nums[i] <= 10\n",
        "The product of any prefix or suffix of nums is guaranteed to fit in a 32-bit integer."
      ],
      "metadata": {
        "id": "tZCcV_CW6ExK"
      }
    },
    {
      "cell_type": "code",
      "source": [
        "class Solution(object):\n",
        "    def maxProduct(self, nums):\n",
        "        \"\"\"\n",
        "        :type nums: List[int]\n",
        "        :rtype: int\n",
        "        \"\"\"\n",
        "        positive, negative = nums[0], nums[0]\n",
        "        result = nums[0]\n",
        "        for num in nums[1:]:\n",
        "            positive, negative = max(num, positive * num, negative * num), min(num,\n",
        "                                                                               positive * num, negative * num)\n",
        "            result = max(result, positive)\n",
        "        return result"
      ],
      "metadata": {
        "id": "pfhCIY-z6MHZ"
      },
      "execution_count": null,
      "outputs": []
    },
    {
      "cell_type": "markdown",
      "source": [
        "**213. House Robber II**\n",
        "\n",
        "You are a professional robber planning to rob houses along a street. Each house has a certain amount of money stashed. All houses at this place are arranged in a circle. That means the first house is the neighbor of the last one. Meanwhile, adjacent houses have a security system connected, and it will automatically contact the police if two adjacent houses were broken into on the same night.\n",
        "\n",
        "Given an integer array nums representing the amount of money of each house, return the maximum amount of money you can rob tonight without alerting the police.\n",
        "\n",
        "\n",
        "\n",
        "Example 1:\n",
        "\n",
        "Input: nums = [2,3,2]\n",
        "Output: 3\n",
        "Explanation: You cannot rob house 1 (money = 2) and then rob house 3 (money = 2), because they are adjacent houses.\n",
        "Example 2:\n",
        "\n",
        "Input: nums = [1,2,3,1]\n",
        "Output: 4\n",
        "Explanation: Rob house 1 (money = 1) and then rob house 3 (money = 3).\n",
        "Total amount you can rob = 1 + 3 = 4.\n",
        "Example 3:\n",
        "\n",
        "Input: nums = [1,2,3]\n",
        "Output: 3\n",
        "\n",
        "\n",
        "Constraints:\n",
        "\n",
        "1 <= nums.length <= 100\n",
        "0 <= nums[i] <= 1000"
      ],
      "metadata": {
        "id": "5hBWU6vD6tov"
      }
    },
    {
      "cell_type": "code",
      "source": [
        "class Solution:\n",
        "    def rob(self, nums):\n",
        "        \"\"\"\n",
        "        Two cases: cannot touch 1st element vs. cannot touch 2nd element.\n",
        "        There are two cases here 1) 1st element is included and last is not included 2) 1st is not included and last is\n",
        "        included.\n",
        "        :type nums: list\n",
        "        :rtype: int\n",
        "        \"\"\"\n",
        "        n = len(nums)\n",
        "        if n < 2:\n",
        "            return sum(nums)\n",
        "\n",
        "        # include first but exclude last\n",
        "        F = [0 for _ in xrange(n-1+2)]\n",
        "        for i in xrange(2, n+1):\n",
        "            F[i] = max(F[i-1], F[i-2]+nums[i-2])\n",
        "        ret = F[-1]\n",
        "\n",
        "        # exclude first but include last\n",
        "        F = [0 for _ in xrange(n-1+2)]\n",
        "        for i in xrange(2, n+1):\n",
        "            F[i] = max(F[i-1], F[i-2]+nums[i-1])\n",
        "\n",
        "        ret = max(ret, F[-1])\n",
        "        return ret"
      ],
      "metadata": {
        "id": "kFH-GAmh6xlF"
      },
      "execution_count": null,
      "outputs": []
    },
    {
      "cell_type": "markdown",
      "source": [
        "**53. Maximum Subarray**\n",
        "\n",
        "Given an integer array nums, find the\n",
        "subarray\n",
        " with the largest sum, and return its sum.\n",
        "\n",
        "\n",
        "\n",
        "Example 1:\n",
        "\n",
        "Input: nums = [-2,1,-3,4,-1,2,1,-5,4]\n",
        "Output: 6\n",
        "Explanation: The subarray [4,-1,2,1] has the largest sum 6.\n",
        "Example 2:\n",
        "\n",
        "Input: nums = [1]\n",
        "Output: 1\n",
        "Explanation: The subarray [1] has the largest sum 1.\n",
        "Example 3:\n",
        "\n",
        "Input: nums = [5,4,-1,7,8]\n",
        "Output: 23\n",
        "Explanation: The subarray [5,4,-1,7,8] has the largest sum 23.\n",
        "\n",
        "\n",
        "Constraints:\n",
        "\n",
        "1 <= nums.length <= 105\n",
        "-104 <= nums[i] <= 104"
      ],
      "metadata": {
        "id": "xJNo4Zrj7L4T"
      }
    },
    {
      "cell_type": "code",
      "source": [
        "class Solution(object):\n",
        "    def maxSubArray(self, nums):\n",
        "        \"\"\"\n",
        "        :type nums: List[int]\n",
        "        :rtype: int\n",
        "        \"\"\"\n",
        "        dp = [0]*len(nums)\n",
        "        dp[0] = nums[0]\n",
        "        max_num = nums[0]\n",
        "        for i in range(1, len(nums)):\n",
        "            dp[i] = max(dp[i-1]+nums[i], nums[i])\n",
        "            if dp[i]>max_num: max_num = dp[i]\n",
        "        return max_num"
      ],
      "metadata": {
        "id": "PgvOvrvU7P4U"
      },
      "execution_count": null,
      "outputs": []
    },
    {
      "cell_type": "markdown",
      "source": [
        "**713. Subarray Product Less Than K**\n",
        "\n",
        "Given an array of integers nums and an integer k, return the number of contiguous subarrays where the product of all the elements in the subarray is strictly less than k.\n",
        "\n",
        "\n",
        "\n",
        "Example 1:\n",
        "\n",
        "Input: nums = [10,5,2,6], k = 100\n",
        "Output: 8\n",
        "Explanation: The 8 subarrays that have product less than 100 are:\n",
        "[10], [5], [2], [6], [10, 5], [5, 2], [2, 6], [5, 2, 6]\n",
        "Note that [10, 5, 2] is not included as the product of 100 is not strictly less than k.\n",
        "Example 2:\n",
        "\n",
        "Input: nums = [1,2,3], k = 0\n",
        "Output: 0\n",
        "\n",
        "\n",
        "Constraints:\n",
        "\n",
        "1 <= nums.length <= 3 * 104\n",
        "1 <= nums[i] <= 1000\n",
        "0 <= k <= 106"
      ],
      "metadata": {
        "id": "I8VpQgf99OCV"
      }
    },
    {
      "cell_type": "code",
      "source": [
        "lass Solution(object):\n",
        "    def numSubarrayProductLessThanK(self, nums, k):\n",
        "        \"\"\"\n",
        "        :type nums: List[int]\n",
        "        :type k: int\n",
        "        :rtype: int\n",
        "        \"\"\"\n",
        "        if k <= 1:  # if k is 0 or 1, return 0 as no product of positive integers can be less than 1\n",
        "            return 0\n",
        "\n",
        "        ans = 0  # initialize counter variable\n",
        "        prod = 1  # initialize product variable\n",
        "        l = 0  # initialize left pointer\n",
        "\n",
        "        # use right pointer to traverse array\n",
        "        for r in range(0, len(nums)):\n",
        "            prod *= nums[r]\n",
        "            while prod >= k:  # shrink window from left if product is higher or equal to k\n",
        "                prod /= nums[l]\n",
        "                l += 1\n",
        "            ans += r - l + 1  # count the subarrays\n",
        "\n",
        "        return ans"
      ],
      "metadata": {
        "id": "X6c6l2I3_FUT"
      },
      "execution_count": null,
      "outputs": []
    },
    {
      "cell_type": "markdown",
      "source": [
        "**449. Serialize and Deserialize BST**\n",
        "\n",
        "Serialization is converting a data structure or object into a sequence of bits so that it can be stored in a file or memory buffer, or transmitted across a network connection link to be reconstructed later in the same or another computer environment.\n",
        "\n",
        "Design an algorithm to serialize and deserialize a binary search tree. There is no restriction on how your serialization/deserialization algorithm should work. You need to ensure that a binary search tree can be serialized to a string, and this string can be deserialized to the original tree structure.\n",
        "\n",
        "The encoded string should be as compact as possible.\n",
        "\n",
        "\n",
        "\n",
        "Example 1:\n",
        "\n",
        "Input: root = [2,1,3]\n",
        "Output: [2,1,3]\n",
        "Example 2:\n",
        "\n",
        "Input: root = []\n",
        "Output: []\n",
        "\n",
        "\n",
        "Constraints:\n",
        "\n",
        "The number of nodes in the tree is in the range [0, 104].\n",
        "0 <= Node.val <= 104\n",
        "The input tree is guaranteed to be a binary search tree."
      ],
      "metadata": {
        "id": "h-LXRIlo_h5I"
      }
    },
    {
      "cell_type": "code",
      "source": [
        "class Codec:\n",
        "\n",
        "    def serialize(self, root):\n",
        "        vals = []\n",
        "\n",
        "        def preOrder(node):\n",
        "            if node:\n",
        "                vals.append(node.val)\n",
        "                preOrder(node.left)\n",
        "                preOrder(node.right)\n",
        "\n",
        "        preOrder(root)\n",
        "\n",
        "        return ' '.join(map(str, vals))\n",
        "\n",
        "    # O( N ) since each val run build once\n",
        "    def deserialize(self, data):\n",
        "        vals = collections.deque(int(val) for val in data.split())\n",
        "\n",
        "        def build(minVal, maxVal):\n",
        "            if vals and minVal < vals[0] < maxVal:\n",
        "                val = vals.popleft()\n",
        "                node = TreeNode(val)\n",
        "                node.left = build(minVal, val)\n",
        "                node.right = build(val, maxVal)\n",
        "                return node\n",
        "\n",
        "        return build(float('-infinity'), float('infinity'))"
      ],
      "metadata": {
        "id": "zruI-iPb_nSD"
      },
      "execution_count": null,
      "outputs": []
    }
  ],
  "metadata": {
    "kernelspec": {
      "display_name": "Python 3 (ipykernel)",
      "language": "python",
      "name": "python3"
    },
    "language_info": {
      "codemirror_mode": {
        "name": "ipython",
        "version": 3
      },
      "file_extension": ".py",
      "mimetype": "text/x-python",
      "name": "python",
      "nbconvert_exporter": "python",
      "pygments_lexer": "ipython3",
      "version": "3.9.12"
    },
    "colab": {
      "provenance": [],
      "include_colab_link": true
    }
  },
  "nbformat": 4,
  "nbformat_minor": 0
}