{
  "nbformat": 4,
  "nbformat_minor": 0,
  "metadata": {
    "colab": {
      "provenance": [],
      "authorship_tag": "ABX9TyOLgyGNGC3K/5/d6+ufUcKO",
      "include_colab_link": true
    },
    "kernelspec": {
      "name": "python3",
      "display_name": "Python 3"
    },
    "language_info": {
      "name": "python"
    }
  },
  "cells": [
    {
      "cell_type": "markdown",
      "metadata": {
        "id": "view-in-github",
        "colab_type": "text"
      },
      "source": [
        "<a href=\"https://colab.research.google.com/github/Elizaluckianchikova/Homework-on-leetcode/blob/main/Homework_on_leetcode_2.ipynb\" target=\"_parent\"><img src=\"https://colab.research.google.com/assets/colab-badge.svg\" alt=\"Open In Colab\"/></a>"
      ]
    },
    {
      "cell_type": "markdown",
      "source": [
        "**1768. Merge Strings Alternately**\n",
        "\n",
        "You are given two strings word1 and word2. Merge the strings by adding letters in alternating order, starting with word1. If a string is longer than the other, append the additional letters onto the end of the merged string.\n",
        "\n",
        "Return the merged string.\n",
        "\n",
        "\n",
        "\n",
        "Example 1:\n",
        "\n",
        "Input: word1 = \"abc\", word2 = \"pqr\"\n",
        "Output: \"apbqcr\"\n",
        "Explanation: The merged string will be merged as so:\n",
        "word1:  a   b   c\n",
        "word2:    p   q   r\n",
        "merged: a p b q c r\n",
        "Example 2:\n",
        "\n",
        "Input: word1 = \"ab\", word2 = \"pqrs\"\n",
        "Output: \"apbqrs\"\n",
        "Explanation: Notice that as word2 is longer, \"rs\" is appended to the end.\n",
        "word1:  a   b\n",
        "word2:    p   q   r   s\n",
        "merged: a p b q   r   s\n",
        "Example 3:\n",
        "\n",
        "Input: word1 = \"abcd\", word2 = \"pq\"\n",
        "Output: \"apbqcd\"\n",
        "Explanation: Notice that as word1 is longer, \"cd\" is appended to the end.\n",
        "word1:  a   b   c   d\n",
        "word2:    p   q\n",
        "merged: a p b q c   d\n",
        "\n",
        "\n",
        "Constraints:\n",
        "\n",
        "1 <= word1.length, word2.length <= 100\n",
        "word1 and word2 consist of lowercase English letters"
      ],
      "metadata": {
        "id": "z_UY35F-1Cgz"
      }
    },
    {
      "cell_type": "code",
      "source": [
        "class Solution(object):\n",
        "    def mergeAlternately(self, word1, word2):\n",
        "        \"\"\"\n",
        "        :type word1: str\n",
        "        :type word2: str\n",
        "        :rtype: str\n",
        "        \"\"\"\n",
        "        return \"\".join(map(lambda x: x[0] + x[1], izip_longest(word1, word2, fillvalue=\"\")))"
      ],
      "metadata": {
        "id": "4StytyV11vML"
      },
      "execution_count": null,
      "outputs": []
    },
    {
      "cell_type": "markdown",
      "source": [
        "**1071. Greatest Common Divisor of Strings**\n",
        "\n",
        "For two strings s and t, we say \"t divides s\" if and only if s = t + ... + t (i.e., t is concatenated with itself one or more times).\n",
        "\n",
        "Given two strings str1 and str2, return the largest string x such that x divides both str1 and str2.\n",
        "\n",
        "\n",
        "\n",
        "Example 1:\n",
        "\n",
        "Input: str1 = \"ABCABC\", str2 = \"ABC\"\n",
        "Output: \"ABC\"\n",
        "Example 2:\n",
        "\n",
        "Input: str1 = \"ABABAB\", str2 = \"ABAB\"\n",
        "Output: \"AB\"\n",
        "Example 3:\n",
        "\n",
        "Input: str1 = \"LEET\", str2 = \"CODE\"\n",
        "Output: \"\"\n",
        "\n",
        "\n",
        "Constraints:\n",
        "\n",
        "1 <= str1.length, str2.length <= 1000\n",
        "str1 and str2 consist of English uppercase letters."
      ],
      "metadata": {
        "id": "tx6CxVOC10mq"
      }
    },
    {
      "cell_type": "code",
      "source": [
        "class Solution(object):\n",
        "    def gcdOfStrings(self, str1, str2):\n",
        "        \"\"\"\n",
        "        :type str1: str\n",
        "        :type str2: str\n",
        "        :rtype: str\n",
        "        \"\"\"\n",
        "        str1_len = len(str1)\n",
        "        str2_len = len(str2)\n",
        "        if str1_len < str2_len:\n",
        "            str1 , str2 = str2 , str1\n",
        "            str1_len, str2_len = str2_len, str1_len\n",
        "        if str1[0:str2_len] != str2:\n",
        "            return \"\"\n",
        "        if not str1[str2_len:]:\n",
        "            return str1\n",
        "        return self.gcdOfStrings(str2, str1[str2_len:])"
      ],
      "metadata": {
        "id": "LTNOCyu32nEv"
      },
      "execution_count": null,
      "outputs": []
    },
    {
      "cell_type": "markdown",
      "source": [
        "**605. Can Place Flowers**\n",
        "\n",
        "You have a long flowerbed in which some of the plots are planted, and some are not. However, flowers cannot be planted in adjacent plots.\n",
        "\n",
        "Given an integer array flowerbed containing 0's and 1's, where 0 means empty and 1 means not empty, and an integer n, return true if n new flowers can be planted in the flowerbed without violating the no-adjacent-flowers rule and false otherwise.\n",
        "\n",
        "\n",
        "\n",
        "Example 1:\n",
        "\n",
        "Input: flowerbed = [1,0,0,0,1], n = 1\n",
        "Output: true\n",
        "Example 2:\n",
        "\n",
        "Input: flowerbed = [1,0,0,0,1], n = 2\n",
        "Output: false\n",
        "\n",
        "\n",
        "Constraints:\n",
        "\n",
        "1 <= flowerbed.length <= 2 * 104\n",
        "flowerbed[i] is 0 or 1.\n",
        "There are no two adjacent flowers in flowerbed.\n",
        "0 <= n <= flowerbed.length"
      ],
      "metadata": {
        "id": "LKja0t3V3kfD"
      }
    },
    {
      "cell_type": "code",
      "source": [
        "class Solution(object):\n",
        "    def canPlaceFlowers(self, flowerbed, n):\n",
        "        \"\"\"\n",
        "        :type flowerbed: List[int]\n",
        "        :type n: int\n",
        "        :rtype: bool\n",
        "        \"\"\"\n",
        "        for i in xrange(len(flowerbed)):\n",
        "            if flowerbed[i] == 0 and (i == 0 or flowerbed[i-1] == 0) and \\\n",
        "                (i == len(flowerbed)-1 or flowerbed[i+1] == 0):\n",
        "                flowerbed[i] = 1\n",
        "                n -= 1\n",
        "            if n <= 0:\n",
        "                return True\n",
        "        return False"
      ],
      "metadata": {
        "id": "-S0w3sgT4Tc-"
      },
      "execution_count": null,
      "outputs": []
    },
    {
      "cell_type": "markdown",
      "source": [
        "**1431. Kids With the Greatest Number of Candies**\\\n",
        "There are n kids with candies. You are given an integer array candies, where each candies[i] represents the number of candies the ith kid has, and an integer extraCandies, denoting the number of extra candies that you have.\n",
        "\n",
        "Return a boolean array result of length n, where result[i] is true if, after giving the ith kid all the extraCandies, they will have the greatest number of candies among all the kids, or false otherwise.\n",
        "\n",
        "Note that multiple kids can have the greatest number of candies.\n",
        "\n",
        "\n",
        "\n",
        "Example 1:\n",
        "\n",
        "Input: candies = [2,3,5,1,3], extraCandies = 3\n",
        "Output: [true,true,true,false,true]\n",
        "Explanation: If you give all extraCandies to:\n",
        "- Kid 1, they will have 2 + 3 = 5 candies, which is the greatest among the kids.\n",
        "- Kid 2, they will have 3 + 3 = 6 candies, which is the greatest among the kids.\n",
        "- Kid 3, they will have 5 + 3 = 8 candies, which is the greatest among the kids.\n",
        "- Kid 4, they will have 1 + 3 = 4 candies, which is not the greatest among the kids.\n",
        "- Kid 5, they will have 3 + 3 = 6 candies, which is the greatest among the kids.\n",
        "Example 2:\n",
        "\n",
        "Input: candies = [4,2,1,1,2], extraCandies = 1\n",
        "Output: [true,false,false,false,false]\n",
        "Explanation: There is only 1 extra candy.\n",
        "Kid 1 will always have the greatest number of candies, even if a different kid is given the extra candy.\n",
        "Example 3:\n",
        "\n",
        "Input: candies = [12,1,12], extraCandies = 10\n",
        "Output: [true,false,true]\n",
        "\n",
        "\n",
        "Constraints:\n",
        "\n",
        "n == candies.length\n",
        "2 <= n <= 100\n",
        "1 <= candies[i] <= 100\n",
        "1 <= extraCandies <= 50"
      ],
      "metadata": {
        "id": "l2cvHPjV5MWU"
      }
    },
    {
      "cell_type": "code",
      "source": [
        "class Solution(object):\n",
        "    def kidsWithCandies(self, candies, extraCandies):\n",
        "        \"\"\"\n",
        "        :type candies: List[int]\n",
        "        :type extraCandies: int\n",
        "        :rtype: List[bool]\n",
        "        \"\"\"\n",
        "        candies_max = max(candies)\n",
        "        ret = [False for _ in candies]\n",
        "        for idx in xrange(len(candies)):\n",
        "            if candies[idx] - candies_max + extraCandies >= 0:\n",
        "                ret[idx] = True\n",
        "        return ret\n",
        ""
      ],
      "metadata": {
        "id": "w9BtFB1x55Bm"
      },
      "execution_count": null,
      "outputs": []
    },
    {
      "cell_type": "markdown",
      "source": [
        "**345. Reverse Vowels of a String**\n",
        "\n",
        "Given a string s, reverse only all the vowels in the string and return it.\n",
        "\n",
        "The vowels are 'a', 'e', 'i', 'o', and 'u', and they can appear in both lower and upper cases, more than once.\n",
        "\n",
        "\n",
        "\n",
        "Example 1:\n",
        "\n",
        "Input: s = \"hello\"\n",
        "Output: \"holle\"\n",
        "Example 2:\n",
        "\n",
        "Input: s = \"leetcode\"\n",
        "Output: \"leotcede\"\n",
        "\n",
        "\n",
        "Constraints:\n",
        "\n",
        "1 <= s.length <= 3 * 105\n",
        "s consist of printable ASCII characters."
      ],
      "metadata": {
        "id": "MOMb8UaO8eKL"
      }
    },
    {
      "cell_type": "code",
      "source": [
        "class Solution(object):\n",
        "    def reverseVowels(self, s):\n",
        "        \"\"\"\n",
        "        :type s: str\n",
        "        :rtype: str\n",
        "        \"\"\"\n",
        "        vowels = \"aeiouAEIOU\"\n",
        "        i, j = 0, len(s) - 1\n",
        "        cs = list(s)\n",
        "        while i < j:\n",
        "            while i < j and cs[i] not in vowels:\n",
        "                i += 1\n",
        "            while i < j and cs[j] not in vowels:\n",
        "                j -= 1\n",
        "            if i < j:\n",
        "                cs[i], cs[j] = cs[j], cs[i]\n",
        "                i, j = i + 1, j - 1\n",
        "        return \"\".join(cs)"
      ],
      "metadata": {
        "id": "CzHFg-_58_el"
      },
      "execution_count": null,
      "outputs": []
    },
    {
      "cell_type": "markdown",
      "source": [
        "**151. Reverse Words in a String**\n",
        "Given an input string s, reverse the order of the words.\n",
        "\n",
        "A word is defined as a sequence of non-space characters. The words in s will be separated by at least one space.\n",
        "\n",
        "Return a string of the words in reverse order concatenated by a single space.\n",
        "\n",
        "Note that s may contain leading or trailing spaces or multiple spaces between two words. The returned string should only have a single space separating the words. Do not include any extra spaces.\n",
        "\n",
        "\n",
        "\n",
        "Example 1:\n",
        "\n",
        "Input: s = \"the sky is blue\"\n",
        "Output: \"blue is sky the\"\n",
        "Example 2:\n",
        "\n",
        "Input: s = \"  hello world  \"\n",
        "Output: \"world hello\"\n",
        "Explanation: Your reversed string should not contain leading or trailing spaces.\n",
        "Example 3:\n",
        "\n",
        "Input: s = \"a good   example\"\n",
        "Output: \"example good a\"\n",
        "Explanation: You need to reduce multiple spaces between two words to a single space in the reversed string.\n",
        "\n",
        "\n",
        "Constraints:\n",
        "\n",
        "1 <= s.length <= 104\n",
        "s contains English letters (upper-case and lower-case), digits, and spaces ' '.\n",
        "There is at least one word in s\n"
      ],
      "metadata": {
        "id": "F2bERv3r9Lgs"
      }
    },
    {
      "cell_type": "code",
      "source": [
        "class Solution(object):\n",
        "    def reverseWords(self, s):\n",
        "        \"\"\"\n",
        "        :type s: str\n",
        "        :rtype: str\n",
        "        \"\"\"\n",
        "        return ' '.join(s.split()[::-1])"
      ],
      "metadata": {
        "id": "ESrGhK2E9hBy"
      },
      "execution_count": null,
      "outputs": []
    },
    {
      "cell_type": "markdown",
      "source": [
        "**238. Product of Array Except Self**\n",
        "\n",
        "Given an integer array nums, return an array answer such that answer[i] is equal to the product of all the elements of nums except nums[i].\n",
        "\n",
        "The product of any prefix or suffix of nums is guaranteed to fit in a 32-bit integer.\n",
        "\n",
        "You must write an algorithm that runs in O(n) time and without using the division operation.\n",
        "\n",
        "\n",
        "\n",
        "Example 1:\n",
        "\n",
        "Input: nums = [1,2,3,4]\n",
        "Output: [24,12,8,6]\n",
        "Example 2:\n",
        "\n",
        "Input: nums = [-1,1,0,-3,3]\n",
        "Output: [0,0,9,0,0]\n",
        "\n",
        "\n",
        "Constraints:\n",
        "\n",
        "2 <= nums.length <= 105\n",
        "-30 <= nums[i] <= 30\n",
        "The product of any prefix or suffix of nums is guaranteed to fit in a 32-bit integer."
      ],
      "metadata": {
        "id": "jRmE32Rn-hGs"
      }
    },
    {
      "cell_type": "code",
      "source": [
        "#solution_1\n",
        "class Solution:\n",
        "  def productExceptSelf(self, nums):\n",
        "    n = len(nums)\n",
        "    ans = [1] * n\n",
        "\n",
        "    # Use ans as the prefix product array\n",
        "    for i in range(1, n):\n",
        "      ans[i] = ans[i - 1] * nums[i - 1]\n",
        "\n",
        "    suffix = 1  # Suffix product\n",
        "    for i, num in reversed(list(enumerate(nums))):\n",
        "      ans[i] *= suffix\n",
        "      suffix *= num\n",
        "\n",
        "    return ans"
      ],
      "metadata": {
        "id": "s4IHvDqD-wGX"
      },
      "execution_count": null,
      "outputs": []
    },
    {
      "cell_type": "code",
      "source": [
        "#solution_2\n",
        "class Solution:\n",
        "  def productExceptSelf(self, nums):\n",
        "    n = len(nums)\n",
        "    prefix = [1] * n  # Prefix product\n",
        "    suffix = [1] * n  # Suffix product\n",
        "\n",
        "    for i in range(1, n):\n",
        "      prefix[i] = prefix[i - 1] * nums[i - 1]\n",
        "\n",
        "    for i in reversed(range(n - 1)):\n",
        "      suffix[i] = suffix[i + 1] * nums[i + 1]\n",
        "\n",
        "    return [prefix[i] * suffix[i] for i in range(n)]"
      ],
      "metadata": {
        "id": "Fua1-c8G_fp8"
      },
      "execution_count": null,
      "outputs": []
    },
    {
      "cell_type": "markdown",
      "source": [
        "**334. Increasing Triplet Subsequence**\n",
        "\n",
        "Given an integer array nums, return true if there exists a triple of indices (i, j, k) such that i < j < k and nums[i] < nums[j] < nums[k]. If no such indices exists, return false.\n",
        "\n",
        "\n",
        "\n",
        "Example 1:\n",
        "\n",
        "Input: nums = [1,2,3,4,5]\n",
        "Output: true\n",
        "Explanation: Any triplet where i < j < k is valid.\n",
        "Example 2:\n",
        "\n",
        "Input: nums = [5,4,3,2,1]\n",
        "Output: false\n",
        "Explanation: No triplet exists.\n",
        "Example 3:\n",
        "\n",
        "Input: nums = [2,1,5,0,4,6]\n",
        "Output: true\n",
        "Explanation: The triplet (3, 4, 5) is valid because nums[3] == 0 < nums[4] == 4 < nums[5] == 6.\n",
        "\n",
        "\n",
        "Constraints:\n",
        "\n",
        "1 <= nums.length <= 5 * 105\n",
        "-231 <= nums[i] <= 231 - 1"
      ],
      "metadata": {
        "id": "I20sxcITAEIC"
      }
    },
    {
      "cell_type": "code",
      "source": [
        "class Solution(object):\n",
        "    def increasingTriplet(self, nums):\n",
        "        \"\"\"\n",
        "        :type nums: List[int]\n",
        "        :rtype: bool\n",
        "        \"\"\"\n",
        "        first, second = float('inf'), float('inf')\n",
        "        for num in nums:\n",
        "            if num <= first:\n",
        "                first = num\n",
        "            elif num <= second:\n",
        "                second = num\n",
        "            else:\n",
        "                return True\n",
        "        return False"
      ],
      "metadata": {
        "id": "cwDlAuclANl2"
      },
      "execution_count": null,
      "outputs": []
    },
    {
      "cell_type": "markdown",
      "source": [
        "**443. String Compression**\n",
        "\n",
        "Given an array of characters chars, compress it using the following algorithm:\n",
        "\n",
        "Begin with an empty string s. For each group of consecutive repeating characters in chars:\n",
        "\n",
        "If the group's length is 1, append the character to s.\n",
        "Otherwise, append the character followed by the group's length.\n",
        "The compressed string s should not be returned separately, but instead, be stored in the input character array chars. Note that group lengths that are 10 or longer will be split into multiple characters in chars.\n",
        "\n",
        "After you are done modifying the input array, return the new length of the array.\n",
        "\n",
        "You must write an algorithm that uses only constant extra space.\n",
        "\n",
        "\n",
        "\n",
        "Example 1:\n",
        "\n",
        "Input: chars = [\"a\",\"a\",\"b\",\"b\",\"c\",\"c\",\"c\"]\n",
        "Output: Return 6, and the first 6 characters of the input array should be: [\"a\",\"2\",\"b\",\"2\",\"c\",\"3\"]\n",
        "Explanation: The groups are \"aa\", \"bb\", and \"ccc\". This compresses to \"a2b2c3\".\n",
        "Example 2:\n",
        "\n",
        "Input: chars = [\"a\"]\n",
        "Output: Return 1, and the first character of the input array should be: [\"a\"]\n",
        "Explanation: The only group is \"a\", which remains uncompressed since it's a single character.\n",
        "Example 3:\n",
        "\n",
        "Input: chars = [\"a\",\"b\",\"b\",\"b\",\"b\",\"b\",\"b\",\"b\",\"b\",\"b\",\"b\",\"b\",\"b\"]\n",
        "Output: Return 4, and the first 4 characters of the input array should be: [\"a\",\"b\",\"1\",\"2\"].\n",
        "Explanation: The groups are \"a\" and \"bbbbbbbbbbbb\". This compresses to \"ab12\".\n",
        "\n",
        "\n",
        "Constraints:\n",
        "\n",
        "1 <= chars.length <= 2000\n",
        "chars[i] is a lowercase English letter, uppercase English letter, digit, or symbol."
      ],
      "metadata": {
        "id": "sc5N8AoqBRU1"
      }
    },
    {
      "cell_type": "code",
      "source": [
        "class Solution:\n",
        "    def compress(self, chars):\n",
        "        \"\"\"\n",
        "        :type chars: List[str]\n",
        "        :rtype: int\n",
        "        \"\"\"\n",
        "        here = 0 # start replacing from here\n",
        "        i = 0 # iterator\n",
        "        while i < len(chars): #iterate through array\n",
        "            char = chars[i] # current character\n",
        "            length = 1 # current characters length\n",
        "            while i+1 < len(chars) and char == chars[i+1]: # the last char\n",
        "                length += 1 # increase current chars length\n",
        "                i += 1  # increment pointer/iterator\n",
        "            chars[here] = char # replace the character at poisition with current char\n",
        "            if length > 1: # only replace if current char is seen more than once\n",
        "                len_str = str(length)\n",
        "                chars[here+1:here + 1 + len(str(length))] = str(length) # here to there = length = repeat length of current char\n",
        "                here += len(str(length)) # if length > 10, replace it as \"1\", \"0\" so \"there\" value changes\n",
        "            here += 1 # if no repetitions, move on to the next char\n",
        "            i += 1 # incrementing the iterator\n",
        "        #print(chars[:here])\n",
        "        return here"
      ],
      "metadata": {
        "id": "1pDOlllAB-Qc"
      },
      "execution_count": null,
      "outputs": []
    },
    {
      "cell_type": "markdown",
      "source": [
        "**283. Move Zeroes**\n",
        "\n",
        "Given an integer array nums, move all 0's to the end of it while maintaining the relative order of the non-zero elements.\n",
        "\n",
        "Note that you must do this in-place without making a copy of the array.\n",
        "\n",
        "\n",
        "\n",
        "Example 1:\n",
        "\n",
        "Input: nums = [0,1,0,3,12]\n",
        "Output: [1,3,12,0,0]\n",
        "Example 2:\n",
        "\n",
        "Input: nums = [0]\n",
        "Output: [0]\n",
        "\n",
        "\n",
        "Constraints:\n",
        "\n",
        "1 <= nums.length <= 104\n",
        "-231 <= nums[i] <= 231 - 1\n",
        "\n"
      ],
      "metadata": {
        "id": "BToEYi-C457C"
      }
    },
    {
      "cell_type": "code",
      "source": [
        "lass Solution(object):\n",
        "    def moveZeroes(self, nums):\n",
        "        \"\"\"\n",
        "        Two pointers at the left side\n",
        "        Pivot\n",
        "        \"\"\"\n",
        "        left = -1\n",
        "        for i in xrange(len(nums)):\n",
        "            if nums[i] != 0:\n",
        "                left += 1\n",
        "                nums[left], nums[i] = nums[i], nums[left]"
      ],
      "metadata": {
        "id": "nHQI0zsI6K0w"
      },
      "execution_count": null,
      "outputs": []
    },
    {
      "cell_type": "markdown",
      "source": [
        "**392. Is Subsequence**\n",
        "\n",
        "Given two strings s and t, return true if s is a subsequence of t, or false otherwise.\n",
        "\n",
        "A subsequence of a string is a new string that is formed from the original string by deleting some (can be none) of the characters without disturbing the relative positions of the remaining characters. (i.e., \"ace\" is a subsequence of \"abcde\" while \"aec\" is not).\n",
        "\n",
        "\n",
        "\n",
        "Example 1:\n",
        "\n",
        "Input: s = \"abc\", t = \"ahbgdc\"\n",
        "Output: true\n",
        "Example 2:\n",
        "\n",
        "Input: s = \"axc\", t = \"ahbgdc\"\n",
        "Output: false\n",
        "\n",
        "\n",
        "Constraints:\n",
        "\n",
        "0 <= s.length <= 100\n",
        "0 <= t.length <= 104\n",
        "s and t consist only of lowercase English letters.\n",
        "\n"
      ],
      "metadata": {
        "id": "W3RcNiqr6L9w"
      }
    },
    {
      "cell_type": "code",
      "source": [
        "class Solution:\n",
        "    def isSubsequence(self, s, t):\n",
        "        i, j, m, n = 0, 0, len(s), len(t)\n",
        "        while i < m and j < n:\n",
        "            if s[i] == t[j]:\n",
        "                i += 1\n",
        "            j += 1\n",
        "        return i == m"
      ],
      "metadata": {
        "id": "_ti-T85B9YK3"
      },
      "execution_count": null,
      "outputs": []
    }
  ]
}