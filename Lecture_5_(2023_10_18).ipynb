{
  "cells": [
    {
      "cell_type": "markdown",
      "metadata": {
        "id": "view-in-github",
        "colab_type": "text"
      },
      "source": [
        "<a href=\"https://colab.research.google.com/github/Elizaluckianchikova/Homework-on-leetcode/blob/main/Lecture_5_(2023_10_18).ipynb\" target=\"_parent\"><img src=\"https://colab.research.google.com/assets/colab-badge.svg\" alt=\"Open In Colab\"/></a>"
      ]
    },
    {
      "cell_type": "markdown",
      "id": "09acbf4d",
      "metadata": {
        "id": "09acbf4d"
      },
      "source": [
        "# Lecture 5: Data Structures (build-in)\n",
        "\n",
        "> List\n",
        "\n",
        "> Tuple\n",
        "\n",
        "> Set\n",
        "\n",
        "> Dictionary"
      ]
    },
    {
      "cell_type": "code",
      "execution_count": 3,
      "id": "1e605032",
      "metadata": {
        "colab": {
          "base_uri": "https://localhost:8080/"
        },
        "id": "1e605032",
        "outputId": "1cb9ba68-4700-42f3-809c-8cba954063a2"
      },
      "outputs": [
        {
          "output_type": "stream",
          "name": "stdout",
          "text": [
            "['Hello', 'how', 'are', 'you', 'Contestant']\n",
            "['Hello', 'how', 'are', 'you']\n",
            "Hello how are you\n"
          ]
        }
      ],
      "source": [
        "# 1816. Truncate Sentence\n",
        "\n",
        "# input\n",
        "s = \"Hello how are you Contestant\"\n",
        "k = 4\n",
        "\n",
        "# solution\n",
        "print(s.split())                   # string -> list\n",
        "print(s.split()[0:k])              # slicing\n",
        "print(\" \".join(s.split()[0:k]))    # list -> string"
      ]
    },
    {
      "cell_type": "markdown",
      "id": "ea56f3cd",
      "metadata": {
        "id": "ea56f3cd"
      },
      "source": [
        "### List"
      ]
    },
    {
      "cell_type": "code",
      "execution_count": 4,
      "id": "18d47a11",
      "metadata": {
        "colab": {
          "base_uri": "https://localhost:8080/"
        },
        "id": "18d47a11",
        "outputId": "6c693811-3c6b-495d-b05a-7f5fd0daa835"
      },
      "outputs": [
        {
          "output_type": "stream",
          "name": "stdout",
          "text": [
            "['Hello', 'how', 'are', 'you']\n",
            "Hello\n",
            "how\n",
            "['how', 'are']\n"
          ]
        }
      ],
      "source": [
        "# index      0        1      2      3\n",
        "my_list = ['Hello', 'how', 'are', 'you']\n",
        "\n",
        "print(my_list)\n",
        "print(my_list[0])\n",
        "print(my_list[1])\n",
        "\n",
        "print(my_list[1:3])"
      ]
    },
    {
      "cell_type": "code",
      "execution_count": 5,
      "id": "fd747e52",
      "metadata": {
        "colab": {
          "base_uri": "https://localhost:8080/"
        },
        "id": "fd747e52",
        "outputId": "af7fe309-1bf0-4378-dcfd-87b08b05de91"
      },
      "outputs": [
        {
          "output_type": "stream",
          "name": "stdout",
          "text": [
            "['Hello', 'how', 'are', 'you', '?']\n"
          ]
        }
      ],
      "source": [
        "my_list.append(\"?\")\n",
        "print(my_list)"
      ]
    },
    {
      "cell_type": "code",
      "execution_count": 6,
      "id": "21799b82",
      "metadata": {
        "colab": {
          "base_uri": "https://localhost:8080/"
        },
        "id": "21799b82",
        "outputId": "cd170899-1092-452a-96ab-3427379810a2"
      },
      "outputs": [
        {
          "output_type": "stream",
          "name": "stdout",
          "text": [
            "['Hi', 'how', 'are', 'you', '?']\n"
          ]
        }
      ],
      "source": [
        "my_list[0] = \"Hi\"\n",
        "print(my_list)"
      ]
    },
    {
      "cell_type": "code",
      "execution_count": 7,
      "id": "896f0f30",
      "metadata": {
        "colab": {
          "base_uri": "https://localhost:8080/"
        },
        "id": "896f0f30",
        "outputId": "3ae022ea-299c-406e-d2a7-7a7dc2c0615a"
      },
      "outputs": [
        {
          "output_type": "stream",
          "name": "stdout",
          "text": [
            "[]\n"
          ]
        }
      ],
      "source": [
        "my_list_empty = []\n",
        "print(my_list_empty)"
      ]
    },
    {
      "cell_type": "code",
      "execution_count": 8,
      "id": "86f05c4f",
      "metadata": {
        "colab": {
          "base_uri": "https://localhost:8080/"
        },
        "id": "86f05c4f",
        "outputId": "2d120335-4349-40f3-efb8-d04f49d2d823"
      },
      "outputs": [
        {
          "output_type": "stream",
          "name": "stdout",
          "text": [
            "['how', 'are', 'you', '?']\n"
          ]
        }
      ],
      "source": [
        "del my_list[0]\n",
        "print(my_list)"
      ]
    },
    {
      "cell_type": "code",
      "execution_count": 9,
      "id": "e1f6fe53",
      "metadata": {
        "colab": {
          "base_uri": "https://localhost:8080/"
        },
        "id": "e1f6fe53",
        "outputId": "b77e38fb-cf94-4814-ba36-987dc5e1e1e8"
      },
      "outputs": [
        {
          "output_type": "stream",
          "name": "stdout",
          "text": [
            "4\n",
            "<class 'list'>\n"
          ]
        }
      ],
      "source": [
        "print(len(my_list))\n",
        "print(type(my_list))"
      ]
    },
    {
      "cell_type": "code",
      "execution_count": 10,
      "id": "6737c75f",
      "metadata": {
        "colab": {
          "base_uri": "https://localhost:8080/"
        },
        "id": "6737c75f",
        "outputId": "12b0d39e-4fbf-4b18-e26b-d51c12e9420c"
      },
      "outputs": [
        {
          "output_type": "stream",
          "name": "stdout",
          "text": [
            "how\n",
            "are\n",
            "you\n",
            "?\n"
          ]
        }
      ],
      "source": [
        "for i in range(len(my_list)):\n",
        "    print(my_list[i])"
      ]
    },
    {
      "cell_type": "code",
      "execution_count": 11,
      "id": "794b6270",
      "metadata": {
        "colab": {
          "base_uri": "https://localhost:8080/"
        },
        "id": "794b6270",
        "outputId": "1b708e41-3e5b-4fc4-9071-c07fb8e379ca"
      },
      "outputs": [
        {
          "output_type": "stream",
          "name": "stdout",
          "text": [
            "how\n",
            "are\n",
            "you\n",
            "?\n"
          ]
        }
      ],
      "source": [
        "for element in my_list:\n",
        "    print(element)"
      ]
    },
    {
      "cell_type": "code",
      "execution_count": 12,
      "id": "80f87d00",
      "metadata": {
        "colab": {
          "base_uri": "https://localhost:8080/"
        },
        "id": "80f87d00",
        "outputId": "1c18cfc9-562c-4554-cbe3-9dbd9b4e053f"
      },
      "outputs": [
        {
          "output_type": "stream",
          "name": "stdout",
          "text": [
            "Hello\n",
            "['Hello', 'how']\n"
          ]
        }
      ],
      "source": [
        "# index      0        1      2      3\n",
        "# index     -4       -3     -2     -1\n",
        "my_list = ['Hello', 'how', 'are', 'you']\n",
        "\n",
        "print(my_list[-4])\n",
        "print(my_list[-4:-2])"
      ]
    },
    {
      "cell_type": "code",
      "execution_count": 13,
      "id": "232376ac",
      "metadata": {
        "colab": {
          "base_uri": "https://localhost:8080/"
        },
        "id": "232376ac",
        "outputId": "f8c794cd-63b0-4bdb-e0a9-20a654b8a476"
      },
      "outputs": [
        {
          "output_type": "stream",
          "name": "stdout",
          "text": [
            "Hello\n",
            "how\n",
            "are\n",
            "you\n"
          ]
        }
      ],
      "source": [
        "# input\n",
        "my_list = ['Hello', 'how', 'are', 'you', \"?\"]\n",
        "my_list = ['Hello', 'how', 'are', 'you']\n",
        "\n",
        "# solution\n",
        "for i in range(len(my_list)):\n",
        "    print(my_list[i])"
      ]
    },
    {
      "cell_type": "code",
      "execution_count": 14,
      "id": "34fbf2bd",
      "metadata": {
        "colab": {
          "base_uri": "https://localhost:8080/"
        },
        "id": "34fbf2bd",
        "outputId": "4a636573-ee5d-484f-b673-99956c3bb9fa"
      },
      "outputs": [
        {
          "output_type": "stream",
          "name": "stdout",
          "text": [
            "[0, 1, 2, 3]\n"
          ]
        },
        {
          "output_type": "execute_result",
          "data": {
            "text/plain": [
              "4"
            ]
          },
          "metadata": {},
          "execution_count": 14
        }
      ],
      "source": [
        "print(list(range(4)))\n",
        "len(my_list)"
      ]
    },
    {
      "cell_type": "code",
      "execution_count": 15,
      "id": "f8c9c035",
      "metadata": {
        "colab": {
          "base_uri": "https://localhost:8080/"
        },
        "id": "f8c9c035",
        "outputId": "d42aa6ae-8c48-4eac-b132-26d9c7aec9c5"
      },
      "outputs": [
        {
          "output_type": "stream",
          "name": "stdout",
          "text": [
            "[0, 1, 2, 3, 4, 5, 6, 7, 8, 9]\n"
          ]
        }
      ],
      "source": [
        "print(list(range(10)))"
      ]
    },
    {
      "cell_type": "code",
      "execution_count": 16,
      "id": "8806696f",
      "metadata": {
        "colab": {
          "base_uri": "https://localhost:8080/"
        },
        "id": "8806696f",
        "outputId": "139ae3d8-5b81-4c29-a95d-75c514c3fe32"
      },
      "outputs": [
        {
          "output_type": "execute_result",
          "data": {
            "text/plain": [
              "range(0, 4)"
            ]
          },
          "metadata": {},
          "execution_count": 16
        }
      ],
      "source": [
        "range(len(my_list))"
      ]
    },
    {
      "cell_type": "code",
      "execution_count": 17,
      "id": "6052bcf4",
      "metadata": {
        "colab": {
          "base_uri": "https://localhost:8080/"
        },
        "id": "6052bcf4",
        "outputId": "97f5a330-d081-40ab-93c0-a448b8c59235"
      },
      "outputs": [
        {
          "output_type": "stream",
          "name": "stdout",
          "text": [
            "[1, 2, 3]\n",
            "134348767852800\n",
            "\n",
            "[1, 2, 3, 4]\n",
            "134348767852800\n"
          ]
        }
      ],
      "source": [
        "# list - изменяемая структура данных\n",
        "my_list = [1, 2, 3]\n",
        "print(my_list)\n",
        "print(id(my_list))\n",
        "\n",
        "print()\n",
        "my_list.append(4)\n",
        "print(my_list)\n",
        "print(id(my_list))"
      ]
    },
    {
      "cell_type": "code",
      "execution_count": 18,
      "id": "0172f4c6",
      "metadata": {
        "colab": {
          "base_uri": "https://localhost:8080/"
        },
        "id": "0172f4c6",
        "outputId": "87a67e43-cc21-42e5-9172-1009032d5a7a"
      },
      "outputs": [
        {
          "output_type": "stream",
          "name": "stdout",
          "text": [
            "3\n",
            "134349196214576\n",
            "\n",
            "15\n",
            "134349196214960\n"
          ]
        }
      ],
      "source": [
        "my_int = 3\n",
        "print(my_int)\n",
        "print(id(my_int))\n",
        "\n",
        "print()\n",
        "my_int += 12\n",
        "print(my_int)\n",
        "print(id(my_int))"
      ]
    },
    {
      "cell_type": "code",
      "execution_count": 19,
      "id": "f8b41c3b",
      "metadata": {
        "colab": {
          "base_uri": "https://localhost:8080/"
        },
        "id": "f8b41c3b",
        "outputId": "b7faf2dd-0fce-434e-9e21-19c8735e326a"
      },
      "outputs": [
        {
          "output_type": "stream",
          "name": "stdout",
          "text": [
            "[1, 2, 3]\n",
            "[1, 2, 3]\n",
            "\n",
            "[1, 2, 3, 4]\n",
            "[1, 2, 3, 4]\n"
          ]
        }
      ],
      "source": [
        "my_list = [1, 2, 3]\n",
        "print(my_list)\n",
        "\n",
        "my_list_1 = my_list\n",
        "print(my_list_1)\n",
        "\n",
        "print()\n",
        "my_list_1.append(4)\n",
        "print(my_list_1)\n",
        "print(my_list)"
      ]
    },
    {
      "cell_type": "code",
      "execution_count": 20,
      "id": "3eff8b86",
      "metadata": {
        "colab": {
          "base_uri": "https://localhost:8080/"
        },
        "id": "3eff8b86",
        "outputId": "388dfc93-f611-4f38-c18a-8a47ccd5609d"
      },
      "outputs": [
        {
          "output_type": "stream",
          "name": "stdout",
          "text": [
            "[1, 2, 3]\n",
            "[1, 2, 3]\n",
            "\n",
            "[1, 2, 3, 4]\n",
            "[1, 2, 3]\n"
          ]
        }
      ],
      "source": [
        "my_list = [1, 2, 3]\n",
        "print(my_list)\n",
        "\n",
        "my_list_1 = my_list.copy()\n",
        "print(my_list_1)\n",
        "\n",
        "print()\n",
        "my_list_1.append(4)\n",
        "print(my_list_1)\n",
        "print(my_list)"
      ]
    },
    {
      "cell_type": "markdown",
      "id": "3b2d1309",
      "metadata": {
        "id": "3b2d1309"
      },
      "source": [
        "### Tuple"
      ]
    },
    {
      "cell_type": "code",
      "execution_count": 21,
      "id": "75143bd9",
      "metadata": {
        "colab": {
          "base_uri": "https://localhost:8080/"
        },
        "id": "75143bd9",
        "outputId": "f2e40325-3223-4a89-ce75-8043f82f08cf"
      },
      "outputs": [
        {
          "output_type": "stream",
          "name": "stdout",
          "text": [
            "Понедельника\n",
            "('Понедельника', 'Вторника', 'Среды')\n",
            "\n",
            "Понедельника\n",
            "Вторника\n",
            "Среды\n",
            "Четверга\n",
            "Пятницы\n",
            "Субботы\n",
            "Воскресенья\n"
          ]
        }
      ],
      "source": [
        "weekday_list = ['Понедельника', 'Вторника', 'Среды', 'Четверга', 'Пятницы', 'Субботы', 'Воскресенья']\n",
        "weekday_tuple = ('Понедельника', 'Вторника', 'Среды', 'Четверга', 'Пятницы', 'Субботы', 'Воскресенья')\n",
        "\n",
        "print(weekday_tuple[0])\n",
        "print(weekday_tuple[0:3])\n",
        "\n",
        "print()\n",
        "for weekday in weekday_tuple:\n",
        "    print(weekday)"
      ]
    },
    {
      "cell_type": "code",
      "execution_count": 22,
      "id": "8e58ccf1",
      "metadata": {
        "colab": {
          "base_uri": "https://localhost:8080/"
        },
        "id": "8e58ccf1",
        "outputId": "e1acc3bf-41fc-49b9-ba61-cbebf769878f"
      },
      "outputs": [
        {
          "output_type": "stream",
          "name": "stdout",
          "text": [
            "()\n"
          ]
        }
      ],
      "source": [
        "my_tuple = ()\n",
        "print(my_tuple)"
      ]
    },
    {
      "cell_type": "code",
      "execution_count": 23,
      "id": "08859e8d",
      "metadata": {
        "colab": {
          "base_uri": "https://localhost:8080/"
        },
        "id": "08859e8d",
        "outputId": "9c6b822e-cfb6-4321-dcf6-ec2a02b7fa49"
      },
      "outputs": [
        {
          "output_type": "stream",
          "name": "stdout",
          "text": [
            "104\n",
            "80\n"
          ]
        }
      ],
      "source": [
        "print(weekday_list.__sizeof__())\n",
        "print(weekday_tuple.__sizeof__())"
      ]
    },
    {
      "cell_type": "markdown",
      "id": "20ce47f3",
      "metadata": {
        "id": "20ce47f3"
      },
      "source": [
        "## Set"
      ]
    },
    {
      "cell_type": "code",
      "execution_count": 24,
      "id": "0852c8f9",
      "metadata": {
        "colab": {
          "base_uri": "https://localhost:8080/"
        },
        "id": "0852c8f9",
        "outputId": "36eef9d4-7251-42d4-8dde-fa1195c01ea2"
      },
      "outputs": [
        {
          "output_type": "stream",
          "name": "stdout",
          "text": [
            "['Mask', 'Mask']\n",
            "('Mask', 'Mask')\n"
          ]
        }
      ],
      "source": [
        "my_list = [\"Mask\", \"Mask\"]\n",
        "print(my_list)\n",
        "\n",
        "my_tuple = (\"Mask\", \"Mask\")\n",
        "print(my_tuple)"
      ]
    },
    {
      "cell_type": "code",
      "execution_count": 25,
      "id": "3cd5e51e",
      "metadata": {
        "colab": {
          "base_uri": "https://localhost:8080/"
        },
        "id": "3cd5e51e",
        "outputId": "20ef6af1-c328-4ca5-a27c-9be4f8305d66"
      },
      "outputs": [
        {
          "output_type": "stream",
          "name": "stdout",
          "text": [
            "{1, 2, 3}\n",
            "{1, 2, 3, 4}\n",
            "{1, 2, 3, 4}\n"
          ]
        }
      ],
      "source": [
        "my_set = {1, 2, 3}\n",
        "print(my_set)\n",
        "\n",
        "my_set.add(4)\n",
        "print(my_set)\n",
        "\n",
        "my_set.add(2)\n",
        "print(my_set)"
      ]
    },
    {
      "cell_type": "code",
      "execution_count": 27,
      "id": "b5deb57a",
      "metadata": {
        "colab": {
          "base_uri": "https://localhost:8080/",
          "height": 175
        },
        "id": "b5deb57a",
        "outputId": "4b394ea4-1293-4ef3-9f93-d042159c7946"
      },
      "outputs": [
        {
          "output_type": "error",
          "ename": "TypeError",
          "evalue": "ignored",
          "traceback": [
            "\u001b[0;31m---------------------------------------------------------------------------\u001b[0m",
            "\u001b[0;31mTypeError\u001b[0m                                 Traceback (most recent call last)",
            "\u001b[0;32m<ipython-input-27-502d757570ee>\u001b[0m in \u001b[0;36m<cell line: 1>\u001b[0;34m()\u001b[0m\n\u001b[0;32m----> 1\u001b[0;31m \u001b[0mprint\u001b[0m\u001b[0;34m(\u001b[0m\u001b[0mmy_set\u001b[0m\u001b[0;34m[\u001b[0m\u001b[0;36m0\u001b[0m\u001b[0;34m]\u001b[0m\u001b[0;34m)\u001b[0m\u001b[0;34m\u001b[0m\u001b[0;34m\u001b[0m\u001b[0m\n\u001b[0m",
            "\u001b[0;31mTypeError\u001b[0m: 'set' object is not subscriptable"
          ]
        }
      ],
      "source": [
        "print(my_set[0])"
      ]
    },
    {
      "cell_type": "code",
      "execution_count": 28,
      "id": "01435632",
      "metadata": {
        "colab": {
          "base_uri": "https://localhost:8080/"
        },
        "id": "01435632",
        "outputId": "94f22f95-7d4c-4f7b-b1eb-51a8ce446141"
      },
      "outputs": [
        {
          "output_type": "stream",
          "name": "stdout",
          "text": [
            "1\n",
            "2\n",
            "3\n",
            "4\n"
          ]
        }
      ],
      "source": [
        "for element in my_set:\n",
        "    print(element)"
      ]
    },
    {
      "cell_type": "code",
      "execution_count": 29,
      "id": "34b61cbe",
      "metadata": {
        "colab": {
          "base_uri": "https://localhost:8080/"
        },
        "id": "34b61cbe",
        "outputId": "b2980922-4699-4ba2-f709-1f18766900d4"
      },
      "outputs": [
        {
          "output_type": "stream",
          "name": "stdout",
          "text": [
            "{1, 2, 3}\n",
            "134348769943936\n",
            "\n",
            "{1, 2, 3, 4}\n",
            "134348769943936\n"
          ]
        }
      ],
      "source": [
        "# set - изменяемая структура данных\n",
        "my_set = {1, 2, 3}\n",
        "print(my_set)\n",
        "print(id(my_set))\n",
        "\n",
        "print()\n",
        "my_set.add(4)\n",
        "print(my_set)\n",
        "print(id(my_set))"
      ]
    },
    {
      "cell_type": "markdown",
      "id": "c0d3700b",
      "metadata": {
        "id": "c0d3700b"
      },
      "source": [
        "### Dictionary"
      ]
    },
    {
      "cell_type": "code",
      "execution_count": 30,
      "id": "93e98218",
      "metadata": {
        "colab": {
          "base_uri": "https://localhost:8080/"
        },
        "id": "93e98218",
        "outputId": "877f363a-500c-4341-c4dd-fdcc9a727bf4"
      },
      "outputs": [
        {
          "output_type": "stream",
          "name": "stdout",
          "text": [
            "[[5, 10, 15], [20, 30, 40]]\n",
            "[5, 10, 15]\n"
          ]
        }
      ],
      "source": [
        "# index        -2            -1\n",
        "# index         0             1\n",
        "my_list = [[5, 10, 15], [20, 30, 40]]\n",
        "print(my_list)\n",
        "print(my_list[0])"
      ]
    },
    {
      "cell_type": "code",
      "execution_count": 31,
      "id": "92ac62fa",
      "metadata": {
        "colab": {
          "base_uri": "https://localhost:8080/"
        },
        "id": "92ac62fa",
        "outputId": "a471351c-9c8f-494a-f226-5b894bcfd198"
      },
      "outputs": [
        {
          "output_type": "stream",
          "name": "stdout",
          "text": [
            "[5, 10, 15]\n",
            "[5, 10, 15]\n"
          ]
        }
      ],
      "source": [
        "my_list = [[5, 10, 15], [20, 30, 40]]\n",
        "print(my_list[0])\n",
        "\n",
        "# пары key:value\n",
        "my_dict = {0: [5, 10, 15], 1: [20, 30, 40]}\n",
        "print(my_dict[0])"
      ]
    },
    {
      "cell_type": "code",
      "execution_count": 32,
      "id": "fd2f24bd",
      "metadata": {
        "colab": {
          "base_uri": "https://localhost:8080/"
        },
        "id": "fd2f24bd",
        "outputId": "122509b7-5dc0-4316-e852-95541067f2e9"
      },
      "outputs": [
        {
          "output_type": "stream",
          "name": "stdout",
          "text": [
            "['Биология', 'Прикладная математика', 'Информатика']\n"
          ]
        }
      ],
      "source": [
        "my_dict = {\n",
        "    \"MIPT\": [\"Биология\", \"Прикладная математика\", \"Информатика\"],\n",
        "    \"СПбГУ\": [\"Биология\", \"Прикладная математика\", \"Информатика\"]\n",
        "}\n",
        "\n",
        "print(my_dict[\"MIPT\"])"
      ]
    },
    {
      "cell_type": "code",
      "execution_count": 33,
      "id": "6e857096",
      "metadata": {
        "colab": {
          "base_uri": "https://localhost:8080/"
        },
        "id": "6e857096",
        "outputId": "18d34497-4eb5-4d13-b5db-4090e48fad25"
      },
      "outputs": [
        {
          "output_type": "stream",
          "name": "stdout",
          "text": [
            "{'MIPT': ['Биология', 'Прикладная математика', 'Информатика'], 'СПбГУ': ['Биология', 'Прикладная математика', 'Информатика']}\n",
            "\n",
            "{'MIPT': ['Биология', 'Прикладная математика', 'Информатика'], 'СПбГУ': ['Биология', 'Прикладная математика', 'Информатика'], 'MIPT_2': ['Вычислительная биология']}\n",
            "\n",
            "{'MIPT': ['Биология'], 'СПбГУ': ['Биология', 'Прикладная математика', 'Информатика'], 'MIPT_2': ['Вычислительная биология']}\n"
          ]
        }
      ],
      "source": [
        "print(my_dict)\n",
        "print()\n",
        "\n",
        "my_dict[\"MIPT_2\"] = [\"Вычислительная биология\"]\n",
        "print(my_dict)\n",
        "print()\n",
        "\n",
        "my_dict[\"MIPT\"] = [\"Биология\"]\n",
        "print(my_dict)"
      ]
    },
    {
      "cell_type": "code",
      "execution_count": 34,
      "id": "04128164",
      "metadata": {
        "colab": {
          "base_uri": "https://localhost:8080/"
        },
        "id": "04128164",
        "outputId": "4a751f03-b853-44b8-e8a2-1ed745b13672"
      },
      "outputs": [
        {
          "output_type": "stream",
          "name": "stdout",
          "text": [
            "{'MIPT': ['Биология'], 'СПбГУ': ['Биология', 'Прикладная математика', 'Информатика']}\n"
          ]
        }
      ],
      "source": [
        "del my_dict[\"MIPT_2\"]\n",
        "print(my_dict)"
      ]
    },
    {
      "cell_type": "code",
      "execution_count": 35,
      "id": "2e8143ad",
      "metadata": {
        "colab": {
          "base_uri": "https://localhost:8080/",
          "height": 192
        },
        "id": "2e8143ad",
        "outputId": "80c27993-0d6c-4385-f607-c5c845f7c1ae"
      },
      "outputs": [
        {
          "output_type": "error",
          "ename": "KeyError",
          "evalue": "ignored",
          "traceback": [
            "\u001b[0;31m---------------------------------------------------------------------------\u001b[0m",
            "\u001b[0;31mKeyError\u001b[0m                                  Traceback (most recent call last)",
            "\u001b[0;32m<ipython-input-35-b8a275dd8c99>\u001b[0m in \u001b[0;36m<cell line: 1>\u001b[0;34m()\u001b[0m\n\u001b[0;32m----> 1\u001b[0;31m \u001b[0;32mdel\u001b[0m \u001b[0mmy_dict\u001b[0m\u001b[0;34m[\u001b[0m\u001b[0;34m\"MIPT_2\"\u001b[0m\u001b[0;34m]\u001b[0m\u001b[0;34m\u001b[0m\u001b[0;34m\u001b[0m\u001b[0m\n\u001b[0m\u001b[1;32m      2\u001b[0m \u001b[0mprint\u001b[0m\u001b[0;34m(\u001b[0m\u001b[0mmy_dict\u001b[0m\u001b[0;34m)\u001b[0m\u001b[0;34m\u001b[0m\u001b[0;34m\u001b[0m\u001b[0m\n",
            "\u001b[0;31mKeyError\u001b[0m: 'MIPT_2'"
          ]
        }
      ],
      "source": [
        "del my_dict[\"MIPT_2\"]\n",
        "print(my_dict)"
      ]
    },
    {
      "cell_type": "markdown",
      "id": "5c44600d",
      "metadata": {
        "id": "5c44600d"
      },
      "source": [
        "# Homework"
      ]
    },
    {
      "cell_type": "code",
      "execution_count": 36,
      "id": "943777b3",
      "metadata": {
        "id": "943777b3"
      },
      "outputs": [],
      "source": [
        "# 1. Richest Customer Wealth (LeetCode: 1672)\n",
        "# https://leetcode.com/problems/richest-customer-wealth/description/\n",
        "\n",
        "# 2. Number of Good Pairs (LeetCode: 1512)\n",
        "# https://leetcode.com/problems/number-of-good-pairs/description/\n",
        "\n",
        "# 3. Check If Two String Arrays are Equivalent (LeetCode: 1662)\n",
        "# https://leetcode.com/problems/check-if-two-string-arrays-are-equivalent/description/\n",
        "\n",
        "# 4. Pascal's Triangle (LeetCode: 118)\n",
        "# https://leetcode.com/problems/pascals-triangle/\n",
        "\n",
        "# 5. Pascal's Triangle II (LeetCode: 119)\n",
        "# https://leetcode.com/problems/pascals-triangle-ii/\n",
        "\n",
        "# 6. Valid Anagram (LeetCode: 242)\n",
        "# https://leetcode.com/problems/valid-anagram/description/\n",
        "\n",
        "# 7. Find All Duplicates in an Array (LeetCode: 442)\n",
        "# https://leetcode.com/problems/find-all-duplicates-in-an-array/description/\n",
        "\n",
        "# 8. Check if All Characters Have Equal Number of Occurrences (LeetCode: 1941)\n",
        "# https://leetcode.com/problems/check-if-all-characters-have-equal-number-of-occurrences/\n",
        "\n",
        "# 9. Check if the Sentence Is Pangram (LeetCode: 1832)\n",
        "# https://leetcode.com/problems/check-if-the-sentence-is-pangram/\n",
        "\n",
        "# 10. Two Sum (LeetCode: 1)\n",
        "# https://leetcode.com/problems/two-sum/"
      ]
    },
    {
      "cell_type": "markdown",
      "source": [
        "**1672. Richest Customer Wealth**\n",
        "You are given an m x n integer grid accounts where accounts[i][j] is the amount of money the i​​​​​​​​​​​th​​​​ customer has in the j​​​​​​​​​​​th​​​​ bank. Return the wealth that the richest customer has.\n",
        "\n",
        "A customer's wealth is the amount of money they have in all their bank accounts. The richest customer is the customer that has the maximum wealth.\n",
        "\n",
        "\n",
        "\n",
        "Example 1:\n",
        "\n",
        "Input: accounts = [[1,2,3],[3,2,1]]\n",
        "Output: 6\n",
        "Explanation:\n",
        "1st customer has wealth = 1 + 2 + 3 = 6\n",
        "2nd customer has wealth = 3 + 2 + 1 = 6\n",
        "Both customers are considered the richest with a wealth of 6 each, so return 6.\n",
        "Example 2:\n",
        "\n",
        "Input: accounts = [[1,5],[7,3],[3,5]]\n",
        "Output: 10\n",
        "Explanation:\n",
        "1st customer has wealth = 6\n",
        "2nd customer has wealth = 10\n",
        "3rd customer has wealth = 8\n",
        "The 2nd customer is the richest with a wealth of 10.\n",
        "Example 3:\n",
        "\n",
        "Input: accounts = [[2,8,7],[7,1,3],[1,9,5]]\n",
        "Output: 17\n",
        "\n",
        "\n",
        "Constraints:\n",
        "\n",
        "m == accounts.length\n",
        "n == accounts[i].length\n",
        "1 <= m, n <= 50\n",
        "1 <= accounts[i][j] <= 100"
      ],
      "metadata": {
        "id": "XKjfG42ylxVO"
      },
      "id": "XKjfG42ylxVO"
    },
    {
      "cell_type": "code",
      "source": [
        "class Solution(object):\n",
        "    def maximumWealth(self, accounts):\n",
        "        \"\"\"\n",
        "        :type accounts: List[List[int]]\n",
        "        :rtype: int\n",
        "        \"\"\"\n",
        "        return max(sum(account) for account in accounts)"
      ],
      "metadata": {
        "id": "Pk9j3kOol8y0"
      },
      "id": "Pk9j3kOol8y0",
      "execution_count": null,
      "outputs": []
    },
    {
      "cell_type": "markdown",
      "source": [
        "**1512. Number of Good Pairs**\n",
        "\n",
        "Given an array of integers nums, return the number of good pairs.\n",
        "\n",
        "A pair (i, j) is called good if nums[i] == nums[j] and i < j.\n",
        "\n",
        "\n",
        "\n",
        "Example 1:\n",
        "\n",
        "Input: nums = [1,2,3,1,1,3]\n",
        "Output: 4\n",
        "Explanation: There are 4 good pairs (0,3), (0,4), (3,4), (2,5) 0-indexed.\n",
        "Example 2:\n",
        "\n",
        "Input: nums = [1,1,1,1]\n",
        "Output: 6\n",
        "Explanation: Each pair in the array are good.\n",
        "Example 3:\n",
        "\n",
        "Input: nums = [1,2,3]\n",
        "Output: 0\n",
        "\n",
        "\n",
        "Constraints:\n",
        "\n",
        "1 <= nums.length <= 100\n",
        "1 <= nums[i] <= 100"
      ],
      "metadata": {
        "id": "oJcjp0jPmDVO"
      },
      "id": "oJcjp0jPmDVO"
    },
    {
      "cell_type": "code",
      "execution_count": 36,
      "id": "dca04e8c",
      "metadata": {
        "id": "dca04e8c"
      },
      "outputs": [],
      "source": [
        "class Solution(object):\n",
        "    def numIdenticalPairs(self, nums):\n",
        "        \"\"\"\n",
        "        :type nums: List[int]\n",
        "        :rtype: int\n",
        "        \"\"\"\n",
        "        ans = 0\n",
        "        cnt = Counter()\n",
        "        for x in nums:\n",
        "            ans += cnt[x]\n",
        "            cnt[x] += 1\n",
        "        return ans"
      ]
    },
    {
      "cell_type": "markdown",
      "source": [
        "**1662. Check If Two String Arrays are Equivalent**\n",
        "\n",
        "Given two string arrays word1 and word2, return true if the two arrays represent the same string, and false otherwise.\n",
        "\n",
        "A string is represented by an array if the array elements concatenated in order forms the string.\n",
        "\n",
        "\n",
        "\n",
        "Example 1:\n",
        "\n",
        "Input: word1 = [\"ab\", \"c\"], word2 = [\"a\", \"bc\"]\n",
        "Output: true\n",
        "Explanation:\n",
        "word1 represents string \"ab\" + \"c\" -> \"abc\"\n",
        "word2 represents string \"a\" + \"bc\" -> \"abc\"\n",
        "The strings are the same, so return true.\n",
        "Example 2:\n",
        "\n",
        "Input: word1 = [\"a\", \"cb\"], word2 = [\"ab\", \"c\"]\n",
        "Output: false\n",
        "Example 3:\n",
        "\n",
        "Input: word1  = [\"abc\", \"d\", \"defg\"], word2 = [\"abcddefg\"]\n",
        "Output: true\n",
        "\n",
        "\n",
        "Constraints:\n",
        "\n",
        "1 <= word1.length, word2.length <= 103\n",
        "1 <= word1[i].length, word2[i].length <= 103\n",
        "1 <= sum(word1[i].length), sum(word2[i].length) <= 103\n",
        "word1[i] and word2[i] consist of lowercase letters."
      ],
      "metadata": {
        "id": "87qrDwfnofdb"
      },
      "id": "87qrDwfnofdb"
    },
    {
      "cell_type": "code",
      "source": [
        "#solution_1\n",
        "class Solution(object):\n",
        "    def arrayStringsAreEqual(self, word1, word2):\n",
        "        \"\"\"\n",
        "        :type word1: List[str]\n",
        "        :type word2: List[str]\n",
        "        :rtype: bool\n",
        "        \"\"\"\n",
        "        return ''.join(word1) == ''.join(word2)"
      ],
      "metadata": {
        "id": "UnQB1X0mojvd"
      },
      "id": "UnQB1X0mojvd",
      "execution_count": null,
      "outputs": []
    },
    {
      "cell_type": "code",
      "source": [
        "#solution_2\n",
        "class Solution(object):\n",
        "    def arrayStringsAreEqual(self, word1, word2):\n",
        "        \"\"\"\n",
        "        :type word1: List[str]\n",
        "        :type word2: List[str]\n",
        "        :rtype: bool\n",
        "        \"\"\"\n",
        "        i = j = x = y = 0\n",
        "        while i < len(word1) and j < len(word2):\n",
        "            if word1[i][x] != word2[j][y]:\n",
        "                return False\n",
        "            x, y = x + 1, y + 1\n",
        "            if x == len(word1[i]):\n",
        "                x, i = 0, i + 1\n",
        "            if y == len(word2[j]):\n",
        "                y, j = 0, j + 1\n",
        "        return i == len(word1) and j == len(word2)"
      ],
      "metadata": {
        "id": "lE7BySTbpDbB"
      },
      "id": "lE7BySTbpDbB",
      "execution_count": 38,
      "outputs": []
    },
    {
      "cell_type": "markdown",
      "source": [
        "**118. Pascal's Triangle**\n",
        "\n",
        "Given an integer numRows, return the first numRows of Pascal's triangle.\n",
        "\n",
        "In Pascal's triangle, each number is the sum of the two numbers directly above it as shown:\n",
        "\n",
        "\n",
        "\n",
        "\n",
        "Example 1:\n",
        "\n",
        "Input: numRows = 5\n",
        "Output: [[1],[1,1],[1,2,1],[1,3,3,1],[1,4,6,4,1]]\n",
        "Example 2:\n",
        "\n",
        "Input: numRows = 1\n",
        "Output: [[1]]\n",
        "\n",
        "\n",
        "Constraints:\n",
        "\n",
        "1 <= numRows <= 30"
      ],
      "metadata": {
        "id": "wFnUUTx5pW0t"
      },
      "id": "wFnUUTx5pW0t"
    },
    {
      "cell_type": "code",
      "source": [
        "class Solution:\n",
        "    def generate(self, numRows):\n",
        "        triangles = []\n",
        "        for i in range(numRows):\n",
        "            triangles.append([])\n",
        "            for j in range(i + 1):\n",
        "                if j == 0 or j == i:\n",
        "                    triangles[i].append(1)\n",
        "                else:\n",
        "                    triangles[i].append(triangles[i - 1][j - 1] + triangles[i - 1][j])\n",
        "        return triangles"
      ],
      "metadata": {
        "id": "E5govltSp-I6"
      },
      "id": "E5govltSp-I6",
      "execution_count": null,
      "outputs": []
    },
    {
      "cell_type": "markdown",
      "source": [
        "**242. Valid Anagram**\n",
        "\n",
        "Given two strings s and t, return true if t is an anagram of s, and false otherwise.\n",
        "\n",
        "An Anagram is a word or phrase formed by rearranging the letters of a different word or phrase, typically using all the original letters exactly once.\n",
        "\n",
        "\n",
        "\n",
        "Example 1:\n",
        "\n",
        "Input: s = \"anagram\", t = \"nagaram\"\n",
        "Output: true\n",
        "Example 2:\n",
        "\n",
        "Input: s = \"rat\", t = \"car\"\n",
        "Output: false\n",
        "\n",
        "\n",
        "Constraints:\n",
        "\n",
        "1 <= s.length, t.length <= 5 * 104\n",
        "s and t consist of lowercase English letters."
      ],
      "metadata": {
        "id": "CCYgty0jqvIk"
      },
      "id": "CCYgty0jqvIk"
    },
    {
      "cell_type": "code",
      "source": [
        "class Solution(object):\n",
        "    def isAnagram(self, s, t):\n",
        "        \"\"\"\n",
        "        :type s: str\n",
        "        :type t: str\n",
        "        :rtype: bool\n",
        "        \"\"\"\n",
        "        if len(s) != len(t):\n",
        "            return False\n",
        "\n",
        "        for l in set(s): # loop count <= 26\n",
        "            if s.count(l) != t.count(l):\n",
        "                return False\n",
        "\n",
        "        return True\n",
        ""
      ],
      "metadata": {
        "id": "boCujCEMqzKa"
      },
      "id": "boCujCEMqzKa",
      "execution_count": null,
      "outputs": []
    },
    {
      "cell_type": "markdown",
      "source": [
        "**442. Find All Duplicates in an Array**\n",
        "\n",
        "Given an integer array nums of length n where all the integers of nums are in the range [1, n] and each integer appears once or twice, return an array of all the integers that appears twice.\n",
        "\n",
        "You must write an algorithm that runs in O(n) time and uses only constant extra space.\n",
        "\n",
        "\n",
        "\n",
        "Example 1:\n",
        "\n",
        "Input: nums = [4,3,2,7,8,2,3,1]\n",
        "Output: [2,3]\n",
        "Example 2:\n",
        "\n",
        "Input: nums = [1,1,2]\n",
        "Output: [1]\n",
        "Example 3:\n",
        "\n",
        "Input: nums = [1]\n",
        "Output: []\n",
        "\n",
        "\n",
        "Constraints:\n",
        "\n",
        "n == nums.length\n",
        "1 <= n <= 105\n",
        "1 <= nums[i] <= n\n",
        "Each element in nums appears once or twice."
      ],
      "metadata": {
        "id": "R-cS72PHr6rk"
      },
      "id": "R-cS72PHr6rk"
    },
    {
      "cell_type": "code",
      "source": [
        "class Solution:\n",
        "    def findDuplicates(self, nums):\n",
        "        \"\"\"\n",
        "        :type nums: List[int]\n",
        "        :rtype: List[int]\n",
        "        \"\"\"\n",
        "        # 1 2 3 4 5 6\n",
        "        # 0 1 2 3 4 5\n",
        "        ans = []\n",
        "        for n in nums:\n",
        "            nums[abs(n) - 1] = -nums[abs(n) - 1]\n",
        "            if nums[abs(n) - 1] > 0:\n",
        "                ans.append(abs(n))\n",
        "        return ans"
      ],
      "metadata": {
        "id": "YMBpJv1DsPaf"
      },
      "id": "YMBpJv1DsPaf",
      "execution_count": null,
      "outputs": []
    },
    {
      "cell_type": "markdown",
      "source": [
        "**1941. Check if All Characters Have Equal Number of Occurrences**\n",
        "\n",
        "Given a string s, return true if s is a good string, or false otherwise.\n",
        "\n",
        "A string s is good if all the characters that appear in s have the same number of occurrences (i.e., the same frequency).\n",
        "\n",
        "\n",
        "\n",
        "Example 1:\n",
        "\n",
        "Input: s = \"abacbc\"\n",
        "Output: true\n",
        "Explanation: The characters that appear in s are 'a', 'b', and 'c'. All characters occur 2 times in s.\n",
        "Example 2:\n",
        "\n",
        "Input: s = \"aaabb\"\n",
        "Output: false\n",
        "Explanation: The characters that appear in s are 'a' and 'b'.\n",
        "'a' occurs 3 times while 'b' occurs 2 times, which is not the same number of times.\n",
        "\n",
        "\n",
        "Constraints:\n",
        "\n",
        "1 <= s.length <= 1000\n",
        "s consists of lowercase English letters."
      ],
      "metadata": {
        "id": "4qLzxbictDmN"
      },
      "id": "4qLzxbictDmN"
    },
    {
      "cell_type": "code",
      "source": [
        "class Solution(object):\n",
        "    def areOccurrencesEqual(self, s):\n",
        "        \"\"\"\n",
        "        :type s: str\n",
        "        :rtype: bool\n",
        "        \"\"\"\n",
        "        cnt = Counter(s)\n",
        "        return len(set(cnt.values())) == 1\n",
        ""
      ],
      "metadata": {
        "id": "pTdt-vAbtHWd"
      },
      "id": "pTdt-vAbtHWd",
      "execution_count": null,
      "outputs": []
    },
    {
      "cell_type": "markdown",
      "source": [
        "**1832. Check if the Sentence Is Pangram**\n",
        "\n",
        "A pangram is a sentence where every letter of the English alphabet appears at least once.\n",
        "\n",
        "Given a string sentence containing only lowercase English letters, return true if sentence is a pangram, or false otherwise.\n",
        "\n",
        "\n",
        "\n",
        "Example 1:\n",
        "\n",
        "Input: sentence = \"thequickbrownfoxjumpsoverthelazydog\"\n",
        "Output: true\n",
        "Explanation: sentence contains at least one of every letter of the English alphabet.\n",
        "Example 2:\n",
        "\n",
        "Input: sentence = \"leetcode\"\n",
        "Output: false\n",
        "\n",
        "\n",
        "Constraints:\n",
        "\n",
        "1 <= sentence.length <= 1000\n",
        "sentence consists of lowercase English letters."
      ],
      "metadata": {
        "id": "vUXRT_ynt5Q9"
      },
      "id": "vUXRT_ynt5Q9"
    },
    {
      "cell_type": "code",
      "source": [
        "class Solution(object):\n",
        "    def checkIfPangram(self, sentence):\n",
        "        \"\"\"\n",
        "        :type sentence: str\n",
        "        :rtype: bool\n",
        "        \"\"\"\n",
        "        return len(set(sentence)) == 26"
      ],
      "metadata": {
        "id": "BMy-m51ft9eI"
      },
      "id": "BMy-m51ft9eI",
      "execution_count": null,
      "outputs": []
    },
    {
      "cell_type": "markdown",
      "source": [
        "**1. Two Sum**\n",
        "\n",
        "Given an array of integers nums and an integer target, return indices of the two numbers such that they add up to target.\n",
        "\n",
        "You may assume that each input would have exactly one solution, and you may not use the same element twice.\n",
        "\n",
        "You can return the answer in any order.\n",
        "\n",
        "\n",
        "\n",
        "Example 1:\n",
        "\n",
        "Input: nums = [2,7,11,15], target = 9\n",
        "Output: [0,1]\n",
        "Explanation: Because nums[0] + nums[1] == 9, we return [0, 1].\n",
        "Example 2:\n",
        "\n",
        "Input: nums = [3,2,4], target = 6\n",
        "Output: [1,2]\n",
        "Example 3:\n",
        "\n",
        "Input: nums = [3,3], target = 6\n",
        "Output: [0,1]\n",
        "\n",
        "\n",
        "Constraints:\n",
        "\n",
        "2 <= nums.length <= 104\n",
        "-109 <= nums[i] <= 109\n",
        "-109 <= target <= 109\n",
        "Only one valid answer exists."
      ],
      "metadata": {
        "id": "fUcLlvIGu6AX"
      },
      "id": "fUcLlvIGu6AX"
    },
    {
      "cell_type": "code",
      "source": [
        "class Solution(object):\n",
        "    def twoSum(self, nums, target):\n",
        "        \"\"\"\n",
        "        :type nums: List[int]\n",
        "        :type target: int\n",
        "        :rtype: List[int]\n",
        "        \"\"\"\n",
        "        seen = {}\n",
        "        for i, num in enumerate(nums):\n",
        "\n",
        "            complement = target - num\n",
        "            if complement in seen:\n",
        "                return [seen[complement], i]\n",
        "            seen[num] = i\n",
        "        return None"
      ],
      "metadata": {
        "id": "rxIar18tu9Fn"
      },
      "id": "rxIar18tu9Fn",
      "execution_count": null,
      "outputs": []
    },
    {
      "cell_type": "markdown",
      "source": [
        "**167. Two Sum II - Input Array Is Sorted**\n",
        "\n",
        "Given a 1-indexed array of integers numbers that is already sorted in non-decreasing order, find two numbers such that they add up to a specific target number. Let these two numbers be numbers[index1] and numbers[index2] where 1 <= index1 < index2 < numbers.length.\n",
        "\n",
        "Return the indices of the two numbers, index1 and index2, added by one as an integer array [index1, index2] of length 2.\n",
        "\n",
        "The tests are generated such that there is exactly one solution. You may not use the same element twice.\n",
        "\n",
        "Your solution must use only constant extra space.\n",
        "\n",
        "\n",
        "\n",
        "Example 1:\n",
        "\n",
        "Input: numbers = [2,7,11,15], target = 9\n",
        "Output: [1,2]\n",
        "Explanation: The sum of 2 and 7 is 9. Therefore, index1 = 1, index2 = 2. We return [1, 2].\n",
        "Example 2:\n",
        "\n",
        "Input: numbers = [2,3,4], target = 6\n",
        "Output: [1,3]\n",
        "Explanation: The sum of 2 and 4 is 6. Therefore index1 = 1, index2 = 3. We return [1, 3].\n",
        "Example 3:\n",
        "\n",
        "Input: numbers = [-1,0], target = -1\n",
        "Output: [1,2]\n",
        "Explanation: The sum of -1 and 0 is -1. Therefore index1 = 1, index2 = 2. We return [1, 2].\n",
        "\n",
        "\n",
        "Constraints:\n",
        "\n",
        "2 <= numbers.length <= 3 * 104\n",
        "-1000 <= numbers[i] <= 1000\n",
        "numbers is sorted in non-decreasing order.\n",
        "-1000 <= target <= 1000\n",
        "The tests are generated such that there is exactly one solution."
      ],
      "metadata": {
        "id": "zi_1XZX6vs8T"
      },
      "id": "zi_1XZX6vs8T"
    },
    {
      "cell_type": "code",
      "source": [
        "class Solution(object):\n",
        "    def twoSum(self, numbers, target):\n",
        "        \"\"\"\n",
        "        :type numbers: List[int]\n",
        "        :type target: int\n",
        "        :rtype: List[int]\n",
        "        \"\"\"\n",
        "        i = 0\n",
        "        j = len(numbers) - 1\n",
        "\n",
        "        while i < j:\n",
        "            if numbers[i] + numbers[j] < target:\n",
        "                i += 1\n",
        "            elif numbers[i] + numbers[j] > target:\n",
        "                j -= 1\n",
        "            else:\n",
        "                return [i + 1, j + 1]\n",
        "\n",
        "\n",
        "        return []"
      ],
      "metadata": {
        "id": "ENq3-8SixR7g"
      },
      "id": "ENq3-8SixR7g",
      "execution_count": null,
      "outputs": []
    }
  ],
  "metadata": {
    "kernelspec": {
      "display_name": "Python 3 (ipykernel)",
      "language": "python",
      "name": "python3"
    },
    "language_info": {
      "codemirror_mode": {
        "name": "ipython",
        "version": 3
      },
      "file_extension": ".py",
      "mimetype": "text/x-python",
      "name": "python",
      "nbconvert_exporter": "python",
      "pygments_lexer": "ipython3",
      "version": "3.9.12"
    },
    "colab": {
      "provenance": [],
      "include_colab_link": true
    }
  },
  "nbformat": 4,
  "nbformat_minor": 5
}