{
  "nbformat": 4,
  "nbformat_minor": 0,
  "metadata": {
    "colab": {
      "provenance": [],
      "authorship_tag": "ABX9TyPvCE6dpY/evI9BPBcIt3iW",
      "include_colab_link": true
    },
    "kernelspec": {
      "name": "python3",
      "display_name": "Python 3"
    },
    "language_info": {
      "name": "python"
    }
  },
  "cells": [
    {
      "cell_type": "markdown",
      "metadata": {
        "id": "view-in-github",
        "colab_type": "text"
      },
      "source": [
        "<a href=\"https://colab.research.google.com/github/Elizaluckianchikova/Homework-on-leetcode/blob/main/Homework_on_leetcode_1.ipynb\" target=\"_parent\"><img src=\"https://colab.research.google.com/assets/colab-badge.svg\" alt=\"Open In Colab\"/></a>"
      ]
    },
    {
      "cell_type": "markdown",
      "source": [
        "**1480. Running Sum of 1d Array**\n",
        "\n",
        "Given an array nums. We define a running sum of an array as runningSum[i] = sum(nums[0]…nums[i]).\n",
        "\n",
        "Return the running sum of nums.\n",
        "\n",
        "\n",
        "\n",
        "Example 1:\n",
        "\n",
        "Input: nums = [1,2,3,4]\n",
        "Output: [1,3,6,10]\n",
        "Explanation: Running sum is obtained as follows: [1, 1+2, 1+2+3, 1+2+3+4].\n",
        "Example 2:\n",
        "\n",
        "Input: nums = [1,1,1,1,1]\n",
        "Output: [1,2,3,4,5]\n",
        "Explanation: Running sum is obtained as follows: [1, 1+1, 1+1+1, 1+1+1+1, 1+1+1+1+1].\n",
        "Example 3:\n",
        "\n",
        "Input: nums = [3,1,2,10,1]\n",
        "Output: [3,4,6,16,17]\n",
        "\n",
        "\n",
        "Constraints:\n",
        "\n",
        "1 <= nums.length <= 1000\n",
        "-10^6 <= nums[i] <= 10^6\n"
      ],
      "metadata": {
        "id": "XzBx77yVNIyK"
      }
    },
    {
      "cell_type": "code",
      "source": [
        "class Solution(object):\n",
        "    def runningSum(self, nums):\n",
        "        \"\"\"\n",
        "        :type nums: List[int]\n",
        "        :rtype: List[int]\n",
        "        \"\"\"\n",
        "        ans = []\n",
        "        cur_sum = 0\n",
        "        for num in nums:\n",
        "            cur_sum += num\n",
        "            ans.append(cur_sum)\n",
        "        return ans"
      ],
      "metadata": {
        "id": "dswsxAsjNXw5"
      },
      "execution_count": null,
      "outputs": []
    },
    {
      "cell_type": "markdown",
      "source": [
        "**1406. Stone Game III**\n",
        "\n",
        "Alice and Bob continue their games with piles of stones. There are several stones arranged in a row, and each stone has an associated value which is an integer given in the array stoneValue.\n",
        "\n",
        "Alice and Bob take turns, with Alice starting first. On each player's turn, that player can take 1, 2, or 3 stones from the first remaining stones in the row.\n",
        "\n",
        "The score of each player is the sum of the values of the stones taken. The score of each player is 0 initially.\n",
        "\n",
        "The objective of the game is to end with the highest score, and the winner is the player with the highest score and there could be a tie. The game continues until all the stones have been taken.\n",
        "\n",
        "Assume Alice and Bob play optimally.\n",
        "\n",
        "Return \"Alice\" if Alice will win, \"Bob\" if Bob will win, or \"Tie\" if they will end the game with the same score.\n",
        "\n",
        "\n",
        "\n",
        "Example 1:\n",
        "\n",
        "Input: stoneValue = [1,2,3,7]\n",
        "Output: \"Bob\"\n",
        "Explanation: Alice will always lose. Her best move will be to take three piles and the score become 6. Now the score of Bob is 7 and Bob wins.\n",
        "Example 2:\n",
        "\n",
        "Input: stoneValue = [1,2,3,-9]\n",
        "Output: \"Alice\"\n",
        "Explanation: Alice must choose all the three piles at the first move to win and leave Bob with negative score.\n",
        "If Alice chooses one pile her score will be 1 and the next move Bob's score becomes 5. In the next move, Alice will take the pile with value = -9 and lose.\n",
        "If Alice chooses two piles her score will be 3 and the next move Bob's score becomes 3. In the next move, Alice will take the pile with value = -9 and also lose.\n",
        "Remember that both play optimally so here Alice will choose the scenario that makes her win.\n",
        "Example 3:\n",
        "\n",
        "Input: stoneValue = [1,2,3,6]\n",
        "Output: \"Tie\"\n",
        "Explanation: Alice cannot win this game. She can end the game in a draw if she decided to choose all the first three piles, otherwise she will lose.\n",
        "\n",
        "\n",
        "Constraints:\n",
        "\n",
        "1 <= stoneValue.length <= 5 * 104\n",
        "-1000 <= stoneValue[i] <= 1000"
      ],
      "metadata": {
        "id": "gv7QTA_CN6Jl"
      }
    },
    {
      "cell_type": "code",
      "source": [
        "class Solution(object):\n",
        "    def stoneGameIII(self, stoneValue):\n",
        "        \"\"\"\n",
        "        :type stoneValue: List[int]\n",
        "        :rtype: str\n",
        "        \"\"\"\n",
        "        dp = [float(\"-inf\")]*3\n",
        "        dp[len(stoneValue)%3] = 0\n",
        "        for i in reversed(xrange(len(stoneValue))):\n",
        "            max_dp, curr = float(\"-inf\"), 0\n",
        "            for j in xrange(min(3, len(stoneValue)-i)):\n",
        "                curr += stoneValue[i+j]\n",
        "                max_dp = max(max_dp, curr-dp[(i+j+1)%3])\n",
        "            dp[i%3] = max_dp\n",
        "        return [\"Tie\", \"Alice\", \"Bob\"][cmp(dp[0], 0)]"
      ],
      "metadata": {
        "id": "NfXOWV63R5FN"
      },
      "execution_count": null,
      "outputs": []
    },
    {
      "cell_type": "markdown",
      "source": [
        "**1672. Richest Customer Wealth**\n",
        "\n",
        "You are given an m x n integer grid accounts where accounts[i][j] is the amount of money the i​​​​​​​​​​​th​​​​ customer has in the j​​​​​​​​​​​th​​​​ bank. Return the wealth that the richest customer has.\n",
        "\n",
        "A customer's wealth is the amount of money they have in all their bank accounts. The richest customer is the customer that has the maximum wealth.\n",
        "\n",
        "\n",
        "\n",
        "Example 1:\n",
        "\n",
        "Input: accounts = [[1,2,3],[3,2,1]]\n",
        "Output: 6\n",
        "Explanation:\n",
        "1st customer has wealth = 1 + 2 + 3 = 6\n",
        "2nd customer has wealth = 3 + 2 + 1 = 6\n",
        "Both customers are considered the richest with a wealth of 6 each, so return 6.\n",
        "Example 2:\n",
        "\n",
        "Input: accounts = [[1,5],[7,3],[3,5]]\n",
        "Output: 10\n",
        "Explanation:\n",
        "1st customer has wealth = 6\n",
        "2nd customer has wealth = 10\n",
        "3rd customer has wealth = 8\n",
        "The 2nd customer is the richest with a wealth of 10.\n",
        "Example 3:\n",
        "\n",
        "Input: accounts = [[2,8,7],[7,1,3],[1,9,5]]\n",
        "Output: 17\n",
        "\n",
        "\n",
        "Constraints:\n",
        "\n",
        "m == accounts.length\n",
        "n == accounts[i].length\n",
        "1 <= m, n <= 50\n",
        "1 <= accounts[i][j] <= 100"
      ],
      "metadata": {
        "id": "isPOxhHFSfcT"
      }
    },
    {
      "cell_type": "code",
      "source": [
        "class Solution(object):\n",
        "    def maximumWealth(self, accounts):\n",
        "        \"\"\"\n",
        "        :type accounts: List[List[int]]\n",
        "        :rtype: int\n",
        "        \"\"\"\n",
        "        mx = -1\n",
        "        for account in accounts:\n",
        "            mx = max(mx, sum(account))\n",
        "        return mx"
      ],
      "metadata": {
        "id": "nK8bfg83R81d"
      },
      "execution_count": null,
      "outputs": []
    },
    {
      "cell_type": "markdown",
      "source": [
        "**412. Fizz Buzz**\n",
        "\n",
        "Given an integer n, return a string array answer (1-indexed) where:\n",
        "\n",
        "answer[i] == \"FizzBuzz\" if i is divisible by 3 and 5.\n",
        "answer[i] == \"Fizz\" if i is divisible by 3.\n",
        "answer[i] == \"Buzz\" if i is divisible by 5.\n",
        "answer[i] == i (as a string) if none of the above conditions are true.\n",
        "\n",
        "\n",
        "Example 1:\n",
        "\n",
        "Input: n = 3\n",
        "Output: [\"1\",\"2\",\"Fizz\"]\n",
        "Example 2:\n",
        "\n",
        "Input: n = 5\n",
        "Output: [\"1\",\"2\",\"Fizz\",\"4\",\"Buzz\"]\n",
        "Example 3:\n",
        "\n",
        "Input: n = 15\n",
        "Output: [\"1\",\"2\",\"Fizz\",\"4\",\"Buzz\",\"Fizz\",\"7\",\"8\",\"Fizz\",\"Buzz\",\"11\",\"Fizz\",\"13\",\"14\",\"FizzBuzz\"]\n",
        "\n",
        "\n",
        "Constraints:\n",
        "\n",
        "1 <= n <= 104"
      ],
      "metadata": {
        "id": "k5dZchoWTHx1"
      }
    },
    {
      "cell_type": "code",
      "source": [
        "#solution_1\n",
        "class Solution(object):\n",
        "  def fizzBuzz(self, n):\n",
        "    \"\"\"\n",
        "    :type n: int\n",
        "    :rtype: List[str]\n",
        "    \"\"\"\n",
        "    ans = []\n",
        "    for i in range(1, n + 1):\n",
        "      stmt1 = i % 3 == 0\n",
        "      stmt2 = i % 5 == 0\n",
        "      if stmt1 and stmt2:\n",
        "        ans.append(\"FizzBuzz\")\n",
        "      elif stmt1:\n",
        "        ans.append(\"Fizz\")\n",
        "      elif stmt2:\n",
        "        ans.append(\"Buzz\")\n",
        "      else:\n",
        "        ans.append(str(i))\n",
        "\n",
        "    return ans"
      ],
      "metadata": {
        "id": "CeKWEv0GUaWi"
      },
      "execution_count": null,
      "outputs": []
    },
    {
      "cell_type": "code",
      "source": [
        "#solution_2\n",
        " print([1, 2, 'Fizz', 4, 'Buzz', 'Fizz', 7, 8, 'Fizz', 'Buzz', 11, 'Fizz', 13, 14, 'FizzBuzz', 16, 17, 'Fizz', 19, 'Buzz', 'Fizz', 22, 23, 'Fizz', 'Buzz', 26, 'Fizz', 28, 29, 'FizzBuzz', 31, 32, 'Fizz', 34, 'Buzz', 'Fizz', 37, 38, 'Fizz', 'Buzz', 41, 'Fizz', 43, 44, 'FizzBuzz', 46, 47, 'Fizz', 49, 'Buzz', 'Fizz', 52, 53, 'Fizz', 'Buzz', 56, 'Fizz', 58, 59, 'FizzBuzz', 61, 62, 'Fizz', 64, 'Buzz', 'Fizz', 67, 68, 'Fizz', 'Buzz', 71, 'Fizz', 73, 74, 'FizzBuzz', 76, 77, 'Fizz', 79, 'Buzz', 'Fizz', 82, 83, 'Fizz', 'Buzz', 86, 'Fizz', 88, 89, 'FizzBuzz', 91, 92, 'Fizz', 94, 'Buzz', 'Fizz', 97, 98, 'Fizz'])"
      ],
      "metadata": {
        "id": "6iZAZwwcab1X"
      },
      "execution_count": null,
      "outputs": []
    },
    {
      "cell_type": "code",
      "source": [
        "#solution_3\n",
        "class Solution:\n",
        "    def fizzBuzz(self, n: int) -> List[str]:\n",
        "        return [\"FizzBuzz\" if n % 15 == 0 else \"Fizz\" if n % 3 == 0 else \"Buzz\" if n % 5 == 0 else str(n) for n in range(1, n + 1)]"
      ],
      "metadata": {
        "id": "RNHwG1uDUkAk"
      },
      "execution_count": null,
      "outputs": []
    },
    {
      "cell_type": "markdown",
      "source": [
        "**1342. Number of Steps to Reduce a Number to Zero**\n",
        "\n",
        "Given an integer num, return the number of steps to reduce it to zero.\n",
        "\n",
        "In one step, if the current number is even, you have to divide it by 2, otherwise, you have to subtract 1 from it.\n",
        "\n",
        "\n",
        "\n",
        "Example 1:\n",
        "\n",
        "Input: num = 14\n",
        "Output: 6\n",
        "Explanation:\n",
        "Step 1) 14 is even; divide by 2 and obtain 7.\n",
        "Step 2) 7 is odd; subtract 1 and obtain 6.\n",
        "Step 3) 6 is even; divide by 2 and obtain 3.\n",
        "Step 4) 3 is odd; subtract 1 and obtain 2.\n",
        "Step 5) 2 is even; divide by 2 and obtain 1.\n",
        "Step 6) 1 is odd; subtract 1 and obtain 0.\n",
        "Example 2:\n",
        "\n",
        "Input: num = 8\n",
        "Output: 4\n",
        "Explanation:\n",
        "Step 1) 8 is even; divide by 2 and obtain 4.\n",
        "Step 2) 4 is even; divide by 2 and obtain 2.\n",
        "Step 3) 2 is even; divide by 2 and obtain 1.\n",
        "Step 4) 1 is odd; subtract 1 and obtain 0.\n",
        "Example 3:\n",
        "\n",
        "Input: num = 123\n",
        "Output: 12\n",
        "\n",
        "\n",
        "Constraints:\n",
        "\n",
        "0 <= num <= 106"
      ],
      "metadata": {
        "id": "foRfuwMEe0dK"
      }
    },
    {
      "cell_type": "code",
      "source": [
        "class Solution:\n",
        "    def numberOfSteps(self, num = int) :\n",
        "        ans = 0\n",
        "        while num:\n",
        "            if num & 1:\n",
        "                num -= 1\n",
        "            else:\n",
        "                num >>= 1\n",
        "            ans += 1\n",
        "        return ans\n"
      ],
      "metadata": {
        "id": "jWnFHJ7tfP8R"
      },
      "execution_count": null,
      "outputs": []
    },
    {
      "cell_type": "markdown",
      "source": [
        "**876. Middle of the Linked List**\n",
        "\n",
        "Given the head of a singly linked list, return the middle node of the linked list.\n",
        "\n",
        "If there are two middle nodes, return the second middle node.\n",
        "\n",
        "\n",
        "\n",
        "Example 1:\n",
        "\n",
        "\n",
        "Input: head = [1,2,3,4,5]\n",
        "Output: [3,4,5]\n",
        "Explanation: The middle node of the list is node 3.\n",
        "Example 2:\n",
        "\n",
        "\n",
        "Input: head = [1,2,3,4,5,6]\n",
        "Output: [4,5,6]\n",
        "Explanation: Since the list has two middle nodes with values 3 and 4, we return the second one.\n",
        "\n",
        "\n",
        "Constraints:\n",
        "\n",
        "The number of nodes in the list is in the range [1, 100].\n",
        "1 <= Node.val <= 100"
      ],
      "metadata": {
        "id": "xlLJWXXcfd35"
      }
    },
    {
      "cell_type": "code",
      "source": [
        "# Definition for singly-linked list.\n",
        "# class ListNode(object):\n",
        "#     def __init__(self, val=0, next=None):\n",
        "#         self.val = val\n",
        "#         self.next = next\n",
        "class Solution:\n",
        "  def middleNode(self, head):\n",
        "    slow = head\n",
        "    fast = head\n",
        "\n",
        "    while fast and fast.next:\n",
        "      slow = slow.next\n",
        "      fast = fast.next.next\n",
        "\n",
        "    return slow"
      ],
      "metadata": {
        "id": "t05drtAahml7"
      },
      "execution_count": null,
      "outputs": []
    },
    {
      "cell_type": "markdown",
      "source": [
        "**383. Ransom Note**\n",
        "Given two strings ransomNote and magazine, return true if ransomNote can be constructed by using the letters from magazine and false otherwise.\n",
        "\n",
        "Each letter in magazine can only be used once in ransomNote.\n",
        "\n",
        "\n",
        "\n",
        "Example 1:\n",
        "\n",
        "Input: ransomNote = \"a\", magazine = \"b\"\n",
        "Output: false\n",
        "Example 2:\n",
        "\n",
        "Input: ransomNote = \"aa\", magazine = \"ab\"\n",
        "Output: false\n",
        "Example 3:\n",
        "\n",
        "Input: ransomNote = \"aa\", magazine = \"aab\"\n",
        "Output: true\n",
        "\n",
        "\n",
        "Constraints:\n",
        "\n",
        "1 <= ransomNote.length, magazine.length <= 105\n",
        "ransomNote and magazine consist of lowercase English letters.\\\\"
      ],
      "metadata": {
        "id": "62xBuNZgh2Nt"
      }
    },
    {
      "cell_type": "code",
      "source": [
        "class Solution(object):\n",
        "    def canConstruct(self, ransomNote, magazine):\n",
        "        \"\"\"\n",
        "        :type ransomNote: str\n",
        "        :type magazine: str\n",
        "        :rtype: bool\n",
        "        \"\"\"\n",
        "        bitmap = [0]*26\n",
        "        for i in ransomNote:\n",
        "            bitmap[ord(i)-ord('a')] +=1\n",
        "\n",
        "        for i in magazine:\n",
        "            if bitmap[ord(i)-ord('a')] > 0:\n",
        "                bitmap[ord(i)-ord('a')] -= 1\n",
        "        return sum(bitmap) == 0"
      ],
      "metadata": {
        "id": "oVa6FG1viWO0"
      },
      "execution_count": null,
      "outputs": []
    }
  ]
}